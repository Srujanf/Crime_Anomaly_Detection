{
 "cells": [
  {
   "cell_type": "code",
   "execution_count": 1,
   "metadata": {
    "ExecuteTime": {
     "end_time": "2021-03-31T11:34:47.556905Z",
     "start_time": "2021-03-31T11:34:47.546900Z"
    }
   },
   "outputs": [],
   "source": [
    "import os"
   ]
  },
  {
   "cell_type": "code",
   "execution_count": 2,
   "metadata": {
    "ExecuteTime": {
     "end_time": "2021-03-31T11:34:48.181898Z",
     "start_time": "2021-03-31T11:34:47.559925Z"
    }
   },
   "outputs": [],
   "source": [
    "import numpy as np\n",
    "import matplotlib.pyplot as plt"
   ]
  },
  {
   "cell_type": "code",
   "execution_count": 3,
   "metadata": {
    "ExecuteTime": {
     "end_time": "2021-03-31T11:34:51.625474Z",
     "start_time": "2021-03-31T11:34:48.183899Z"
    }
   },
   "outputs": [],
   "source": [
    "import cv2\n",
    "import tensorflow as tf"
   ]
  },
  {
   "cell_type": "code",
   "execution_count": 4,
   "metadata": {},
   "outputs": [],
   "source": [
    "def setStateNormal(pred):\n",
    "    ret = None\n",
    "    if pred>0.5:\n",
    "        ret = \"Crime\"\n",
    "    else:\n",
    "        ret = \"Normal\"\n",
    "        \n",
    "    return f\"{ret} - {round(pred*100, 4)}%\"\n",
    "\n",
    "\n",
    "def ShowPredictions(buffer_size:int=90):\n",
    "\n",
    "    \n",
    "    buffer = []\n",
    "    prev_pred = \"State: NaN\"\n",
    "    \n",
    "    color = {\n",
    "        1: (255, 0, 0), # blue \n",
    "        2: (0, 255, 0), # green\n",
    "        3: (0, 0, 255), # red\n",
    "        4: (106, 0, 0), # dark blue\n",
    "        5: (0, 97, 0),  # dark green\n",
    "        6: (0, 0, 96)   # dark red\n",
    "    }\n",
    "    \n",
    "    multiplier=1\n",
    "    outSize=(320*multiplier, 240*multiplier)\n",
    "\n",
    "    cur_color = color[2]\n",
    "\n",
    "    cap = cv2.VideoCapture(0)\n",
    "\n",
    "    if cap.isOpened()==False:\n",
    "        print(\"Either file not found or wrong codec used\")\n",
    "\n",
    "    while cap.isOpened():\n",
    "\n",
    "        ret, frame = cap.read()\n",
    "\n",
    "        if ret==True:\n",
    "\n",
    "            # Make a copy of your frame and resize it to pass it to model\n",
    "            out = frame.copy()\n",
    "\n",
    "            out = cv2.cvtColor(out, cv2.COLOR_BGR2RGB)\n",
    "            out = cv2.resize(out, (320, 240)).astype(\"float32\")\n",
    "            pred = model.predict(np.expand_dims(out, axis=0))[0][0]\n",
    "\n",
    "            # if the buffer is not full yet, show the current frames prediction alone\n",
    "            if len(buffer)<buffer_size:\n",
    "                buffer.append(pred)\n",
    "                state = setStateNormal(pred)\n",
    "            # else show the rolling avg of the previous buffer_size frame's prediction \n",
    "            else:\n",
    "                buffer.pop(0)\n",
    "                buffer.append(pred)\n",
    "                state = setStateNormal(sum(buffer)/buffer_size)\n",
    "            prev_pred = state\n",
    "\n",
    "            frame = cv2.putText(frame, state, (0,20), cv2.FONT_HERSHEY_SIMPLEX, 0.6, cur_color, 2)\n",
    "\n",
    "            frame = cv2.resize(frame, outSize)\n",
    "            cv2.imshow('frame',frame)\n",
    "\n",
    "            if cv2.waitKey(1) & 0xFF==ord('q'):\n",
    "                print(f\"Prediction at last frame:\\n\")\n",
    "                plt.imshow(frame)\n",
    "                break\n",
    "\n",
    "        else:\n",
    "            break\n",
    "\n",
    "    cap.release()\n",
    "    cv2.destroyAllWindows()"
   ]
  },
  {
   "cell_type": "code",
   "execution_count": 5,
   "metadata": {},
   "outputs": [],
   "source": [
    "model = tf.keras.models.load_model(r\"../Models/model_x-y-21.h5\", compile=False)"
   ]
  },
  {
   "cell_type": "code",
   "execution_count": 6,
   "metadata": {},
   "outputs": [],
   "source": [
    "# ShowPredictions()"
   ]
  },
  {
   "cell_type": "code",
   "execution_count": 9,
   "metadata": {},
   "outputs": [
    {
     "name": "stdout",
     "output_type": "stream",
     "text": [
      "Either file not found or wrong codec used\n"
     ]
    }
   ],
   "source": [
    "import tkinter as tk\n",
    "from tkinter import filedialog\n",
    "import cv2\n",
    "from PIL import ImageTk, Image\n",
    "from modell import *\n",
    "import re\n",
    "\n",
    "window = tk.Toplevel()\n",
    "window.geometry(\"1500x1000\")\n",
    "window.title(\"Crime Anomaly Detection using Deep Learning\")\n",
    "\n",
    "video_file = \"vid2.mp4\"\n",
    "cap = cv2.VideoCapture(video_file)\n",
    "\n",
    "canvas = tk.Canvas(window, width=1500, height=1000)\n",
    "canvas.pack()\n",
    "\n",
    "def update_background():\n",
    "    ret, frame = cap.read()\n",
    "    if ret:\n",
    "        frame = cv2.cvtColor(frame, cv2.COLOR_BGR2RGB)\n",
    "        frame = cv2.resize(frame, (1500, 1000))  \n",
    "        image = ImageTk.PhotoImage(image=Image.fromarray(frame))\n",
    "        canvas.create_image(0, 0, anchor=\"nw\", image=image)\n",
    "        canvas.image = image\n",
    "        window.after(1, update_background)\n",
    "    else:\n",
    "        cap.set(cv2.CAP_PROP_POS_FRAMES, 0)  \n",
    "        window.after(1, update_background)\n",
    "\n",
    "update_background()\n",
    "\n",
    "title_label = tk.Label(window, text=\"Crime Anomaly Detection using Deep Learning\", font=(\"Arial\", 44, \"bold\"))\n",
    "title_label.place(relx=0.5, rely=0.1, anchor=\"center\")\n",
    "\n",
    "button = tk.Button(window, text=\"Real Time\", command=ShowPredictions, font=(\"Arial\", 30, \"bold\"), width=20, height=1)\n",
    "button.place(relx=0.7, rely=0.95, anchor=\"s\")\n",
    "\n",
    "button1 = tk.Button(window, text=\"Upload Video\", command=ShowPredictionss, font=(\"Arial\", 30, \"bold\"), width=20, height=1)\n",
    "button1.place(relx=0.3, rely=0.95, anchor=\"s\")\n",
    "\n",
    "\n",
    "window.mainloop()"
   ]
  },
  {
   "cell_type": "code",
   "execution_count": null,
   "metadata": {},
   "outputs": [],
   "source": []
  },
  {
   "cell_type": "code",
   "execution_count": null,
   "metadata": {},
   "outputs": [],
   "source": []
  },
  {
   "cell_type": "code",
   "execution_count": null,
   "metadata": {},
   "outputs": [],
   "source": []
  },
  {
   "cell_type": "code",
   "execution_count": null,
   "metadata": {},
   "outputs": [],
   "source": []
  },
  {
   "cell_type": "code",
   "execution_count": null,
   "metadata": {},
   "outputs": [],
   "source": []
  },
  {
   "cell_type": "code",
   "execution_count": null,
   "metadata": {},
   "outputs": [],
   "source": []
  },
  {
   "cell_type": "code",
   "execution_count": null,
   "metadata": {},
   "outputs": [],
   "source": []
  },
  {
   "cell_type": "code",
   "execution_count": null,
   "metadata": {},
   "outputs": [],
   "source": []
  }
 ],
 "metadata": {
  "kernelspec": {
   "display_name": "Project",
   "language": "python",
   "name": "myenv"
  },
  "language_info": {
   "codemirror_mode": {
    "name": "ipython",
    "version": 3
   },
   "file_extension": ".py",
   "mimetype": "text/x-python",
   "name": "python",
   "nbconvert_exporter": "python",
   "pygments_lexer": "ipython3",
   "version": "3.9.16"
  },
  "toc": {
   "base_numbering": 1,
   "nav_menu": {},
   "number_sections": false,
   "sideBar": true,
   "skip_h1_title": false,
   "title_cell": "Table of Contents",
   "title_sidebar": "Contents",
   "toc_cell": false,
   "toc_position": {},
   "toc_section_display": true,
   "toc_window_display": false
  }
 },
 "nbformat": 4,
 "nbformat_minor": 4
}
