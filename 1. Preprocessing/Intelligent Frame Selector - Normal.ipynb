{
 "cells": [
  {
   "cell_type": "code",
   "execution_count": 1,
   "metadata": {
    "ExecuteTime": {
     "end_time": "2021-03-28T05:22:47.775477Z",
     "start_time": "2021-03-28T05:22:47.516905Z"
    }
   },
   "outputs": [],
   "source": [
    "import os\n",
    "import cv2"
   ]
  },
  {
   "cell_type": "code",
   "execution_count": 2,
   "metadata": {
    "ExecuteTime": {
     "end_time": "2021-03-28T05:22:50.109269Z",
     "start_time": "2021-03-28T05:22:49.121482Z"
    }
   },
   "outputs": [],
   "source": [
    "from deepstack_sdk import ServerConfig, Detection\n",
    "config = ServerConfig(\"http://localhost:80\")\n",
    "detection = Detection(config)"
   ]
  },
  {
   "cell_type": "code",
   "execution_count": 6,
   "metadata": {
    "ExecuteTime": {
     "end_time": "2021-03-28T05:22:53.287541Z",
     "start_time": "2021-03-28T05:22:53.273547Z"
    }
   },
   "outputs": [],
   "source": [
    "def saveFrames(name):\n",
    "    person = False\n",
    "    cap = cv2.VideoCapture(f\"S://Academic//Final Year Project//crime-detection//Normal//{name}.mp4\")\n",
    "    i, n = 1, 30\n",
    "    j = 1\n",
    "    if cap.isOpened() == False:\n",
    "        print(\"Either file not found or wrong codec used\")\n",
    "    while cap.isOpened():\n",
    "        ret, frame = cap.read()\n",
    "        if ret == False:\n",
    "            break\n",
    "        if i%n==0:\n",
    "            i+=1\n",
    "            response = detection.detectObject(frame,output=None)\n",
    "            for obj in response:\n",
    "                if obj.label==\"person\" and obj.confidence>0.70:\n",
    "                    cv2.imwrite(f'S://Academic//Final Year Project//crime-detection//Frames//Normal//{name}_fr{str(j)}.jpg',frame)\n",
    "                    j+=1\n",
    "                else:\n",
    "                    pass\n",
    "        else:\n",
    "            i+=1\n",
    "    cap.release()\n",
    "    cv2.destroyAllWindows()"
   ]
  },
  {
   "cell_type": "code",
   "execution_count": 8,
   "metadata": {
    "ExecuteTime": {
     "end_time": "2021-03-28T05:23:09.679942Z",
     "start_time": "2021-03-28T05:23:09.654940Z"
    }
   },
   "outputs": [
    {
     "name": "stdout",
     "output_type": "stream",
     "text": [
      "50\n"
     ]
    }
   ],
   "source": [
    "normal = [normal.split(\".\")[0] for normal in os.listdir(\"S://Academic//Final Year Project//crime-detection//Normal\")]\n",
    "print(len(normal))"
   ]
  },
  {
   "cell_type": "code",
   "execution_count": 9,
   "metadata": {
    "ExecuteTime": {
     "end_time": "2021-03-28T06:38:14.927569Z",
     "start_time": "2021-03-28T05:23:37.853177Z"
    },
    "cell_style": "center"
   },
   "outputs": [
    {
     "name": "stdout",
     "output_type": "stream",
     "text": [
      "1 file done.\n",
      "2 file done.\n",
      "3 file done.\n",
      "4 file done.\n",
      "5 file done.\n",
      "6 file done.\n",
      "7 file done.\n",
      "8 file done.\n",
      "9 file done.\n",
      "10 file done.\n",
      "11 file done.\n",
      "12 file done.\n",
      "13 file done.\n",
      "14 file done.\n",
      "15 file done.\n",
      "16 file done.\n",
      "17 file done.\n",
      "18 file done.\n",
      "19 file done.\n",
      "20 file done.\n",
      "21 file done.\n",
      "22 file done.\n",
      "23 file done.\n",
      "24 file done.\n",
      "25 file done.\n",
      "26 file done.\n",
      "27 file done.\n",
      "28 file done.\n",
      "29 file done.\n",
      "30 file done.\n",
      "31 file done.\n",
      "32 file done.\n",
      "33 file done.\n",
      "34 file done.\n",
      "35 file done.\n",
      "36 file done.\n",
      "37 file done.\n",
      "38 file done.\n",
      "39 file done.\n",
      "40 file done.\n",
      "41 file done.\n",
      "42 file done.\n",
      "43 file done.\n",
      "44 file done.\n",
      "45 file done.\n",
      "46 file done.\n",
      "47 file done.\n",
      "48 file done.\n",
      "49 file done.\n",
      "50 file done.\n"
     ]
    }
   ],
   "source": [
    "length = len(normal)\n",
    "i=1\n",
    "\n",
    "for norm in normal:\n",
    "    saveFrames(norm)\n",
    "    print(f\"{i} file done.\")\n",
    "    i+=1"
   ]
  },
  {
   "cell_type": "code",
   "execution_count": null,
   "metadata": {},
   "outputs": [],
   "source": []
  }
 ],
 "metadata": {
  "kernelspec": {
   "display_name": "Python 3",
   "language": "python",
   "name": "python3"
  },
  "language_info": {
   "codemirror_mode": {
    "name": "ipython",
    "version": 3
   },
   "file_extension": ".py",
   "mimetype": "text/x-python",
   "name": "python",
   "nbconvert_exporter": "python",
   "pygments_lexer": "ipython3",
   "version": "3.10.0"
  },
  "toc": {
   "base_numbering": 1,
   "nav_menu": {},
   "number_sections": false,
   "sideBar": true,
   "skip_h1_title": false,
   "title_cell": "Table of Contents",
   "title_sidebar": "Contents",
   "toc_cell": false,
   "toc_position": {},
   "toc_section_display": true,
   "toc_window_display": false
  }
 },
 "nbformat": 4,
 "nbformat_minor": 4
}
