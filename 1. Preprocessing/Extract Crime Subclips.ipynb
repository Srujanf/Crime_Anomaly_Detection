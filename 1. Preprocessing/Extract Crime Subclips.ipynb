{
 "cells": [
  {
   "cell_type": "code",
   "execution_count": 12,
   "metadata": {
    "ExecuteTime": {
     "end_time": "2021-03-29T10:22:35.713850Z",
     "start_time": "2021-03-29T10:22:35.233807Z"
    }
   },
   "outputs": [
    {
     "data": {
      "text/html": [
       "<div>\n",
       "<style scoped>\n",
       "    .dataframe tbody tr th:only-of-type {\n",
       "        vertical-align: middle;\n",
       "    }\n",
       "\n",
       "    .dataframe tbody tr th {\n",
       "        vertical-align: top;\n",
       "    }\n",
       "\n",
       "    .dataframe thead th {\n",
       "        text-align: right;\n",
       "    }\n",
       "</style>\n",
       "<table border=\"1\" class=\"dataframe\">\n",
       "  <thead>\n",
       "    <tr style=\"text-align: right;\">\n",
       "      <th></th>\n",
       "      <th>video</th>\n",
       "      <th>start</th>\n",
       "      <th>end</th>\n",
       "    </tr>\n",
       "  </thead>\n",
       "  <tbody>\n",
       "    <tr>\n",
       "      <th>0</th>\n",
       "      <td>Stealing002_x264.mp4</td>\n",
       "      <td>00:30</td>\n",
       "      <td>01:16</td>\n",
       "    </tr>\n",
       "    <tr>\n",
       "      <th>1</th>\n",
       "      <td>Stealing003_x264.mp4</td>\n",
       "      <td>01:24</td>\n",
       "      <td>01:29</td>\n",
       "    </tr>\n",
       "    <tr>\n",
       "      <th>2</th>\n",
       "      <td>Stealing004_x264.mp4</td>\n",
       "      <td>03:03</td>\n",
       "      <td>03:37</td>\n",
       "    </tr>\n",
       "    <tr>\n",
       "      <th>3</th>\n",
       "      <td>Stealing006_x264.mp4</td>\n",
       "      <td>00:29</td>\n",
       "      <td>01:40</td>\n",
       "    </tr>\n",
       "    <tr>\n",
       "      <th>4</th>\n",
       "      <td>Stealing007_x264.mp4</td>\n",
       "      <td>00:20</td>\n",
       "      <td>01:22</td>\n",
       "    </tr>\n",
       "  </tbody>\n",
       "</table>\n",
       "</div>"
      ],
      "text/plain": [
       "                  video  start    end\n",
       "0  Stealing002_x264.mp4  00:30  01:16\n",
       "1  Stealing003_x264.mp4  01:24  01:29\n",
       "2  Stealing004_x264.mp4  03:03  03:37\n",
       "3  Stealing006_x264.mp4  00:29  01:40\n",
       "4  Stealing007_x264.mp4  00:20  01:22"
      ]
     },
     "execution_count": 12,
     "metadata": {},
     "output_type": "execute_result"
    }
   ],
   "source": [
    "import os\n",
    "import pandas as pd\n",
    "\n",
    "crime = [crime for crime in os.listdir(r\"S:\\Academic\\Final Year Project\\crime-detection\\dataset\")]\n",
    "df = pd.read_csv(r\"S:\\Academic\\Final Year Project\\crime-detection\\1. Preprocessing\\All.csv\")\n",
    "df.head()"
   ]
  },
  {
   "cell_type": "code",
   "execution_count": 13,
   "metadata": {},
   "outputs": [
    {
     "data": {
      "text/plain": [
       "['Burglary001_x264.mp4',\n",
       " 'Burglary002_x264.mp4',\n",
       " 'Burglary003_x264.mp4',\n",
       " 'Burglary004_x264.mp4',\n",
       " 'Burglary005_x264.mp4',\n",
       " 'Burglary006_x264.mp4',\n",
       " 'Burglary007_x264.mp4',\n",
       " 'Burglary008_x264.mp4',\n",
       " 'Burglary009_x264.mp4',\n",
       " 'Burglary010_x264.mp4',\n",
       " 'Burglary011_x264.mp4',\n",
       " 'Burglary012_x264.mp4',\n",
       " 'Burglary013_x264.mp4',\n",
       " 'Burglary014_x264.mp4',\n",
       " 'Burglary015_x264.mp4',\n",
       " 'Burglary016_x264.mp4',\n",
       " 'Burglary017_x264.mp4',\n",
       " 'Burglary018_x264.mp4',\n",
       " 'Burglary019_x264.mp4',\n",
       " 'Burglary020_x264.mp4',\n",
       " 'Burglary021_x264.mp4',\n",
       " 'Burglary022_x264.mp4',\n",
       " 'Burglary023_x264.mp4',\n",
       " 'Burglary024_x264.mp4',\n",
       " 'Burglary025_x264.mp4',\n",
       " 'Burglary026_x264.mp4',\n",
       " 'Burglary027_x264.mp4',\n",
       " 'Burglary028_x264.mp4',\n",
       " 'Burglary029_x264.mp4',\n",
       " 'Burglary030_x264.mp4',\n",
       " 'Burglary031_x264.mp4',\n",
       " 'Burglary032_x264.mp4',\n",
       " 'Burglary033_x264.mp4',\n",
       " 'Burglary034_x264.mp4',\n",
       " 'Burglary035_x264.mp4',\n",
       " 'Burglary036_x264.mp4',\n",
       " 'Burglary037_x264.mp4',\n",
       " 'Burglary038_x264.mp4',\n",
       " 'Burglary039_x264.mp4',\n",
       " 'Burglary040_x264.mp4',\n",
       " 'Burglary041_x264.mp4',\n",
       " 'Burglary042_x264.mp4',\n",
       " 'Burglary043_x264.mp4',\n",
       " 'Burglary044_x264.mp4',\n",
       " 'Burglary045_x264.mp4',\n",
       " 'Burglary046_x264.mp4',\n",
       " 'Burglary047_x264.mp4',\n",
       " 'Burglary048_x264.mp4',\n",
       " 'Burglary049_x264.mp4',\n",
       " 'Burglary050_x264.mp4',\n",
       " 'Burglary051_x264.mp4',\n",
       " 'Burglary052_x264.mp4',\n",
       " 'Burglary053_x264.mp4',\n",
       " 'Burglary054_x264.mp4',\n",
       " 'Burglary055_x264.mp4',\n",
       " 'Burglary056_x264.mp4',\n",
       " 'Burglary057_x264.mp4',\n",
       " 'Burglary058_x264.mp4',\n",
       " 'Burglary059_x264.mp4',\n",
       " 'Burglary060_x264.mp4',\n",
       " 'Burglary061_x264.mp4',\n",
       " 'Burglary062_x264.mp4',\n",
       " 'Burglary063_x264.mp4',\n",
       " 'Burglary064_x264.mp4',\n",
       " 'Burglary065_x264.mp4',\n",
       " 'Burglary066_x264.mp4',\n",
       " 'Burglary067_x264.mp4',\n",
       " 'Burglary068_x264.mp4',\n",
       " 'Burglary069_x264.mp4',\n",
       " 'Burglary070_x264.mp4',\n",
       " 'Burglary071_x264.mp4',\n",
       " 'Burglary072_x264.mp4',\n",
       " 'Burglary073_x264.mp4',\n",
       " 'Burglary074_x264.mp4',\n",
       " 'Burglary075_x264.mp4',\n",
       " 'Burglary076_x264.mp4',\n",
       " 'Burglary077_x264.mp4',\n",
       " 'Burglary078_x264.mp4',\n",
       " 'Burglary079_x264.mp4',\n",
       " 'Burglary080_x264.mp4',\n",
       " 'Burglary081_x264.mp4',\n",
       " 'Burglary082_x264.mp4',\n",
       " 'Burglary083_x264.mp4',\n",
       " 'Burglary084_x264.mp4',\n",
       " 'Burglary085_x264.mp4',\n",
       " 'Burglary086_x264.mp4',\n",
       " 'Burglary087_x264.mp4',\n",
       " 'Burglary088_x264.mp4',\n",
       " 'Burglary089_x264.mp4',\n",
       " 'Burglary090_x264.mp4',\n",
       " 'Burglary091_x264.mp4',\n",
       " 'Burglary092_x264.mp4',\n",
       " 'Burglary093_x264.mp4',\n",
       " 'Burglary094_x264.mp4',\n",
       " 'Burglary095_x264.mp4',\n",
       " 'Burglary096_x264.mp4',\n",
       " 'Burglary097_x264.mp4',\n",
       " 'Burglary098_x264.mp4',\n",
       " 'Burglary099_x264.mp4',\n",
       " 'Burglary100_x264.mp4',\n",
       " 'Shoplifting001_x264.mp4',\n",
       " 'Shoplifting003_x264.mp4',\n",
       " 'Shoplifting004_x264.mp4',\n",
       " 'Shoplifting005_x264.mp4',\n",
       " 'Shoplifting006_x264.mp4',\n",
       " 'Shoplifting007_x264.mp4',\n",
       " 'Shoplifting008_x264.mp4',\n",
       " 'Shoplifting009_x264.mp4',\n",
       " 'Shoplifting010_x264.mp4',\n",
       " 'Shoplifting012_x264.mp4',\n",
       " 'Shoplifting013_x264.mp4',\n",
       " 'Shoplifting014_x264.mp4',\n",
       " 'Shoplifting015_x264.mp4',\n",
       " 'Shoplifting016_x264.mp4',\n",
       " 'Shoplifting017_x264.mp4',\n",
       " 'Shoplifting018_x264.mp4',\n",
       " 'Shoplifting019_x264.mp4',\n",
       " 'Shoplifting020_x264.mp4',\n",
       " 'Shoplifting021_x264.mp4',\n",
       " 'Shoplifting022_x264.mp4',\n",
       " 'Shoplifting024_x264.mp4',\n",
       " 'Shoplifting025_x264.mp4',\n",
       " 'Shoplifting026_x264.mp4',\n",
       " 'Shoplifting027_x264.mp4',\n",
       " 'Shoplifting028_x264.mp4',\n",
       " 'Shoplifting029_x264.mp4',\n",
       " 'Shoplifting030_x264.mp4',\n",
       " 'Shoplifting031_x264.mp4',\n",
       " 'Shoplifting032_x264.mp4',\n",
       " 'Shoplifting033_x264.mp4',\n",
       " 'Shoplifting034_x264.mp4',\n",
       " 'Shoplifting036_x264.mp4',\n",
       " 'Shoplifting037_x264.mp4',\n",
       " 'Shoplifting038_x264.mp4',\n",
       " 'Shoplifting039_x264.mp4',\n",
       " 'Shoplifting040_x264.mp4',\n",
       " 'Shoplifting041_x264.mp4',\n",
       " 'Shoplifting042_x264.mp4',\n",
       " 'Shoplifting043_x264.mp4',\n",
       " 'Shoplifting044_x264.mp4',\n",
       " 'Shoplifting045_x264.mp4',\n",
       " 'Shoplifting047_x264.mp4',\n",
       " 'Shoplifting048_x264.mp4',\n",
       " 'Shoplifting049_x264.mp4',\n",
       " 'Shoplifting050_x264.mp4',\n",
       " 'Shoplifting051_x264.mp4',\n",
       " 'Shoplifting052_x264.mp4',\n",
       " 'Shoplifting053_x264.mp4',\n",
       " 'Shoplifting054_x264.mp4',\n",
       " 'Shoplifting055_x264.mp4',\n",
       " 'Stealing002_x264.mp4',\n",
       " 'Stealing003_x264.mp4',\n",
       " 'Stealing004_x264.mp4',\n",
       " 'Stealing006_x264.mp4',\n",
       " 'Stealing007_x264.mp4',\n",
       " 'Stealing008_x264.mp4',\n",
       " 'Stealing009_x264.mp4',\n",
       " 'Stealing010_x264.mp4',\n",
       " 'Stealing011_x264.mp4',\n",
       " 'Stealing012_x264.mp4',\n",
       " 'Stealing013_x264.mp4',\n",
       " 'Stealing014_x264.mp4',\n",
       " 'Stealing015_x264.mp4',\n",
       " 'Stealing016_x264.mp4',\n",
       " 'Stealing017_x264.mp4',\n",
       " 'Stealing018_x264.mp4',\n",
       " 'Stealing019_x264.mp4',\n",
       " 'Stealing020_x264.mp4',\n",
       " 'Stealing021_x264.mp4',\n",
       " 'Stealing022_x264.mp4',\n",
       " 'Stealing023_x264.mp4',\n",
       " 'Stealing024_x264.mp4',\n",
       " 'Stealing025_x264.mp4',\n",
       " 'Stealing026_x264.mp4',\n",
       " 'Stealing027_x264.mp4',\n",
       " 'Stealing028_x264.mp4',\n",
       " 'Stealing029_x264.mp4',\n",
       " 'Stealing030_x264.mp4',\n",
       " 'Stealing031_x264.mp4',\n",
       " 'Stealing032_x264.mp4',\n",
       " 'Stealing035_x264.mp4',\n",
       " 'Stealing036_x264.mp4',\n",
       " 'Stealing037_x264.mp4',\n",
       " 'Stealing042_x264.mp4',\n",
       " 'Stealing043_x264.mp4',\n",
       " 'Stealing044_x264.mp4',\n",
       " 'Stealing045_x264.mp4',\n",
       " 'Stealing046_x264.mp4',\n",
       " 'Stealing047_x264.mp4',\n",
       " 'Stealing048_x264.mp4',\n",
       " 'Stealing049_x264.mp4',\n",
       " 'Stealing050_x264.mp4',\n",
       " 'Stealing051_x264.mp4',\n",
       " 'Stealing052_x264.mp4',\n",
       " 'Stealing053_x264.mp4',\n",
       " 'Stealing054_x264.mp4',\n",
       " 'Stealing055_x264.mp4',\n",
       " 'Stealing057_x264.mp4',\n",
       " 'Stealing058_x264.mp4',\n",
       " 'Stealing059_x264.mp4',\n",
       " 'Stealing060_x264.mp4',\n",
       " 'Stealing061_x264.mp4',\n",
       " 'Stealing062_x264.mp4',\n",
       " 'Stealing063_x264.mp4',\n",
       " 'Stealing065_x264.mp4',\n",
       " 'Stealing066_x264.mp4',\n",
       " 'Stealing067_x264.mp4',\n",
       " 'Stealing068_x264.mp4',\n",
       " 'Stealing069_x264.mp4',\n",
       " 'Stealing070_x264.mp4',\n",
       " 'Stealing071_x264.mp4',\n",
       " 'Stealing072_x264.mp4',\n",
       " 'Stealing073_x264.mp4',\n",
       " 'Stealing074_x264.mp4',\n",
       " 'Stealing075_x264.mp4',\n",
       " 'Stealing077_x264.mp4',\n",
       " 'Stealing078_x264.mp4',\n",
       " 'Stealing079_x264.mp4',\n",
       " 'Stealing080_x264.mp4',\n",
       " 'Stealing081_x264.mp4',\n",
       " 'Stealing082_x264.mp4',\n",
       " 'Stealing083_x264.mp4',\n",
       " 'Stealing084_x264.mp4',\n",
       " 'Stealing086_x264.mp4',\n",
       " 'Stealing087_x264.mp4',\n",
       " 'Stealing088_x264.mp4',\n",
       " 'Stealing089_x264.mp4',\n",
       " 'Stealing091_x264.mp4',\n",
       " 'Stealing092_x264.mp4',\n",
       " 'Stealing093_x264.mp4',\n",
       " 'Stealing094_x264.mp4',\n",
       " 'Stealing095_x264.mp4',\n",
       " 'Stealing096_x264.mp4',\n",
       " 'Stealing097_x264.mp4',\n",
       " 'Stealing098_x264.mp4',\n",
       " 'Stealing100_x264.mp4',\n",
       " 'Stealing101_x264.mp4',\n",
       " 'Stealing102_x264.mp4',\n",
       " 'Stealing103_x264.mp4',\n",
       " 'Stealing104_x264.mp4',\n",
       " 'Stealing105_x264.mp4',\n",
       " 'Stealing106_x264.mp4',\n",
       " 'Stealing107_x264.mp4',\n",
       " 'Stealing108_x264.mp4',\n",
       " 'Stealing109_x264.mp4',\n",
       " 'Stealing110_x264.mp4',\n",
       " 'Stealing111_x264.mp4',\n",
       " 'Stealing112_x264.mp4',\n",
       " 'Stealing113_x264.mp4',\n",
       " 'Stealing114_x264.mp4']"
      ]
     },
     "execution_count": 13,
     "metadata": {},
     "output_type": "execute_result"
    }
   ],
   "source": [
    "crime"
   ]
  },
  {
   "cell_type": "code",
   "execution_count": 14,
   "metadata": {
    "ExecuteTime": {
     "end_time": "2021-03-29T10:22:35.761858Z",
     "start_time": "2021-03-29T10:22:35.715851Z"
    }
   },
   "outputs": [
    {
     "data": {
      "text/plain": [
       "[{'video': 'Stealing002_x264.mp4', 'start': '00:30', 'end': '01:16'},\n",
       " {'video': 'Stealing003_x264.mp4', 'start': '01:24', 'end': '01:29'},\n",
       " {'video': 'Stealing004_x264.mp4', 'start': '03:03', 'end': '03:37'},\n",
       " {'video': 'Stealing006_x264.mp4', 'start': '00:29', 'end': '01:40'},\n",
       " {'video': 'Stealing007_x264.mp4', 'start': '00:20', 'end': '01:22'},\n",
       " {'video': 'Stealing008_x264.mp4', 'start': '00:50', 'end': '02:43'},\n",
       " {'video': 'Stealing009_x264.mp4', 'start': '00:10', 'end': '00:49'},\n",
       " {'video': 'Stealing010_x264.mp4', 'start': '00:57', 'end': '01:36'},\n",
       " {'video': 'Stealing011_x264.mp4', 'start': '00:06', 'end': '01:56'},\n",
       " {'video': 'Stealing012_x264.mp4', 'start': '01:06', 'end': '01:14'},\n",
       " {'video': 'Stealing013_x264.mp4', 'start': '01:55', 'end': '04:11'},\n",
       " {'video': 'Stealing014_x264.mp4', 'start': '00:00', 'end': '01:50'},\n",
       " {'video': 'Stealing015_x264.mp4', 'start': '00:14', 'end': '00:58'},\n",
       " {'video': 'Stealing016_x264.mp4', 'start': '00:15', 'end': '00:43'},\n",
       " {'video': 'Stealing017_x264.mp4', 'start': '00:11', 'end': '01:01'},\n",
       " {'video': 'Stealing018_x264.mp4', 'start': '00:02', 'end': '01:00'},\n",
       " {'video': 'Stealing019_x264.mp4', 'start': '00:50', 'end': '01:34'},\n",
       " {'video': 'Stealing020_x264.mp4', 'start': '00:50', 'end': '03:13'},\n",
       " {'video': 'Stealing021_x264.mp4', 'start': '00:00', 'end': '02:17'},\n",
       " {'video': 'Stealing022_x264.mp4', 'start': '00:30', 'end': '01:21'},\n",
       " {'video': 'Stealing023_x264.mp4', 'start': '01:12', 'end': '02:34'},\n",
       " {'video': 'Stealing024_x264.mp4', 'start': '00:39', 'end': '00:45'},\n",
       " {'video': 'Stealing025_x264.mp4', 'start': '09:12', 'end': '09:45'},\n",
       " {'video': 'Stealing026_x264.mp4', 'start': '00:36', 'end': '01:19'},\n",
       " {'video': 'Stealing027_x264.mp4', 'start': '00:05', 'end': '00:58'},\n",
       " {'video': 'Stealing028_x264.mp4', 'start': '00:37', 'end': '00:45'},\n",
       " {'video': 'Stealing029_x264.mp4', 'start': '00:03', 'end': '00:08'},\n",
       " {'video': 'Stealing030_x264.mp4', 'start': '00:09', 'end': '00:22'},\n",
       " {'video': 'Stealing031_x264.mp4', 'start': '00:17', 'end': '00:30'},\n",
       " {'video': 'Stealing032_x264.mp4', 'start': '01:16', 'end': '02:07'},\n",
       " {'video': 'Stealing035_x264.mp4', 'start': '00:32', 'end': '03:18'},\n",
       " {'video': 'Stealing036_x264.mp4', 'start': '00:41', 'end': '00:54'},\n",
       " {'video': 'Stealing037_x264.mp4', 'start': '00:05', 'end': '02:34'},\n",
       " {'video': 'Stealing042_x264.mp4', 'start': '00:00', 'end': '02:20'},\n",
       " {'video': 'Stealing043_x264.mp4', 'start': '00:03', 'end': '02:16'},\n",
       " {'video': 'Stealing044_x264.mp4', 'start': '00:53', 'end': '01:35'},\n",
       " {'video': 'Stealing045_x264.mp4', 'start': '01:43', 'end': '05:17'},\n",
       " {'video': 'Stealing046_x264.mp4', 'start': '00:00', 'end': '00:35'},\n",
       " {'video': 'Stealing047_x264.mp4', 'start': '00:20', 'end': '00:29'},\n",
       " {'video': 'Stealing048_x264.mp4', 'start': '00:32', 'end': '04:12'},\n",
       " {'video': 'Stealing049_x264.mp4', 'start': '00:12', 'end': '00:49'},\n",
       " {'video': 'Stealing050_x264.mp4', 'start': '00:17', 'end': '01:41'},\n",
       " {'video': 'Stealing051_x264.mp4', 'start': '00:27', 'end': '01:21'},\n",
       " {'video': 'Stealing052_x264.mp4', 'start': '00:04', 'end': '01:45'},\n",
       " {'video': 'Stealing053_x264.mp4', 'start': '00:02', 'end': '05:43'},\n",
       " {'video': 'Stealing054_x264.mp4', 'start': '00:49', 'end': '01:25'},\n",
       " {'video': 'Stealing055_x264.mp4', 'start': '00:14', 'end': '00:53'},\n",
       " {'video': 'Stealing057_x264.mp4', 'start': '00:26', 'end': '00:46'},\n",
       " {'video': 'Stealing058_x264.mp4', 'start': '00:05', 'end': '02:19'},\n",
       " {'video': 'Stealing059_x264.mp4', 'start': '00:19', 'end': '01:14'},\n",
       " {'video': 'Stealing060_x264.mp4', 'start': '00:18', 'end': '00:34'},\n",
       " {'video': 'Stealing061_x264.mp4', 'start': '00:13', 'end': '01:12'},\n",
       " {'video': 'Stealing062_x264.mp4', 'start': '00:09', 'end': '00:36'},\n",
       " {'video': 'Stealing063_x264.mp4', 'start': '00:47', 'end': '02:20'},\n",
       " {'video': 'Stealing065_x264.mp4', 'start': '00:20', 'end': '02:58'},\n",
       " {'video': 'Stealing066_x264.mp4', 'start': '00:04', 'end': '00:19'},\n",
       " {'video': 'Stealing067_x264.mp4', 'start': '00:30', 'end': '00:38'},\n",
       " {'video': 'Stealing068_x264.mp4', 'start': '00:44', 'end': '03:42'},\n",
       " {'video': 'Stealing069_x264.mp4', 'start': '00:10', 'end': '00:20'},\n",
       " {'video': 'Stealing070_x264.mp4', 'start': '00:12', 'end': '00:35'},\n",
       " {'video': 'Stealing071_x264.mp4', 'start': '00:04', 'end': '00:32'},\n",
       " {'video': 'Stealing072_x264.mp4', 'start': '00:00', 'end': '06:27'},\n",
       " {'video': 'Stealing073_x264.mp4', 'start': '00:16', 'end': '00:30'},\n",
       " {'video': 'Stealing074_x264.mp4', 'start': '00:14', 'end': '00:58'},\n",
       " {'video': 'Stealing075_x264.mp4', 'start': '00:00', 'end': '02:48'},\n",
       " {'video': 'Stealing077_x264.mp4', 'start': '01:15', 'end': '02:40'},\n",
       " {'video': 'Stealing078_x264.mp4', 'start': '00:18', 'end': '01:15'},\n",
       " {'video': 'Stealing079_x264.mp4', 'start': '00:55', 'end': '02:27'},\n",
       " {'video': 'Stealing080_x264.mp4', 'start': '00:05', 'end': '00:30'},\n",
       " {'video': 'Stealing081_x264.mp4', 'start': '00:16', 'end': '00:40'},\n",
       " {'video': 'Stealing082_x264.mp4', 'start': '00:20', 'end': '00:45'},\n",
       " {'video': 'Stealing083_x264.mp4', 'start': '01:40', 'end': '02:10'},\n",
       " {'video': 'Stealing084_x264.mp4', 'start': '00:25', 'end': '08:16'},\n",
       " {'video': 'Stealing086_x264.mp4', 'start': '06:39', 'end': '06:54'},\n",
       " {'video': 'Stealing087_x264.mp4', 'start': '00:02', 'end': '02:41'},\n",
       " {'video': 'Stealing088_x264.mp4', 'start': '01:28', 'end': '01:48'},\n",
       " {'video': 'Stealing089_x264.mp4', 'start': '00:09', 'end': '06:43'},\n",
       " {'video': 'Stealing091_x264.mp4', 'start': '00:07', 'end': '00:16'},\n",
       " {'video': 'Stealing092_x264.mp4', 'start': '01:08', 'end': '05:38'},\n",
       " {'video': 'Stealing093_x264.mp4', 'start': '00:19', 'end': '00:36'},\n",
       " {'video': 'Stealing094_x264.mp4', 'start': '00:15', 'end': '01:39'},\n",
       " {'video': 'Stealing095_x264.mp4', 'start': '00:10', 'end': '00:22'},\n",
       " {'video': 'Stealing096_x264.mp4', 'start': '00:53', 'end': '03:00'},\n",
       " {'video': 'Stealing097_x264.mp4', 'start': '00:06', 'end': '00:21'},\n",
       " {'video': 'Stealing098_x264.mp4', 'start': '00:48', 'end': '01:55'},\n",
       " {'video': 'Stealing100_x264.mp4', 'start': '00:21', 'end': '08:31'},\n",
       " {'video': 'Stealing101_x264.mp4', 'start': '00:40', 'end': '01:07'},\n",
       " {'video': 'Stealing102_x264.mp4', 'start': '00:10', 'end': '00:34'},\n",
       " {'video': 'Stealing103_x264.mp4', 'start': '00:19', 'end': '02:57'},\n",
       " {'video': 'Stealing104_x264.mp4', 'start': '00:11', 'end': '01:41'},\n",
       " {'video': 'Stealing105_x264.mp4', 'start': '00:04', 'end': '00:24'},\n",
       " {'video': 'Stealing106_x264.mp4', 'start': '00:00', 'end': '00:38'},\n",
       " {'video': 'Stealing107_x264.mp4', 'start': '00:07', 'end': '02:25'},\n",
       " {'video': 'Stealing108_x264.mp4', 'start': '00:29', 'end': '01:59'},\n",
       " {'video': 'Stealing109_x264.mp4', 'start': '01:47', 'end': '04:48'},\n",
       " {'video': 'Stealing110_x264.mp4', 'start': '00:11', 'end': '00:53'},\n",
       " {'video': 'Stealing111_x264.mp4', 'start': '00:00', 'end': '02:32'},\n",
       " {'video': 'Stealing112_x264.mp4', 'start': '00:09', 'end': '01:02'},\n",
       " {'video': 'Stealing113_x264.mp4', 'start': '00:21', 'end': '00:46'},\n",
       " {'video': 'Stealing114_x264.mp4', 'start': '00:07', 'end': '00:40'},\n",
       " {'video': 'Burglary001_x264.mp4', 'start': '0:08', 'end': '2:00'},\n",
       " {'video': 'Burglary002_x264.mp4', 'start': '0:05', 'end': '1:42'},\n",
       " {'video': 'Burglary003_x264.mp4', 'start': '0:01', 'end': '0:39'},\n",
       " {'video': 'Burglary004_x264.mp4', 'start': '0:05', 'end': '0:57'},\n",
       " {'video': 'Burglary005_x264.mp4', 'start': '2:39', 'end': '4:08'},\n",
       " {'video': 'Burglary006_x264.mp4', 'start': '0:08', 'end': '4:20'},\n",
       " {'video': 'Burglary007_x264.mp4', 'start': '0:03', 'end': '0:36'},\n",
       " {'video': 'Burglary008_x264.mp4', 'start': '0:10', 'end': '1:36'},\n",
       " {'video': 'Burglary009_x264.mp4', 'start': '0:26', 'end': '1:10'},\n",
       " {'video': 'Burglary010_x264.mp4', 'start': '1:36', 'end': '3:00'},\n",
       " {'video': 'Burglary011_x264.mp4', 'start': '0:02', 'end': '1:00'},\n",
       " {'video': 'Burglary012_x264.mp4', 'start': '0:01', 'end': '0:56'},\n",
       " {'video': 'Burglary013_x264.mp4', 'start': '0:03', 'end': '1:10'},\n",
       " {'video': 'Burglary014_x264.mp4', 'start': '0:01', 'end': '1:26'},\n",
       " {'video': 'Burglary015_x264.mp4', 'start': '0:07', 'end': '0:35'},\n",
       " {'video': 'Burglary016_x264.mp4', 'start': '0:22', 'end': '2:55'},\n",
       " {'video': 'Burglary017_x264.mp4', 'start': '0:08', 'end': '0:24'},\n",
       " {'video': 'Burglary018_x264.mp4', 'start': '0:20', 'end': '0:36'},\n",
       " {'video': 'Burglary019_x264.mp4', 'start': '0:03', 'end': '1:27'},\n",
       " {'video': 'Burglary020_x264.mp4', 'start': '0:17', 'end': '1:30'},\n",
       " {'video': 'Burglary021_x264.mp4', 'start': '0:01', 'end': '0:48'},\n",
       " {'video': 'Burglary022_x264.mp4', 'start': '0:11', 'end': '1:34'},\n",
       " {'video': 'Burglary023_x264.mp4', 'start': '0:07', 'end': '5:24'},\n",
       " {'video': 'Burglary024_x264.mp4', 'start': '0:06', 'end': '0:47'},\n",
       " {'video': 'Burglary025_x264.mp4', 'start': '0:18', 'end': '3:25'},\n",
       " {'video': 'Burglary026_x264.mp4', 'start': '0:03', 'end': '0:47'},\n",
       " {'video': 'Burglary027_x264.mp4', 'start': '0:01', 'end': '1:43'},\n",
       " {'video': 'Burglary028_x264.mp4', 'start': '0:06', 'end': '0:31'},\n",
       " {'video': 'Burglary029_x264.mp4', 'start': '0:06', 'end': '2:32'},\n",
       " {'video': 'Burglary030_x264.mp4', 'start': '0:12', 'end': '0:29'},\n",
       " {'video': 'Burglary031_x264.mp4', 'start': '1:06', 'end': '3:16'},\n",
       " {'video': 'Burglary032_x264.mp4', 'start': '0:17', 'end': '8:06'},\n",
       " {'video': 'Burglary033_x264.mp4', 'start': '0:00', 'end': '0:14'},\n",
       " {'video': 'Burglary034_x264.mp4', 'start': '0:11', 'end': '0:37'},\n",
       " {'video': 'Burglary035_x264.mp4', 'start': '0:04', 'end': '2:15'},\n",
       " {'video': 'Burglary036_x264.mp4', 'start': '0:03', 'end': '0:33'},\n",
       " {'video': 'Burglary037_x264.mp4', 'start': '0:10', 'end': '1:02'},\n",
       " {'video': 'Burglary038_x264.mp4', 'start': '0:00', 'end': '0:17'},\n",
       " {'video': 'Burglary039_x264.mp4', 'start': '1:25', 'end': '5:09'},\n",
       " {'video': 'Burglary040_x264.mp4', 'start': '0:26', 'end': '2:55'},\n",
       " {'video': 'Burglary041_x264.mp4', 'start': '0:05', 'end': '0:58'},\n",
       " {'video': 'Burglary042_x264.mp4', 'start': '0:11', 'end': '2:15'},\n",
       " {'video': 'Burglary043_x264.mp4', 'start': '0:09', 'end': '0:17'},\n",
       " {'video': 'Burglary044_x264.mp4', 'start': '0:20', 'end': '1:49'},\n",
       " {'video': 'Burglary045_x264.mp4', 'start': '1:04', 'end': '4:26'},\n",
       " {'video': 'Burglary046_x264.mp4', 'start': '0:20', 'end': '1:16'},\n",
       " {'video': 'Burglary047_x264.mp4', 'start': '0:11', 'end': '1:28'},\n",
       " {'video': 'Burglary048_x264.mp4', 'start': '0:11', 'end': '0:55'},\n",
       " {'video': 'Burglary049_x264.mp4', 'start': '0:03', 'end': '5:05'},\n",
       " {'video': 'Burglary050_x264.mp4', 'start': '0:15', 'end': '0:28'},\n",
       " {'video': 'Burglary051_x264.mp4', 'start': '0:04', 'end': '0:42'},\n",
       " {'video': 'Burglary052_x264.mp4', 'start': '0:50', 'end': '5:29'},\n",
       " {'video': 'Burglary053_x264.mp4', 'start': '0:05', 'end': '1:49'},\n",
       " {'video': 'Burglary054_x264.mp4', 'start': '0:02', 'end': '0:11'},\n",
       " {'video': 'Burglary055_x264.mp4', 'start': '0:13', 'end': '1:31'},\n",
       " {'video': 'Burglary056_x264.mp4', 'start': '0:04', 'end': '0:47'},\n",
       " {'video': 'Burglary057_x264.mp4', 'start': '0:05', 'end': '3:04'},\n",
       " {'video': 'Burglary058_x264.mp4', 'start': '0:07', 'end': '6:19'},\n",
       " {'video': 'Burglary059_x264.mp4', 'start': '0:02', 'end': '0:14'},\n",
       " {'video': 'Burglary060_x264.mp4', 'start': '0:04', 'end': '0:24'},\n",
       " {'video': 'Burglary061_x264.mp4', 'start': '2:15', 'end': '3:12'},\n",
       " {'video': 'Burglary062_x264.mp4', 'start': '2:14', 'end': '5:50'},\n",
       " {'video': 'Burglary063_x264.mp4', 'start': '0:50', 'end': '2:02'},\n",
       " {'video': 'Burglary064_x264.mp4', 'start': '8:38', 'end': '26:16'},\n",
       " {'video': 'Burglary065_x264.mp4', 'start': '1:33', 'end': '4:34'},\n",
       " {'video': 'Burglary066_x264.mp4', 'start': '0:06', 'end': '0:58'},\n",
       " {'video': 'Burglary067_x264.mp4', 'start': '0:07', 'end': '0:43'},\n",
       " {'video': 'Burglary068_x264.mp4', 'start': '0:08', 'end': '0:22'},\n",
       " {'video': 'Burglary069_x264.mp4', 'start': '0:06', 'end': '1:10'},\n",
       " {'video': 'Burglary070_x264.mp4', 'start': '0:04', 'end': '0:26'},\n",
       " {'video': 'Burglary071_x264.mp4', 'start': '0:10', 'end': '1:39'},\n",
       " {'video': 'Burglary072_x264.mp4', 'start': '0:06', 'end': '1:18'},\n",
       " {'video': 'Burglary073_x264.mp4', 'start': '0:22', 'end': '1:32'},\n",
       " {'video': 'Burglary074_x264.mp4', 'start': '0:10', 'end': '1:08'},\n",
       " {'video': 'Burglary075_x264.mp4', 'start': '1:30', 'end': '8:36'},\n",
       " {'video': 'Burglary076_x264.mp4', 'start': '1:10', 'end': '7:00'},\n",
       " {'video': 'Burglary077_x264.mp4', 'start': '0:04', 'end': '1:02'},\n",
       " {'video': 'Burglary078_x264.mp4', 'start': '0:04', 'end': '0:09'},\n",
       " {'video': 'Burglary079_x264.mp4', 'start': '4:21', 'end': '7:39'},\n",
       " {'video': 'Burglary080_x264.mp4', 'start': '0:04', 'end': '0:37'},\n",
       " {'video': 'Burglary081_x264.mp4', 'start': '0:07', 'end': '0:13'},\n",
       " {'video': 'Burglary082_x264.mp4', 'start': '0:36', 'end': '1:29'},\n",
       " {'video': 'Burglary083_x264.mp4', 'start': '1:15', 'end': '3:16'},\n",
       " {'video': 'Burglary084_x264.mp4', 'start': '0:16', 'end': '2:25'},\n",
       " {'video': 'Burglary085_x264.mp4', 'start': '0:18', 'end': '1:28'},\n",
       " {'video': 'Burglary086_x264.mp4', 'start': '0:02', 'end': '1:48'},\n",
       " {'video': 'Burglary087_x264.mp4', 'start': '0:03', 'end': '1:13'},\n",
       " {'video': 'Burglary088_x264.mp4', 'start': '0:05', 'end': '2:36'},\n",
       " {'video': 'Burglary089_x264.mp4', 'start': '0:05', 'end': '1:45'},\n",
       " {'video': 'Burglary090_x264.mp4', 'start': '0:10', 'end': '1:26'},\n",
       " {'video': 'Burglary091_x264.mp4', 'start': '0:15', 'end': '1:47'},\n",
       " {'video': 'Burglary092_x264.mp4', 'start': '0:12', 'end': '0:20'},\n",
       " {'video': 'Burglary093_x264.mp4', 'start': '0:19', 'end': '0:22'},\n",
       " {'video': 'Burglary094_x264.mp4', 'start': '0:14', 'end': '0:33'},\n",
       " {'video': 'Burglary095_x264.mp4', 'start': '1:33', 'end': '14:11'},\n",
       " {'video': 'Burglary096_x264.mp4', 'start': '0:26', 'end': '3:28'},\n",
       " {'video': 'Burglary097_x264.mp4', 'start': '0:00', 'end': '0:10'},\n",
       " {'video': 'Burglary098_x264.mp4', 'start': '0:00', 'end': '0:30'},\n",
       " {'video': 'Burglary099_x264.mp4', 'start': '0:08', 'end': '0:44'},\n",
       " {'video': 'Burglary100_x264.mp4', 'start': '0:15', 'end': '4:02'},\n",
       " {'video': 'Shoplifting001_x264.mp4', 'start': '0:52', 'end': '1:07'},\n",
       " {'video': 'Shoplifting003_x264.mp4', 'start': '4:00', 'end': '4:10'},\n",
       " {'video': 'Shoplifting004_x264.mp4', 'start': '2:30', 'end': '2:41'},\n",
       " {'video': 'Shoplifting005_x264.mp4', 'start': '0:20', 'end': '0:40'},\n",
       " {'video': 'Shoplifting006_x264.mp4', 'start': '0:55', 'end': '1:00'},\n",
       " {'video': 'Shoplifting007_x264.mp4', 'start': '0:18', 'end': '0:25'},\n",
       " {'video': 'Shoplifting008_x264.mp4', 'start': '2:50', 'end': '3:02'},\n",
       " {'video': 'Shoplifting009_x264.mp4', 'start': '2:27', 'end': '2:49'},\n",
       " {'video': 'Shoplifting010_x264.mp4', 'start': '0:23', 'end': '0:30'},\n",
       " {'video': 'Shoplifting012_x264.mp4', 'start': '4:25', 'end': '4:30'},\n",
       " {'video': 'Shoplifting013_x264.mp4', 'start': '0:04', 'end': '1:05'},\n",
       " {'video': 'Shoplifting014_x264.mp4', 'start': '6:06', 'end': '6:26'},\n",
       " {'video': 'Shoplifting015_x264.mp4', 'start': '1:06', 'end': '1:12'},\n",
       " {'video': 'Shoplifting016_x264.mp4', 'start': '0:13', 'end': '0:25'},\n",
       " {'video': 'Shoplifting017_x264.mp4', 'start': '0:11', 'end': '0:14'},\n",
       " {'video': 'Shoplifting018_x264.mp4', 'start': '0:07', 'end': '0:13'},\n",
       " {'video': 'Shoplifting019_x264.mp4', 'start': '0:08', 'end': '0:16'},\n",
       " {'video': 'Shoplifting020_x264.mp4', 'start': '1:17', 'end': '1:22'},\n",
       " {'video': 'Shoplifting021_x264.mp4', 'start': '1:10', 'end': '1:19'},\n",
       " {'video': 'Shoplifting022_x264.mp4', 'start': '0:09', 'end': '1:07'},\n",
       " {'video': 'Shoplifting024_x264.mp4', 'start': '0:27', 'end': '0:38'},\n",
       " {'video': 'Shoplifting025_x264.mp4', 'start': '0:13', 'end': '0:58'},\n",
       " {'video': 'Shoplifting026_x264.mp4', 'start': '0:04', 'end': '0:44'},\n",
       " {'video': 'Shoplifting027_x264.mp4', 'start': '0:35', 'end': '0:40'},\n",
       " {'video': 'Shoplifting028_x264.mp4', 'start': '0:18', 'end': '0:35'},\n",
       " {'video': 'Shoplifting029_x264.mp4', 'start': '0:35', 'end': '0:48'},\n",
       " {'video': 'Shoplifting030_x264.mp4', 'start': '3:15', 'end': '5:00'},\n",
       " {'video': 'Shoplifting031_x264.mp4', 'start': '0:05', 'end': '0:10'},\n",
       " {'video': 'Shoplifting032_x264.mp4', 'start': '0:23', 'end': '0:30'},\n",
       " {'video': 'Shoplifting033_x264.mp4', 'start': '0:20', 'end': '0:27'},\n",
       " {'video': 'Shoplifting034_x264.mp4', 'start': '2:36', 'end': '4:50'},\n",
       " {'video': 'Shoplifting036_x264.mp4', 'start': '1:41', 'end': '1:47'},\n",
       " {'video': 'Shoplifting037_x264.mp4', 'start': '0:36', 'end': '0:39'},\n",
       " {'video': 'Shoplifting038_x264.mp4', 'start': '1:20', 'end': '1:24'},\n",
       " {'video': 'Shoplifting039_x264.mp4', 'start': '1:10', 'end': '1:16'},\n",
       " {'video': 'Shoplifting040_x264.mp4', 'start': '0:01', 'end': '1:06'},\n",
       " {'video': 'Shoplifting041_x264.mp4', 'start': '3:47', 'end': '5:07'},\n",
       " {'video': 'Shoplifting042_x264.mp4', 'start': '1:10', 'end': '1:37'},\n",
       " {'video': 'Shoplifting043_x264.mp4', 'start': '4:01', 'end': '4:10'},\n",
       " {'video': 'Shoplifting044_x264.mp4', 'start': '6:08', 'end': '6:17'},\n",
       " {'video': 'Shoplifting045_x264.mp4', 'start': '0:05', 'end': '0:54'},\n",
       " {'video': 'Shoplifting047_x264.mp4', 'start': '0:47', 'end': '1:19'},\n",
       " {'video': 'Shoplifting048_x264.mp4', 'start': '0:01', 'end': '0:39'},\n",
       " {'video': 'Shoplifting049_x264.mp4', 'start': '0:35', 'end': '1:00'},\n",
       " {'video': 'Shoplifting050_x264.mp4', 'start': '0:04', 'end': '0:10'},\n",
       " {'video': 'Shoplifting051_x264.mp4', 'start': '2:34', 'end': '2:56'},\n",
       " {'video': 'Shoplifting052_x264.mp4', 'start': '0:52', 'end': '1:04'},\n",
       " {'video': 'Shoplifting053_x264.mp4', 'start': '0:42', 'end': '0:59'},\n",
       " {'video': 'Shoplifting054_x264.mp4', 'start': '0:17', 'end': '0:24'},\n",
       " {'video': 'Shoplifting055_x264.mp4', 'start': '1:14', 'end': '1:42'}]"
      ]
     },
     "execution_count": 14,
     "metadata": {},
     "output_type": "execute_result"
    }
   ],
   "source": [
    "df = df[df[\"video\"].isin(crime)].reset_index(drop=True)\n",
    "\n",
    "\n",
    "infos = list(df.T.to_dict().values())\n",
    "infos"
   ]
  },
  {
   "cell_type": "code",
   "execution_count": 18,
   "metadata": {
    "ExecuteTime": {
     "end_time": "2021-03-29T10:22:37.046523Z",
     "start_time": "2021-03-29T10:22:35.764852Z"
    }
   },
   "outputs": [],
   "source": [
    "from moviepy.editor import *\n",
    "\n",
    "def convertTime(time):\n",
    "    p1, p2 = time.split(\":\")\n",
    "    p1, p2=  int(p1), int(p2)\n",
    "    return p1*60+p2\n",
    "\n",
    "def trimVideo(data):\n",
    "    video = data[\"video\"]\n",
    "    vid = VideoFileClip(f\"S:\\Academic\\Final Year Project\\crime-detection\\dataset\\{video}\")\n",
    "    start, end = convertTime(data[\"start\"]), convertTime(data[\"end\"])\n",
    "    trim = vid.subclip(start, end)\n",
    "    trim.write_videofile(f\"S:\\Academic\\Final Year Project\\crime-detection\\Subclips\\{video}\", codec=\"libx264\")\n",
    "    \n",
    "    print(video, start, end)"
   ]
  },
  {
   "cell_type": "code",
   "execution_count": 19,
   "metadata": {
    "ExecuteTime": {
     "end_time": "2021-03-29T10:41:25.833010Z",
     "start_time": "2021-03-29T10:22:37.046523Z"
    }
   },
   "outputs": [
    {
     "name": "stdout",
     "output_type": "stream",
     "text": [
      "Moviepy - Building video S:\\Academic\\Final Year Project\\crime-detection\\Subclips\\Stealing002_x264.mp4.\n",
      "MoviePy - Writing audio in Stealing002_x264TEMP_MPY_wvf_snd.mp3\n"
     ]
    },
    {
     "name": "stderr",
     "output_type": "stream",
     "text": [
      "                                                                     \r"
     ]
    },
    {
     "name": "stdout",
     "output_type": "stream",
     "text": [
      "MoviePy - Done.\n",
      "Moviepy - Writing video S:\\Academic\\Final Year Project\\crime-detection\\Subclips\\Stealing002_x264.mp4\n",
      "\n"
     ]
    },
    {
     "name": "stderr",
     "output_type": "stream",
     "text": [
      "                                                                  \r"
     ]
    },
    {
     "name": "stdout",
     "output_type": "stream",
     "text": [
      "Moviepy - Done !\n",
      "Moviepy - video ready S:\\Academic\\Final Year Project\\crime-detection\\Subclips\\Stealing002_x264.mp4\n",
      "Stealing002_x264.mp4 30 76\n",
      "Moviepy - Building video S:\\Academic\\Final Year Project\\crime-detection\\Subclips\\Stealing003_x264.mp4.\n",
      "Moviepy - Writing video S:\\Academic\\Final Year Project\\crime-detection\\Subclips\\Stealing003_x264.mp4\n",
      "\n"
     ]
    },
    {
     "name": "stderr",
     "output_type": "stream",
     "text": [
      "                                                              \r"
     ]
    },
    {
     "name": "stdout",
     "output_type": "stream",
     "text": [
      "Moviepy - Done !\n",
      "Moviepy - video ready S:\\Academic\\Final Year Project\\crime-detection\\Subclips\\Stealing003_x264.mp4\n",
      "Stealing003_x264.mp4 84 89\n",
      "Moviepy - Building video S:\\Academic\\Final Year Project\\crime-detection\\Subclips\\Stealing004_x264.mp4.\n",
      "Moviepy - Writing video S:\\Academic\\Final Year Project\\crime-detection\\Subclips\\Stealing004_x264.mp4\n",
      "\n"
     ]
    },
    {
     "name": "stderr",
     "output_type": "stream",
     "text": [
      "                                                                 \r"
     ]
    },
    {
     "name": "stdout",
     "output_type": "stream",
     "text": [
      "Moviepy - Done !\n",
      "Moviepy - video ready S:\\Academic\\Final Year Project\\crime-detection\\Subclips\\Stealing004_x264.mp4\n",
      "Stealing004_x264.mp4 183 217\n",
      "Moviepy - Building video S:\\Academic\\Final Year Project\\crime-detection\\Subclips\\Stealing006_x264.mp4.\n",
      "Moviepy - Writing video S:\\Academic\\Final Year Project\\crime-detection\\Subclips\\Stealing006_x264.mp4\n",
      "\n"
     ]
    },
    {
     "name": "stderr",
     "output_type": "stream",
     "text": [
      "                                                                 \r"
     ]
    },
    {
     "name": "stdout",
     "output_type": "stream",
     "text": [
      "Moviepy - Done !\n",
      "Moviepy - video ready S:\\Academic\\Final Year Project\\crime-detection\\Subclips\\Stealing006_x264.mp4\n",
      "Stealing006_x264.mp4 29 100\n",
      "Moviepy - Building video S:\\Academic\\Final Year Project\\crime-detection\\Subclips\\Stealing007_x264.mp4.\n",
      "Moviepy - Writing video S:\\Academic\\Final Year Project\\crime-detection\\Subclips\\Stealing007_x264.mp4\n",
      "\n"
     ]
    },
    {
     "name": "stderr",
     "output_type": "stream",
     "text": [
      "                                                                  \r"
     ]
    },
    {
     "name": "stdout",
     "output_type": "stream",
     "text": [
      "Moviepy - Done !\n",
      "Moviepy - video ready S:\\Academic\\Final Year Project\\crime-detection\\Subclips\\Stealing007_x264.mp4\n",
      "Stealing007_x264.mp4 20 82\n",
      "Moviepy - Building video S:\\Academic\\Final Year Project\\crime-detection\\Subclips\\Stealing008_x264.mp4.\n",
      "Moviepy - Writing video S:\\Academic\\Final Year Project\\crime-detection\\Subclips\\Stealing008_x264.mp4\n",
      "\n"
     ]
    },
    {
     "name": "stderr",
     "output_type": "stream",
     "text": [
      "                                                                  \r"
     ]
    },
    {
     "name": "stdout",
     "output_type": "stream",
     "text": [
      "Moviepy - Done !\n",
      "Moviepy - video ready S:\\Academic\\Final Year Project\\crime-detection\\Subclips\\Stealing008_x264.mp4\n",
      "Stealing008_x264.mp4 50 163\n",
      "Moviepy - Building video S:\\Academic\\Final Year Project\\crime-detection\\Subclips\\Stealing009_x264.mp4.\n",
      "Moviepy - Writing video S:\\Academic\\Final Year Project\\crime-detection\\Subclips\\Stealing009_x264.mp4\n",
      "\n"
     ]
    },
    {
     "name": "stderr",
     "output_type": "stream",
     "text": [
      "                                                                  \r"
     ]
    },
    {
     "name": "stdout",
     "output_type": "stream",
     "text": [
      "Moviepy - Done !\n",
      "Moviepy - video ready S:\\Academic\\Final Year Project\\crime-detection\\Subclips\\Stealing009_x264.mp4\n",
      "Stealing009_x264.mp4 10 49\n",
      "Moviepy - Building video S:\\Academic\\Final Year Project\\crime-detection\\Subclips\\Stealing010_x264.mp4.\n",
      "Moviepy - Writing video S:\\Academic\\Final Year Project\\crime-detection\\Subclips\\Stealing010_x264.mp4\n",
      "\n"
     ]
    },
    {
     "name": "stderr",
     "output_type": "stream",
     "text": [
      "                                                                 \r"
     ]
    },
    {
     "name": "stdout",
     "output_type": "stream",
     "text": [
      "Moviepy - Done !\n",
      "Moviepy - video ready S:\\Academic\\Final Year Project\\crime-detection\\Subclips\\Stealing010_x264.mp4\n",
      "Stealing010_x264.mp4 57 96\n",
      "Moviepy - Building video S:\\Academic\\Final Year Project\\crime-detection\\Subclips\\Stealing011_x264.mp4.\n",
      "Moviepy - Writing video S:\\Academic\\Final Year Project\\crime-detection\\Subclips\\Stealing011_x264.mp4\n",
      "\n"
     ]
    },
    {
     "name": "stderr",
     "output_type": "stream",
     "text": [
      "                                                                  \r"
     ]
    },
    {
     "name": "stdout",
     "output_type": "stream",
     "text": [
      "Moviepy - Done !\n",
      "Moviepy - video ready S:\\Academic\\Final Year Project\\crime-detection\\Subclips\\Stealing011_x264.mp4\n",
      "Stealing011_x264.mp4 6 116\n",
      "Moviepy - Building video S:\\Academic\\Final Year Project\\crime-detection\\Subclips\\Stealing012_x264.mp4.\n",
      "Moviepy - Writing video S:\\Academic\\Final Year Project\\crime-detection\\Subclips\\Stealing012_x264.mp4\n",
      "\n"
     ]
    },
    {
     "name": "stderr",
     "output_type": "stream",
     "text": [
      "                                                               \r"
     ]
    },
    {
     "name": "stdout",
     "output_type": "stream",
     "text": [
      "Moviepy - Done !\n",
      "Moviepy - video ready S:\\Academic\\Final Year Project\\crime-detection\\Subclips\\Stealing012_x264.mp4\n",
      "Stealing012_x264.mp4 66 74\n",
      "Moviepy - Building video S:\\Academic\\Final Year Project\\crime-detection\\Subclips\\Stealing013_x264.mp4.\n",
      "Moviepy - Writing video S:\\Academic\\Final Year Project\\crime-detection\\Subclips\\Stealing013_x264.mp4\n",
      "\n"
     ]
    },
    {
     "name": "stderr",
     "output_type": "stream",
     "text": [
      "                                                                 \r"
     ]
    },
    {
     "name": "stdout",
     "output_type": "stream",
     "text": [
      "Moviepy - Done !\n",
      "Moviepy - video ready S:\\Academic\\Final Year Project\\crime-detection\\Subclips\\Stealing013_x264.mp4\n",
      "Stealing013_x264.mp4 115 251\n",
      "Moviepy - Building video S:\\Academic\\Final Year Project\\crime-detection\\Subclips\\Stealing014_x264.mp4.\n",
      "Moviepy - Writing video S:\\Academic\\Final Year Project\\crime-detection\\Subclips\\Stealing014_x264.mp4\n",
      "\n"
     ]
    },
    {
     "name": "stderr",
     "output_type": "stream",
     "text": [
      "                                                                  \r"
     ]
    },
    {
     "name": "stdout",
     "output_type": "stream",
     "text": [
      "Moviepy - Done !\n",
      "Moviepy - video ready S:\\Academic\\Final Year Project\\crime-detection\\Subclips\\Stealing014_x264.mp4\n",
      "Stealing014_x264.mp4 0 110\n",
      "Moviepy - Building video S:\\Academic\\Final Year Project\\crime-detection\\Subclips\\Stealing015_x264.mp4.\n",
      "Moviepy - Writing video S:\\Academic\\Final Year Project\\crime-detection\\Subclips\\Stealing015_x264.mp4\n",
      "\n"
     ]
    },
    {
     "name": "stderr",
     "output_type": "stream",
     "text": [
      "                                                                  \r"
     ]
    },
    {
     "name": "stdout",
     "output_type": "stream",
     "text": [
      "Moviepy - Done !\n",
      "Moviepy - video ready S:\\Academic\\Final Year Project\\crime-detection\\Subclips\\Stealing015_x264.mp4\n",
      "Stealing015_x264.mp4 14 58\n",
      "Moviepy - Building video S:\\Academic\\Final Year Project\\crime-detection\\Subclips\\Stealing016_x264.mp4.\n",
      "Moviepy - Writing video S:\\Academic\\Final Year Project\\crime-detection\\Subclips\\Stealing016_x264.mp4\n",
      "\n"
     ]
    },
    {
     "name": "stderr",
     "output_type": "stream",
     "text": [
      "                                                                \r"
     ]
    },
    {
     "name": "stdout",
     "output_type": "stream",
     "text": [
      "Moviepy - Done !\n",
      "Moviepy - video ready S:\\Academic\\Final Year Project\\crime-detection\\Subclips\\Stealing016_x264.mp4\n",
      "Stealing016_x264.mp4 15 43\n",
      "Moviepy - Building video S:\\Academic\\Final Year Project\\crime-detection\\Subclips\\Stealing017_x264.mp4.\n",
      "Moviepy - Writing video S:\\Academic\\Final Year Project\\crime-detection\\Subclips\\Stealing017_x264.mp4\n",
      "\n"
     ]
    },
    {
     "name": "stderr",
     "output_type": "stream",
     "text": [
      "                                                                  \r"
     ]
    },
    {
     "name": "stdout",
     "output_type": "stream",
     "text": [
      "Moviepy - Done !\n",
      "Moviepy - video ready S:\\Academic\\Final Year Project\\crime-detection\\Subclips\\Stealing017_x264.mp4\n",
      "Stealing017_x264.mp4 11 61\n",
      "Moviepy - Building video S:\\Academic\\Final Year Project\\crime-detection\\Subclips\\Stealing018_x264.mp4.\n",
      "Moviepy - Writing video S:\\Academic\\Final Year Project\\crime-detection\\Subclips\\Stealing018_x264.mp4\n",
      "\n"
     ]
    },
    {
     "name": "stderr",
     "output_type": "stream",
     "text": [
      "                                                                  \r"
     ]
    },
    {
     "name": "stdout",
     "output_type": "stream",
     "text": [
      "Moviepy - Done !\n",
      "Moviepy - video ready S:\\Academic\\Final Year Project\\crime-detection\\Subclips\\Stealing018_x264.mp4\n",
      "Stealing018_x264.mp4 2 60\n",
      "Moviepy - Building video S:\\Academic\\Final Year Project\\crime-detection\\Subclips\\Stealing019_x264.mp4.\n",
      "MoviePy - Writing audio in Stealing019_x264TEMP_MPY_wvf_snd.mp3\n"
     ]
    },
    {
     "name": "stderr",
     "output_type": "stream",
     "text": [
      "                                                                    \r"
     ]
    },
    {
     "name": "stdout",
     "output_type": "stream",
     "text": [
      "MoviePy - Done.\n",
      "Moviepy - Writing video S:\\Academic\\Final Year Project\\crime-detection\\Subclips\\Stealing019_x264.mp4\n",
      "\n"
     ]
    },
    {
     "name": "stderr",
     "output_type": "stream",
     "text": [
      "                                                                  \r"
     ]
    },
    {
     "name": "stdout",
     "output_type": "stream",
     "text": [
      "Moviepy - Done !\n",
      "Moviepy - video ready S:\\Academic\\Final Year Project\\crime-detection\\Subclips\\Stealing019_x264.mp4\n",
      "Stealing019_x264.mp4 50 94\n",
      "Moviepy - Building video S:\\Academic\\Final Year Project\\crime-detection\\Subclips\\Stealing020_x264.mp4.\n",
      "MoviePy - Writing audio in Stealing020_x264TEMP_MPY_wvf_snd.mp3\n"
     ]
    },
    {
     "name": "stderr",
     "output_type": "stream",
     "text": [
      "                                                                      \r"
     ]
    },
    {
     "name": "stdout",
     "output_type": "stream",
     "text": [
      "MoviePy - Done.\n",
      "Moviepy - Writing video S:\\Academic\\Final Year Project\\crime-detection\\Subclips\\Stealing020_x264.mp4\n",
      "\n"
     ]
    },
    {
     "name": "stderr",
     "output_type": "stream",
     "text": [
      "                                                                  \r"
     ]
    },
    {
     "name": "stdout",
     "output_type": "stream",
     "text": [
      "Moviepy - Done !\n",
      "Moviepy - video ready S:\\Academic\\Final Year Project\\crime-detection\\Subclips\\Stealing020_x264.mp4\n",
      "Stealing020_x264.mp4 50 193\n",
      "Moviepy - Building video S:\\Academic\\Final Year Project\\crime-detection\\Subclips\\Stealing021_x264.mp4.\n",
      "MoviePy - Writing audio in Stealing021_x264TEMP_MPY_wvf_snd.mp3\n"
     ]
    },
    {
     "name": "stderr",
     "output_type": "stream",
     "text": [
      "                                                                      \r"
     ]
    },
    {
     "name": "stdout",
     "output_type": "stream",
     "text": [
      "MoviePy - Done.\n",
      "Moviepy - Writing video S:\\Academic\\Final Year Project\\crime-detection\\Subclips\\Stealing021_x264.mp4\n",
      "\n"
     ]
    },
    {
     "name": "stderr",
     "output_type": "stream",
     "text": [
      "                                                                  \r"
     ]
    },
    {
     "name": "stdout",
     "output_type": "stream",
     "text": [
      "Moviepy - Done !\n",
      "Moviepy - video ready S:\\Academic\\Final Year Project\\crime-detection\\Subclips\\Stealing021_x264.mp4\n",
      "Stealing021_x264.mp4 0 137\n",
      "Moviepy - Building video S:\\Academic\\Final Year Project\\crime-detection\\Subclips\\Stealing022_x264.mp4.\n",
      "MoviePy - Writing audio in Stealing022_x264TEMP_MPY_wvf_snd.mp3\n"
     ]
    },
    {
     "name": "stderr",
     "output_type": "stream",
     "text": [
      "                                                                      \r"
     ]
    },
    {
     "name": "stdout",
     "output_type": "stream",
     "text": [
      "MoviePy - Done.\n",
      "Moviepy - Writing video S:\\Academic\\Final Year Project\\crime-detection\\Subclips\\Stealing022_x264.mp4\n",
      "\n"
     ]
    },
    {
     "name": "stderr",
     "output_type": "stream",
     "text": [
      "                                                                  \r"
     ]
    },
    {
     "name": "stdout",
     "output_type": "stream",
     "text": [
      "Moviepy - Done !\n",
      "Moviepy - video ready S:\\Academic\\Final Year Project\\crime-detection\\Subclips\\Stealing022_x264.mp4\n",
      "Stealing022_x264.mp4 30 81\n",
      "Moviepy - Building video S:\\Academic\\Final Year Project\\crime-detection\\Subclips\\Stealing023_x264.mp4.\n",
      "MoviePy - Writing audio in Stealing023_x264TEMP_MPY_wvf_snd.mp3\n"
     ]
    },
    {
     "name": "stderr",
     "output_type": "stream",
     "text": [
      "                                                                      \r"
     ]
    },
    {
     "name": "stdout",
     "output_type": "stream",
     "text": [
      "MoviePy - Done.\n",
      "Moviepy - Writing video S:\\Academic\\Final Year Project\\crime-detection\\Subclips\\Stealing023_x264.mp4\n",
      "\n"
     ]
    },
    {
     "name": "stderr",
     "output_type": "stream",
     "text": [
      "                                                                  \r"
     ]
    },
    {
     "name": "stdout",
     "output_type": "stream",
     "text": [
      "Moviepy - Done !\n",
      "Moviepy - video ready S:\\Academic\\Final Year Project\\crime-detection\\Subclips\\Stealing023_x264.mp4\n",
      "Stealing023_x264.mp4 72 154\n",
      "Moviepy - Building video S:\\Academic\\Final Year Project\\crime-detection\\Subclips\\Stealing024_x264.mp4.\n",
      "MoviePy - Writing audio in Stealing024_x264TEMP_MPY_wvf_snd.mp3\n"
     ]
    },
    {
     "name": "stderr",
     "output_type": "stream",
     "text": [
      "                                                                  \r"
     ]
    },
    {
     "name": "stdout",
     "output_type": "stream",
     "text": [
      "MoviePy - Done.\n",
      "Moviepy - Writing video S:\\Academic\\Final Year Project\\crime-detection\\Subclips\\Stealing024_x264.mp4\n",
      "\n"
     ]
    },
    {
     "name": "stderr",
     "output_type": "stream",
     "text": [
      "                                                              \r"
     ]
    },
    {
     "name": "stdout",
     "output_type": "stream",
     "text": [
      "Moviepy - Done !\n",
      "Moviepy - video ready S:\\Academic\\Final Year Project\\crime-detection\\Subclips\\Stealing024_x264.mp4\n",
      "Stealing024_x264.mp4 39 45\n",
      "Moviepy - Building video S:\\Academic\\Final Year Project\\crime-detection\\Subclips\\Stealing025_x264.mp4.\n",
      "MoviePy - Writing audio in Stealing025_x264TEMP_MPY_wvf_snd.mp3\n"
     ]
    },
    {
     "name": "stderr",
     "output_type": "stream",
     "text": [
      "                                                                    \r"
     ]
    },
    {
     "name": "stdout",
     "output_type": "stream",
     "text": [
      "MoviePy - Done.\n",
      "Moviepy - Writing video S:\\Academic\\Final Year Project\\crime-detection\\Subclips\\Stealing025_x264.mp4\n",
      "\n"
     ]
    },
    {
     "name": "stderr",
     "output_type": "stream",
     "text": [
      "                                                                \r"
     ]
    },
    {
     "name": "stdout",
     "output_type": "stream",
     "text": [
      "Moviepy - Done !\n",
      "Moviepy - video ready S:\\Academic\\Final Year Project\\crime-detection\\Subclips\\Stealing025_x264.mp4\n",
      "Stealing025_x264.mp4 552 585\n",
      "Moviepy - Building video S:\\Academic\\Final Year Project\\crime-detection\\Subclips\\Stealing026_x264.mp4.\n",
      "MoviePy - Writing audio in Stealing026_x264TEMP_MPY_wvf_snd.mp3\n"
     ]
    },
    {
     "name": "stderr",
     "output_type": "stream",
     "text": [
      "                                                                    \r"
     ]
    },
    {
     "name": "stdout",
     "output_type": "stream",
     "text": [
      "MoviePy - Done.\n",
      "Moviepy - Writing video S:\\Academic\\Final Year Project\\crime-detection\\Subclips\\Stealing026_x264.mp4\n",
      "\n"
     ]
    },
    {
     "name": "stderr",
     "output_type": "stream",
     "text": [
      "                                                                  \r"
     ]
    },
    {
     "name": "stdout",
     "output_type": "stream",
     "text": [
      "Moviepy - Done !\n",
      "Moviepy - video ready S:\\Academic\\Final Year Project\\crime-detection\\Subclips\\Stealing026_x264.mp4\n",
      "Stealing026_x264.mp4 36 79\n",
      "Moviepy - Building video S:\\Academic\\Final Year Project\\crime-detection\\Subclips\\Stealing027_x264.mp4.\n",
      "MoviePy - Writing audio in Stealing027_x264TEMP_MPY_wvf_snd.mp3\n"
     ]
    },
    {
     "name": "stderr",
     "output_type": "stream",
     "text": [
      "                                                                      \r"
     ]
    },
    {
     "name": "stdout",
     "output_type": "stream",
     "text": [
      "MoviePy - Done.\n",
      "Moviepy - Writing video S:\\Academic\\Final Year Project\\crime-detection\\Subclips\\Stealing027_x264.mp4\n",
      "\n"
     ]
    },
    {
     "name": "stderr",
     "output_type": "stream",
     "text": [
      "                                                                  \r"
     ]
    },
    {
     "name": "stdout",
     "output_type": "stream",
     "text": [
      "Moviepy - Done !\n",
      "Moviepy - video ready S:\\Academic\\Final Year Project\\crime-detection\\Subclips\\Stealing027_x264.mp4\n",
      "Stealing027_x264.mp4 5 58\n",
      "Moviepy - Building video S:\\Academic\\Final Year Project\\crime-detection\\Subclips\\Stealing028_x264.mp4.\n",
      "MoviePy - Writing audio in Stealing028_x264TEMP_MPY_wvf_snd.mp3\n"
     ]
    },
    {
     "name": "stderr",
     "output_type": "stream",
     "text": [
      "                                                                   \r"
     ]
    },
    {
     "name": "stdout",
     "output_type": "stream",
     "text": [
      "MoviePy - Done.\n",
      "Moviepy - Writing video S:\\Academic\\Final Year Project\\crime-detection\\Subclips\\Stealing028_x264.mp4\n",
      "\n"
     ]
    },
    {
     "name": "stderr",
     "output_type": "stream",
     "text": [
      "                                                               \r"
     ]
    },
    {
     "name": "stdout",
     "output_type": "stream",
     "text": [
      "Moviepy - Done !\n",
      "Moviepy - video ready S:\\Academic\\Final Year Project\\crime-detection\\Subclips\\Stealing028_x264.mp4\n",
      "Stealing028_x264.mp4 37 45\n",
      "Moviepy - Building video S:\\Academic\\Final Year Project\\crime-detection\\Subclips\\Stealing029_x264.mp4.\n",
      "MoviePy - Writing audio in Stealing029_x264TEMP_MPY_wvf_snd.mp3\n"
     ]
    },
    {
     "name": "stderr",
     "output_type": "stream",
     "text": [
      "                                                                  \r"
     ]
    },
    {
     "name": "stdout",
     "output_type": "stream",
     "text": [
      "MoviePy - Done.\n",
      "Moviepy - Writing video S:\\Academic\\Final Year Project\\crime-detection\\Subclips\\Stealing029_x264.mp4\n",
      "\n"
     ]
    },
    {
     "name": "stderr",
     "output_type": "stream",
     "text": [
      "                                                              \r"
     ]
    },
    {
     "name": "stdout",
     "output_type": "stream",
     "text": [
      "Moviepy - Done !\n",
      "Moviepy - video ready S:\\Academic\\Final Year Project\\crime-detection\\Subclips\\Stealing029_x264.mp4\n",
      "Stealing029_x264.mp4 3 8\n",
      "Moviepy - Building video S:\\Academic\\Final Year Project\\crime-detection\\Subclips\\Stealing030_x264.mp4.\n",
      "MoviePy - Writing audio in Stealing030_x264TEMP_MPY_wvf_snd.mp3\n"
     ]
    },
    {
     "name": "stderr",
     "output_type": "stream",
     "text": [
      "                                                                    "
     ]
    },
    {
     "name": "stdout",
     "output_type": "stream",
     "text": [
      "MoviePy - Done.\n",
      "Moviepy - Writing video S:\\Academic\\Final Year Project\\crime-detection\\Subclips\\Stealing030_x264.mp4\n",
      "\n"
     ]
    },
    {
     "name": "stderr",
     "output_type": "stream",
     "text": [
      "                                                                \r"
     ]
    },
    {
     "name": "stdout",
     "output_type": "stream",
     "text": [
      "Moviepy - Done !\n",
      "Moviepy - video ready S:\\Academic\\Final Year Project\\crime-detection\\Subclips\\Stealing030_x264.mp4\n",
      "Stealing030_x264.mp4 9 22\n",
      "Moviepy - Building video S:\\Academic\\Final Year Project\\crime-detection\\Subclips\\Stealing031_x264.mp4.\n",
      "MoviePy - Writing audio in Stealing031_x264TEMP_MPY_wvf_snd.mp3\n"
     ]
    },
    {
     "name": "stderr",
     "output_type": "stream",
     "text": [
      "                                                                    \r"
     ]
    },
    {
     "name": "stdout",
     "output_type": "stream",
     "text": [
      "MoviePy - Done.\n",
      "Moviepy - Writing video S:\\Academic\\Final Year Project\\crime-detection\\Subclips\\Stealing031_x264.mp4\n",
      "\n"
     ]
    },
    {
     "name": "stderr",
     "output_type": "stream",
     "text": [
      "                                                               \r"
     ]
    },
    {
     "name": "stdout",
     "output_type": "stream",
     "text": [
      "Moviepy - Done !\n",
      "Moviepy - video ready S:\\Academic\\Final Year Project\\crime-detection\\Subclips\\Stealing031_x264.mp4\n",
      "Stealing031_x264.mp4 17 30\n",
      "Moviepy - Building video S:\\Academic\\Final Year Project\\crime-detection\\Subclips\\Stealing032_x264.mp4.\n",
      "MoviePy - Writing audio in Stealing032_x264TEMP_MPY_wvf_snd.mp3\n"
     ]
    },
    {
     "name": "stderr",
     "output_type": "stream",
     "text": [
      "                                                                      \r"
     ]
    },
    {
     "name": "stdout",
     "output_type": "stream",
     "text": [
      "MoviePy - Done.\n",
      "Moviepy - Writing video S:\\Academic\\Final Year Project\\crime-detection\\Subclips\\Stealing032_x264.mp4\n",
      "\n"
     ]
    },
    {
     "name": "stderr",
     "output_type": "stream",
     "text": [
      "                                                                  \r"
     ]
    },
    {
     "name": "stdout",
     "output_type": "stream",
     "text": [
      "Moviepy - Done !\n",
      "Moviepy - video ready S:\\Academic\\Final Year Project\\crime-detection\\Subclips\\Stealing032_x264.mp4\n",
      "Stealing032_x264.mp4 76 127\n",
      "Moviepy - Building video S:\\Academic\\Final Year Project\\crime-detection\\Subclips\\Stealing035_x264.mp4.\n",
      "MoviePy - Writing audio in Stealing035_x264TEMP_MPY_wvf_snd.mp3\n"
     ]
    },
    {
     "name": "stderr",
     "output_type": "stream",
     "text": [
      "                                                                      \r"
     ]
    },
    {
     "name": "stdout",
     "output_type": "stream",
     "text": [
      "MoviePy - Done.\n",
      "Moviepy - Writing video S:\\Academic\\Final Year Project\\crime-detection\\Subclips\\Stealing035_x264.mp4\n",
      "\n"
     ]
    },
    {
     "name": "stderr",
     "output_type": "stream",
     "text": [
      "                                                                  \r"
     ]
    },
    {
     "name": "stdout",
     "output_type": "stream",
     "text": [
      "Moviepy - Done !\n",
      "Moviepy - video ready S:\\Academic\\Final Year Project\\crime-detection\\Subclips\\Stealing035_x264.mp4\n",
      "Stealing035_x264.mp4 32 198\n",
      "Moviepy - Building video S:\\Academic\\Final Year Project\\crime-detection\\Subclips\\Stealing036_x264.mp4.\n",
      "MoviePy - Writing audio in Stealing036_x264TEMP_MPY_wvf_snd.mp3\n"
     ]
    },
    {
     "name": "stderr",
     "output_type": "stream",
     "text": [
      "                                                                    \r"
     ]
    },
    {
     "name": "stdout",
     "output_type": "stream",
     "text": [
      "MoviePy - Done.\n",
      "Moviepy - Writing video S:\\Academic\\Final Year Project\\crime-detection\\Subclips\\Stealing036_x264.mp4\n",
      "\n"
     ]
    },
    {
     "name": "stderr",
     "output_type": "stream",
     "text": [
      "                                                               \r"
     ]
    },
    {
     "name": "stdout",
     "output_type": "stream",
     "text": [
      "Moviepy - Done !\n",
      "Moviepy - video ready S:\\Academic\\Final Year Project\\crime-detection\\Subclips\\Stealing036_x264.mp4\n",
      "Stealing036_x264.mp4 41 54\n",
      "Moviepy - Building video S:\\Academic\\Final Year Project\\crime-detection\\Subclips\\Stealing037_x264.mp4.\n",
      "MoviePy - Writing audio in Stealing037_x264TEMP_MPY_wvf_snd.mp3\n"
     ]
    },
    {
     "name": "stderr",
     "output_type": "stream",
     "text": [
      "                                                                      \r"
     ]
    },
    {
     "name": "stdout",
     "output_type": "stream",
     "text": [
      "MoviePy - Done.\n",
      "Moviepy - Writing video S:\\Academic\\Final Year Project\\crime-detection\\Subclips\\Stealing037_x264.mp4\n",
      "\n"
     ]
    },
    {
     "name": "stderr",
     "output_type": "stream",
     "text": [
      "                                                                  \r"
     ]
    },
    {
     "name": "stdout",
     "output_type": "stream",
     "text": [
      "Moviepy - Done !\n",
      "Moviepy - video ready S:\\Academic\\Final Year Project\\crime-detection\\Subclips\\Stealing037_x264.mp4\n",
      "Stealing037_x264.mp4 5 154\n",
      "Moviepy - Building video S:\\Academic\\Final Year Project\\crime-detection\\Subclips\\Stealing042_x264.mp4.\n",
      "MoviePy - Writing audio in Stealing042_x264TEMP_MPY_wvf_snd.mp3\n"
     ]
    },
    {
     "name": "stderr",
     "output_type": "stream",
     "text": [
      "                                                                      \r"
     ]
    },
    {
     "name": "stdout",
     "output_type": "stream",
     "text": [
      "MoviePy - Done.\n",
      "Moviepy - Writing video S:\\Academic\\Final Year Project\\crime-detection\\Subclips\\Stealing042_x264.mp4\n",
      "\n"
     ]
    },
    {
     "name": "stderr",
     "output_type": "stream",
     "text": [
      "                                                                  \r"
     ]
    },
    {
     "name": "stdout",
     "output_type": "stream",
     "text": [
      "Moviepy - Done !\n",
      "Moviepy - video ready S:\\Academic\\Final Year Project\\crime-detection\\Subclips\\Stealing042_x264.mp4\n",
      "Stealing042_x264.mp4 0 140\n",
      "Moviepy - Building video S:\\Academic\\Final Year Project\\crime-detection\\Subclips\\Stealing043_x264.mp4.\n",
      "MoviePy - Writing audio in Stealing043_x264TEMP_MPY_wvf_snd.mp3\n"
     ]
    },
    {
     "name": "stderr",
     "output_type": "stream",
     "text": [
      "                                                                      \r"
     ]
    },
    {
     "name": "stdout",
     "output_type": "stream",
     "text": [
      "MoviePy - Done.\n",
      "Moviepy - Writing video S:\\Academic\\Final Year Project\\crime-detection\\Subclips\\Stealing043_x264.mp4\n",
      "\n"
     ]
    },
    {
     "name": "stderr",
     "output_type": "stream",
     "text": [
      "                                                                  \r"
     ]
    },
    {
     "name": "stdout",
     "output_type": "stream",
     "text": [
      "Moviepy - Done !\n",
      "Moviepy - video ready S:\\Academic\\Final Year Project\\crime-detection\\Subclips\\Stealing043_x264.mp4\n",
      "Stealing043_x264.mp4 3 136\n",
      "Moviepy - Building video S:\\Academic\\Final Year Project\\crime-detection\\Subclips\\Stealing044_x264.mp4.\n",
      "MoviePy - Writing audio in Stealing044_x264TEMP_MPY_wvf_snd.mp3\n"
     ]
    },
    {
     "name": "stderr",
     "output_type": "stream",
     "text": [
      "                                                                    \r"
     ]
    },
    {
     "name": "stdout",
     "output_type": "stream",
     "text": [
      "MoviePy - Done.\n",
      "Moviepy - Writing video S:\\Academic\\Final Year Project\\crime-detection\\Subclips\\Stealing044_x264.mp4\n",
      "\n"
     ]
    },
    {
     "name": "stderr",
     "output_type": "stream",
     "text": [
      "                                                                  \r"
     ]
    },
    {
     "name": "stdout",
     "output_type": "stream",
     "text": [
      "Moviepy - Done !\n",
      "Moviepy - video ready S:\\Academic\\Final Year Project\\crime-detection\\Subclips\\Stealing044_x264.mp4\n",
      "Stealing044_x264.mp4 53 95\n",
      "Moviepy - Building video S:\\Academic\\Final Year Project\\crime-detection\\Subclips\\Stealing045_x264.mp4.\n",
      "MoviePy - Writing audio in Stealing045_x264TEMP_MPY_wvf_snd.mp3\n"
     ]
    },
    {
     "name": "stderr",
     "output_type": "stream",
     "text": [
      "                                                                      \r"
     ]
    },
    {
     "name": "stdout",
     "output_type": "stream",
     "text": [
      "MoviePy - Done.\n",
      "Moviepy - Writing video S:\\Academic\\Final Year Project\\crime-detection\\Subclips\\Stealing045_x264.mp4\n",
      "\n"
     ]
    },
    {
     "name": "stderr",
     "output_type": "stream",
     "text": [
      "                                                                  \r"
     ]
    },
    {
     "name": "stdout",
     "output_type": "stream",
     "text": [
      "Moviepy - Done !\n",
      "Moviepy - video ready S:\\Academic\\Final Year Project\\crime-detection\\Subclips\\Stealing045_x264.mp4\n",
      "Stealing045_x264.mp4 103 317\n",
      "Moviepy - Building video S:\\Academic\\Final Year Project\\crime-detection\\Subclips\\Stealing046_x264.mp4.\n",
      "MoviePy - Writing audio in Stealing046_x264TEMP_MPY_wvf_snd.mp3\n"
     ]
    },
    {
     "name": "stderr",
     "output_type": "stream",
     "text": [
      "                                                                    \r"
     ]
    },
    {
     "name": "stdout",
     "output_type": "stream",
     "text": [
      "MoviePy - Done.\n",
      "Moviepy - Writing video S:\\Academic\\Final Year Project\\crime-detection\\Subclips\\Stealing046_x264.mp4\n",
      "\n"
     ]
    },
    {
     "name": "stderr",
     "output_type": "stream",
     "text": [
      "                                                                 \r"
     ]
    },
    {
     "name": "stdout",
     "output_type": "stream",
     "text": [
      "Moviepy - Done !\n",
      "Moviepy - video ready S:\\Academic\\Final Year Project\\crime-detection\\Subclips\\Stealing046_x264.mp4\n",
      "Stealing046_x264.mp4 0 35\n",
      "Moviepy - Building video S:\\Academic\\Final Year Project\\crime-detection\\Subclips\\Stealing047_x264.mp4.\n",
      "MoviePy - Writing audio in Stealing047_x264TEMP_MPY_wvf_snd.mp3\n"
     ]
    },
    {
     "name": "stderr",
     "output_type": "stream",
     "text": [
      "                                                                    \r"
     ]
    },
    {
     "name": "stdout",
     "output_type": "stream",
     "text": [
      "MoviePy - Done.\n",
      "Moviepy - Writing video S:\\Academic\\Final Year Project\\crime-detection\\Subclips\\Stealing047_x264.mp4\n",
      "\n"
     ]
    },
    {
     "name": "stderr",
     "output_type": "stream",
     "text": [
      "                                                                \r"
     ]
    },
    {
     "name": "stdout",
     "output_type": "stream",
     "text": [
      "Moviepy - Done !\n",
      "Moviepy - video ready S:\\Academic\\Final Year Project\\crime-detection\\Subclips\\Stealing047_x264.mp4\n",
      "Stealing047_x264.mp4 20 29\n",
      "Moviepy - Building video S:\\Academic\\Final Year Project\\crime-detection\\Subclips\\Stealing048_x264.mp4.\n",
      "MoviePy - Writing audio in Stealing048_x264TEMP_MPY_wvf_snd.mp3\n"
     ]
    },
    {
     "name": "stderr",
     "output_type": "stream",
     "text": [
      "                                                                      \r"
     ]
    },
    {
     "name": "stdout",
     "output_type": "stream",
     "text": [
      "MoviePy - Done.\n",
      "Moviepy - Writing video S:\\Academic\\Final Year Project\\crime-detection\\Subclips\\Stealing048_x264.mp4\n",
      "\n"
     ]
    },
    {
     "name": "stderr",
     "output_type": "stream",
     "text": [
      "                                                                  \r"
     ]
    },
    {
     "name": "stdout",
     "output_type": "stream",
     "text": [
      "Moviepy - Done !\n",
      "Moviepy - video ready S:\\Academic\\Final Year Project\\crime-detection\\Subclips\\Stealing048_x264.mp4\n",
      "Stealing048_x264.mp4 32 252\n",
      "Moviepy - Building video S:\\Academic\\Final Year Project\\crime-detection\\Subclips\\Stealing049_x264.mp4.\n",
      "MoviePy - Writing audio in Stealing049_x264TEMP_MPY_wvf_snd.mp3\n"
     ]
    },
    {
     "name": "stderr",
     "output_type": "stream",
     "text": [
      "                                                                    \r"
     ]
    },
    {
     "name": "stdout",
     "output_type": "stream",
     "text": [
      "MoviePy - Done.\n",
      "Moviepy - Writing video S:\\Academic\\Final Year Project\\crime-detection\\Subclips\\Stealing049_x264.mp4\n",
      "\n"
     ]
    },
    {
     "name": "stderr",
     "output_type": "stream",
     "text": [
      "                                                                 \r"
     ]
    },
    {
     "name": "stdout",
     "output_type": "stream",
     "text": [
      "Moviepy - Done !\n",
      "Moviepy - video ready S:\\Academic\\Final Year Project\\crime-detection\\Subclips\\Stealing049_x264.mp4\n",
      "Stealing049_x264.mp4 12 49\n",
      "Moviepy - Building video S:\\Academic\\Final Year Project\\crime-detection\\Subclips\\Stealing050_x264.mp4.\n",
      "MoviePy - Writing audio in Stealing050_x264TEMP_MPY_wvf_snd.mp3\n"
     ]
    },
    {
     "name": "stderr",
     "output_type": "stream",
     "text": [
      "                                                                      \r"
     ]
    },
    {
     "name": "stdout",
     "output_type": "stream",
     "text": [
      "MoviePy - Done.\n",
      "Moviepy - Writing video S:\\Academic\\Final Year Project\\crime-detection\\Subclips\\Stealing050_x264.mp4\n",
      "\n"
     ]
    },
    {
     "name": "stderr",
     "output_type": "stream",
     "text": [
      "                                                                  \r"
     ]
    },
    {
     "name": "stdout",
     "output_type": "stream",
     "text": [
      "Moviepy - Done !\n",
      "Moviepy - video ready S:\\Academic\\Final Year Project\\crime-detection\\Subclips\\Stealing050_x264.mp4\n",
      "Stealing050_x264.mp4 17 101\n",
      "Moviepy - Building video S:\\Academic\\Final Year Project\\crime-detection\\Subclips\\Stealing051_x264.mp4.\n",
      "MoviePy - Writing audio in Stealing051_x264TEMP_MPY_wvf_snd.mp3\n"
     ]
    },
    {
     "name": "stderr",
     "output_type": "stream",
     "text": [
      "                                                                      \r"
     ]
    },
    {
     "name": "stdout",
     "output_type": "stream",
     "text": [
      "MoviePy - Done.\n",
      "Moviepy - Writing video S:\\Academic\\Final Year Project\\crime-detection\\Subclips\\Stealing051_x264.mp4\n",
      "\n"
     ]
    },
    {
     "name": "stderr",
     "output_type": "stream",
     "text": [
      "                                                                  \r"
     ]
    },
    {
     "name": "stdout",
     "output_type": "stream",
     "text": [
      "Moviepy - Done !\n",
      "Moviepy - video ready S:\\Academic\\Final Year Project\\crime-detection\\Subclips\\Stealing051_x264.mp4\n",
      "Stealing051_x264.mp4 27 81\n",
      "Moviepy - Building video S:\\Academic\\Final Year Project\\crime-detection\\Subclips\\Stealing052_x264.mp4.\n",
      "MoviePy - Writing audio in Stealing052_x264TEMP_MPY_wvf_snd.mp3\n"
     ]
    },
    {
     "name": "stderr",
     "output_type": "stream",
     "text": [
      "                                                                      \r"
     ]
    },
    {
     "name": "stdout",
     "output_type": "stream",
     "text": [
      "MoviePy - Done.\n",
      "Moviepy - Writing video S:\\Academic\\Final Year Project\\crime-detection\\Subclips\\Stealing052_x264.mp4\n",
      "\n"
     ]
    },
    {
     "name": "stderr",
     "output_type": "stream",
     "text": [
      "                                                                  \r"
     ]
    },
    {
     "name": "stdout",
     "output_type": "stream",
     "text": [
      "Moviepy - Done !\n",
      "Moviepy - video ready S:\\Academic\\Final Year Project\\crime-detection\\Subclips\\Stealing052_x264.mp4\n",
      "Stealing052_x264.mp4 4 105\n",
      "Moviepy - Building video S:\\Academic\\Final Year Project\\crime-detection\\Subclips\\Stealing053_x264.mp4.\n",
      "MoviePy - Writing audio in Stealing053_x264TEMP_MPY_wvf_snd.mp3\n"
     ]
    },
    {
     "name": "stderr",
     "output_type": "stream",
     "text": [
      "                                                                      \r"
     ]
    },
    {
     "name": "stdout",
     "output_type": "stream",
     "text": [
      "MoviePy - Done.\n",
      "Moviepy - Writing video S:\\Academic\\Final Year Project\\crime-detection\\Subclips\\Stealing053_x264.mp4\n",
      "\n"
     ]
    },
    {
     "name": "stderr",
     "output_type": "stream",
     "text": [
      "                                                                    \r"
     ]
    },
    {
     "name": "stdout",
     "output_type": "stream",
     "text": [
      "Moviepy - Done !\n",
      "Moviepy - video ready S:\\Academic\\Final Year Project\\crime-detection\\Subclips\\Stealing053_x264.mp4\n",
      "Stealing053_x264.mp4 2 343\n",
      "Moviepy - Building video S:\\Academic\\Final Year Project\\crime-detection\\Subclips\\Stealing054_x264.mp4.\n",
      "MoviePy - Writing audio in Stealing054_x264TEMP_MPY_wvf_snd.mp3\n"
     ]
    },
    {
     "name": "stderr",
     "output_type": "stream",
     "text": [
      "                                                                    \r"
     ]
    },
    {
     "name": "stdout",
     "output_type": "stream",
     "text": [
      "MoviePy - Done.\n",
      "Moviepy - Writing video S:\\Academic\\Final Year Project\\crime-detection\\Subclips\\Stealing054_x264.mp4\n",
      "\n"
     ]
    },
    {
     "name": "stderr",
     "output_type": "stream",
     "text": [
      "                                                                  \r"
     ]
    },
    {
     "name": "stdout",
     "output_type": "stream",
     "text": [
      "Moviepy - Done !\n",
      "Moviepy - video ready S:\\Academic\\Final Year Project\\crime-detection\\Subclips\\Stealing054_x264.mp4\n",
      "Stealing054_x264.mp4 49 85\n",
      "Moviepy - Building video S:\\Academic\\Final Year Project\\crime-detection\\Subclips\\Stealing055_x264.mp4.\n",
      "MoviePy - Writing audio in Stealing055_x264TEMP_MPY_wvf_snd.mp3\n"
     ]
    },
    {
     "name": "stderr",
     "output_type": "stream",
     "text": [
      "                                                                    \r"
     ]
    },
    {
     "name": "stdout",
     "output_type": "stream",
     "text": [
      "MoviePy - Done.\n",
      "Moviepy - Writing video S:\\Academic\\Final Year Project\\crime-detection\\Subclips\\Stealing055_x264.mp4\n",
      "\n"
     ]
    },
    {
     "name": "stderr",
     "output_type": "stream",
     "text": [
      "                                                                  \r"
     ]
    },
    {
     "name": "stdout",
     "output_type": "stream",
     "text": [
      "Moviepy - Done !\n",
      "Moviepy - video ready S:\\Academic\\Final Year Project\\crime-detection\\Subclips\\Stealing055_x264.mp4\n",
      "Stealing055_x264.mp4 14 53\n",
      "Moviepy - Building video S:\\Academic\\Final Year Project\\crime-detection\\Subclips\\Stealing057_x264.mp4.\n",
      "MoviePy - Writing audio in Stealing057_x264TEMP_MPY_wvf_snd.mp3\n"
     ]
    },
    {
     "name": "stderr",
     "output_type": "stream",
     "text": [
      "                                                                    \r"
     ]
    },
    {
     "name": "stdout",
     "output_type": "stream",
     "text": [
      "MoviePy - Done.\n",
      "Moviepy - Writing video S:\\Academic\\Final Year Project\\crime-detection\\Subclips\\Stealing057_x264.mp4\n",
      "\n"
     ]
    },
    {
     "name": "stderr",
     "output_type": "stream",
     "text": [
      "                                                                \r"
     ]
    },
    {
     "name": "stdout",
     "output_type": "stream",
     "text": [
      "Moviepy - Done !\n",
      "Moviepy - video ready S:\\Academic\\Final Year Project\\crime-detection\\Subclips\\Stealing057_x264.mp4\n",
      "Stealing057_x264.mp4 26 46\n",
      "Moviepy - Building video S:\\Academic\\Final Year Project\\crime-detection\\Subclips\\Stealing058_x264.mp4.\n",
      "MoviePy - Writing audio in Stealing058_x264TEMP_MPY_wvf_snd.mp3\n"
     ]
    },
    {
     "name": "stderr",
     "output_type": "stream",
     "text": [
      "                                                                      \r"
     ]
    },
    {
     "name": "stdout",
     "output_type": "stream",
     "text": [
      "MoviePy - Done.\n",
      "Moviepy - Writing video S:\\Academic\\Final Year Project\\crime-detection\\Subclips\\Stealing058_x264.mp4\n",
      "\n"
     ]
    },
    {
     "name": "stderr",
     "output_type": "stream",
     "text": [
      "                                                                  \r"
     ]
    },
    {
     "name": "stdout",
     "output_type": "stream",
     "text": [
      "Moviepy - Done !\n",
      "Moviepy - video ready S:\\Academic\\Final Year Project\\crime-detection\\Subclips\\Stealing058_x264.mp4\n",
      "Stealing058_x264.mp4 5 139\n",
      "Moviepy - Building video S:\\Academic\\Final Year Project\\crime-detection\\Subclips\\Stealing059_x264.mp4.\n",
      "MoviePy - Writing audio in Stealing059_x264TEMP_MPY_wvf_snd.mp3\n"
     ]
    },
    {
     "name": "stderr",
     "output_type": "stream",
     "text": [
      "                                                                      \r"
     ]
    },
    {
     "name": "stdout",
     "output_type": "stream",
     "text": [
      "MoviePy - Done.\n",
      "Moviepy - Writing video S:\\Academic\\Final Year Project\\crime-detection\\Subclips\\Stealing059_x264.mp4\n",
      "\n"
     ]
    },
    {
     "name": "stderr",
     "output_type": "stream",
     "text": [
      "                                                                  \r"
     ]
    },
    {
     "name": "stdout",
     "output_type": "stream",
     "text": [
      "Moviepy - Done !\n",
      "Moviepy - video ready S:\\Academic\\Final Year Project\\crime-detection\\Subclips\\Stealing059_x264.mp4\n",
      "Stealing059_x264.mp4 19 74\n",
      "Moviepy - Building video S:\\Academic\\Final Year Project\\crime-detection\\Subclips\\Stealing060_x264.mp4.\n",
      "MoviePy - Writing audio in Stealing060_x264TEMP_MPY_wvf_snd.mp3\n"
     ]
    },
    {
     "name": "stderr",
     "output_type": "stream",
     "text": [
      "                                                                    \r"
     ]
    },
    {
     "name": "stdout",
     "output_type": "stream",
     "text": [
      "MoviePy - Done.\n",
      "Moviepy - Writing video S:\\Academic\\Final Year Project\\crime-detection\\Subclips\\Stealing060_x264.mp4\n",
      "\n"
     ]
    },
    {
     "name": "stderr",
     "output_type": "stream",
     "text": [
      "                                                                \r"
     ]
    },
    {
     "name": "stdout",
     "output_type": "stream",
     "text": [
      "Moviepy - Done !\n",
      "Moviepy - video ready S:\\Academic\\Final Year Project\\crime-detection\\Subclips\\Stealing060_x264.mp4\n",
      "Stealing060_x264.mp4 18 34\n",
      "Moviepy - Building video S:\\Academic\\Final Year Project\\crime-detection\\Subclips\\Stealing061_x264.mp4.\n",
      "Moviepy - Writing video S:\\Academic\\Final Year Project\\crime-detection\\Subclips\\Stealing061_x264.mp4\n",
      "\n"
     ]
    },
    {
     "name": "stderr",
     "output_type": "stream",
     "text": [
      "                                                                  \r"
     ]
    },
    {
     "name": "stdout",
     "output_type": "stream",
     "text": [
      "Moviepy - Done !\n",
      "Moviepy - video ready S:\\Academic\\Final Year Project\\crime-detection\\Subclips\\Stealing061_x264.mp4\n",
      "Stealing061_x264.mp4 13 72\n",
      "Moviepy - Building video S:\\Academic\\Final Year Project\\crime-detection\\Subclips\\Stealing062_x264.mp4.\n",
      "MoviePy - Writing audio in Stealing062_x264TEMP_MPY_wvf_snd.mp3\n"
     ]
    },
    {
     "name": "stderr",
     "output_type": "stream",
     "text": [
      "                                                                    \r"
     ]
    },
    {
     "name": "stdout",
     "output_type": "stream",
     "text": [
      "MoviePy - Done.\n",
      "Moviepy - Writing video S:\\Academic\\Final Year Project\\crime-detection\\Subclips\\Stealing062_x264.mp4\n",
      "\n"
     ]
    },
    {
     "name": "stderr",
     "output_type": "stream",
     "text": [
      "                                                               \r"
     ]
    },
    {
     "name": "stdout",
     "output_type": "stream",
     "text": [
      "Moviepy - Done !\n",
      "Moviepy - video ready S:\\Academic\\Final Year Project\\crime-detection\\Subclips\\Stealing062_x264.mp4\n",
      "Stealing062_x264.mp4 9 36\n",
      "Moviepy - Building video S:\\Academic\\Final Year Project\\crime-detection\\Subclips\\Stealing063_x264.mp4.\n",
      "MoviePy - Writing audio in Stealing063_x264TEMP_MPY_wvf_snd.mp3\n"
     ]
    },
    {
     "name": "stderr",
     "output_type": "stream",
     "text": [
      "                                                                      \r"
     ]
    },
    {
     "name": "stdout",
     "output_type": "stream",
     "text": [
      "MoviePy - Done.\n",
      "Moviepy - Writing video S:\\Academic\\Final Year Project\\crime-detection\\Subclips\\Stealing063_x264.mp4\n",
      "\n"
     ]
    },
    {
     "name": "stderr",
     "output_type": "stream",
     "text": [
      "                                                                  \r"
     ]
    },
    {
     "name": "stdout",
     "output_type": "stream",
     "text": [
      "Moviepy - Done !\n",
      "Moviepy - video ready S:\\Academic\\Final Year Project\\crime-detection\\Subclips\\Stealing063_x264.mp4\n",
      "Stealing063_x264.mp4 47 140\n",
      "Moviepy - Building video S:\\Academic\\Final Year Project\\crime-detection\\Subclips\\Stealing065_x264.mp4.\n",
      "MoviePy - Writing audio in Stealing065_x264TEMP_MPY_wvf_snd.mp3\n"
     ]
    },
    {
     "name": "stderr",
     "output_type": "stream",
     "text": [
      "                                                                      \r"
     ]
    },
    {
     "name": "stdout",
     "output_type": "stream",
     "text": [
      "MoviePy - Done.\n",
      "Moviepy - Writing video S:\\Academic\\Final Year Project\\crime-detection\\Subclips\\Stealing065_x264.mp4\n",
      "\n"
     ]
    },
    {
     "name": "stderr",
     "output_type": "stream",
     "text": [
      "                                                                  \r"
     ]
    },
    {
     "name": "stdout",
     "output_type": "stream",
     "text": [
      "Moviepy - Done !\n",
      "Moviepy - video ready S:\\Academic\\Final Year Project\\crime-detection\\Subclips\\Stealing065_x264.mp4\n",
      "Stealing065_x264.mp4 20 178\n",
      "Moviepy - Building video S:\\Academic\\Final Year Project\\crime-detection\\Subclips\\Stealing066_x264.mp4.\n",
      "MoviePy - Writing audio in Stealing066_x264TEMP_MPY_wvf_snd.mp3\n"
     ]
    },
    {
     "name": "stderr",
     "output_type": "stream",
     "text": [
      "                                                                    \r"
     ]
    },
    {
     "name": "stdout",
     "output_type": "stream",
     "text": [
      "MoviePy - Done.\n",
      "Moviepy - Writing video S:\\Academic\\Final Year Project\\crime-detection\\Subclips\\Stealing066_x264.mp4\n",
      "\n"
     ]
    },
    {
     "name": "stderr",
     "output_type": "stream",
     "text": [
      "                                                               \r"
     ]
    },
    {
     "name": "stdout",
     "output_type": "stream",
     "text": [
      "Moviepy - Done !\n",
      "Moviepy - video ready S:\\Academic\\Final Year Project\\crime-detection\\Subclips\\Stealing066_x264.mp4\n",
      "Stealing066_x264.mp4 4 19\n",
      "Moviepy - Building video S:\\Academic\\Final Year Project\\crime-detection\\Subclips\\Stealing067_x264.mp4.\n",
      "MoviePy - Writing audio in Stealing067_x264TEMP_MPY_wvf_snd.mp3\n"
     ]
    },
    {
     "name": "stderr",
     "output_type": "stream",
     "text": [
      "                                                                  \r"
     ]
    },
    {
     "name": "stdout",
     "output_type": "stream",
     "text": [
      "MoviePy - Done.\n",
      "Moviepy - Writing video S:\\Academic\\Final Year Project\\crime-detection\\Subclips\\Stealing067_x264.mp4\n",
      "\n"
     ]
    },
    {
     "name": "stderr",
     "output_type": "stream",
     "text": [
      "                                                               \r"
     ]
    },
    {
     "name": "stdout",
     "output_type": "stream",
     "text": [
      "Moviepy - Done !\n",
      "Moviepy - video ready S:\\Academic\\Final Year Project\\crime-detection\\Subclips\\Stealing067_x264.mp4\n",
      "Stealing067_x264.mp4 30 38\n",
      "Moviepy - Building video S:\\Academic\\Final Year Project\\crime-detection\\Subclips\\Stealing068_x264.mp4.\n",
      "MoviePy - Writing audio in Stealing068_x264TEMP_MPY_wvf_snd.mp3\n"
     ]
    },
    {
     "name": "stderr",
     "output_type": "stream",
     "text": [
      "                                                                      \r"
     ]
    },
    {
     "name": "stdout",
     "output_type": "stream",
     "text": [
      "MoviePy - Done.\n",
      "Moviepy - Writing video S:\\Academic\\Final Year Project\\crime-detection\\Subclips\\Stealing068_x264.mp4\n",
      "\n"
     ]
    },
    {
     "name": "stderr",
     "output_type": "stream",
     "text": [
      "                                                                  \r"
     ]
    },
    {
     "name": "stdout",
     "output_type": "stream",
     "text": [
      "Moviepy - Done !\n",
      "Moviepy - video ready S:\\Academic\\Final Year Project\\crime-detection\\Subclips\\Stealing068_x264.mp4\n",
      "Stealing068_x264.mp4 44 222\n",
      "Moviepy - Building video S:\\Academic\\Final Year Project\\crime-detection\\Subclips\\Stealing069_x264.mp4.\n",
      "MoviePy - Writing audio in Stealing069_x264TEMP_MPY_wvf_snd.mp3\n"
     ]
    },
    {
     "name": "stderr",
     "output_type": "stream",
     "text": [
      "                                                                    \r"
     ]
    },
    {
     "name": "stdout",
     "output_type": "stream",
     "text": [
      "MoviePy - Done.\n",
      "Moviepy - Writing video S:\\Academic\\Final Year Project\\crime-detection\\Subclips\\Stealing069_x264.mp4\n",
      "\n"
     ]
    },
    {
     "name": "stderr",
     "output_type": "stream",
     "text": [
      "                                                                \r"
     ]
    },
    {
     "name": "stdout",
     "output_type": "stream",
     "text": [
      "Moviepy - Done !\n",
      "Moviepy - video ready S:\\Academic\\Final Year Project\\crime-detection\\Subclips\\Stealing069_x264.mp4\n",
      "Stealing069_x264.mp4 10 20\n",
      "Moviepy - Building video S:\\Academic\\Final Year Project\\crime-detection\\Subclips\\Stealing070_x264.mp4.\n",
      "MoviePy - Writing audio in Stealing070_x264TEMP_MPY_wvf_snd.mp3\n"
     ]
    },
    {
     "name": "stderr",
     "output_type": "stream",
     "text": [
      "                                                                    \r"
     ]
    },
    {
     "name": "stdout",
     "output_type": "stream",
     "text": [
      "MoviePy - Done.\n",
      "Moviepy - Writing video S:\\Academic\\Final Year Project\\crime-detection\\Subclips\\Stealing070_x264.mp4\n",
      "\n"
     ]
    },
    {
     "name": "stderr",
     "output_type": "stream",
     "text": [
      "                                                                \r"
     ]
    },
    {
     "name": "stdout",
     "output_type": "stream",
     "text": [
      "Moviepy - Done !\n",
      "Moviepy - video ready S:\\Academic\\Final Year Project\\crime-detection\\Subclips\\Stealing070_x264.mp4\n",
      "Stealing070_x264.mp4 12 35\n",
      "Moviepy - Building video S:\\Academic\\Final Year Project\\crime-detection\\Subclips\\Stealing071_x264.mp4.\n",
      "MoviePy - Writing audio in Stealing071_x264TEMP_MPY_wvf_snd.mp3\n"
     ]
    },
    {
     "name": "stderr",
     "output_type": "stream",
     "text": [
      "                                                                    \r"
     ]
    },
    {
     "name": "stdout",
     "output_type": "stream",
     "text": [
      "MoviePy - Done.\n",
      "Moviepy - Writing video S:\\Academic\\Final Year Project\\crime-detection\\Subclips\\Stealing071_x264.mp4\n",
      "\n"
     ]
    },
    {
     "name": "stderr",
     "output_type": "stream",
     "text": [
      "                                                                \r"
     ]
    },
    {
     "name": "stdout",
     "output_type": "stream",
     "text": [
      "Moviepy - Done !\n",
      "Moviepy - video ready S:\\Academic\\Final Year Project\\crime-detection\\Subclips\\Stealing071_x264.mp4\n",
      "Stealing071_x264.mp4 4 32\n",
      "Moviepy - Building video S:\\Academic\\Final Year Project\\crime-detection\\Subclips\\Stealing072_x264.mp4.\n",
      "MoviePy - Writing audio in Stealing072_x264TEMP_MPY_wvf_snd.mp3\n"
     ]
    },
    {
     "name": "stderr",
     "output_type": "stream",
     "text": [
      "                                                                      \r"
     ]
    },
    {
     "name": "stdout",
     "output_type": "stream",
     "text": [
      "MoviePy - Done.\n",
      "Moviepy - Writing video S:\\Academic\\Final Year Project\\crime-detection\\Subclips\\Stealing072_x264.mp4\n",
      "\n"
     ]
    },
    {
     "name": "stderr",
     "output_type": "stream",
     "text": [
      "                                                                    \r"
     ]
    },
    {
     "name": "stdout",
     "output_type": "stream",
     "text": [
      "Moviepy - Done !\n",
      "Moviepy - video ready S:\\Academic\\Final Year Project\\crime-detection\\Subclips\\Stealing072_x264.mp4\n",
      "Stealing072_x264.mp4 0 387\n",
      "Moviepy - Building video S:\\Academic\\Final Year Project\\crime-detection\\Subclips\\Stealing073_x264.mp4.\n",
      "MoviePy - Writing audio in Stealing073_x264TEMP_MPY_wvf_snd.mp3\n"
     ]
    },
    {
     "name": "stderr",
     "output_type": "stream",
     "text": [
      "                                                                    \r"
     ]
    },
    {
     "name": "stdout",
     "output_type": "stream",
     "text": [
      "MoviePy - Done.\n",
      "Moviepy - Writing video S:\\Academic\\Final Year Project\\crime-detection\\Subclips\\Stealing073_x264.mp4\n",
      "\n"
     ]
    },
    {
     "name": "stderr",
     "output_type": "stream",
     "text": [
      "                                                                \r"
     ]
    },
    {
     "name": "stdout",
     "output_type": "stream",
     "text": [
      "Moviepy - Done !\n",
      "Moviepy - video ready S:\\Academic\\Final Year Project\\crime-detection\\Subclips\\Stealing073_x264.mp4\n",
      "Stealing073_x264.mp4 16 30\n",
      "Moviepy - Building video S:\\Academic\\Final Year Project\\crime-detection\\Subclips\\Stealing074_x264.mp4.\n",
      "MoviePy - Writing audio in Stealing074_x264TEMP_MPY_wvf_snd.mp3\n"
     ]
    },
    {
     "name": "stderr",
     "output_type": "stream",
     "text": [
      "                                                                    \r"
     ]
    },
    {
     "name": "stdout",
     "output_type": "stream",
     "text": [
      "MoviePy - Done.\n",
      "Moviepy - Writing video S:\\Academic\\Final Year Project\\crime-detection\\Subclips\\Stealing074_x264.mp4\n",
      "\n"
     ]
    },
    {
     "name": "stderr",
     "output_type": "stream",
     "text": [
      "                                                                  \r"
     ]
    },
    {
     "name": "stdout",
     "output_type": "stream",
     "text": [
      "Moviepy - Done !\n",
      "Moviepy - video ready S:\\Academic\\Final Year Project\\crime-detection\\Subclips\\Stealing074_x264.mp4\n",
      "Stealing074_x264.mp4 14 58\n",
      "Moviepy - Building video S:\\Academic\\Final Year Project\\crime-detection\\Subclips\\Stealing075_x264.mp4.\n",
      "MoviePy - Writing audio in Stealing075_x264TEMP_MPY_wvf_snd.mp3\n"
     ]
    },
    {
     "name": "stderr",
     "output_type": "stream",
     "text": [
      "                                                                      \r"
     ]
    },
    {
     "name": "stdout",
     "output_type": "stream",
     "text": [
      "MoviePy - Done.\n",
      "Moviepy - Writing video S:\\Academic\\Final Year Project\\crime-detection\\Subclips\\Stealing075_x264.mp4\n",
      "\n"
     ]
    },
    {
     "name": "stderr",
     "output_type": "stream",
     "text": [
      "                                                                  \r"
     ]
    },
    {
     "name": "stdout",
     "output_type": "stream",
     "text": [
      "Moviepy - Done !\n",
      "Moviepy - video ready S:\\Academic\\Final Year Project\\crime-detection\\Subclips\\Stealing075_x264.mp4\n",
      "Stealing075_x264.mp4 0 168\n",
      "Moviepy - Building video S:\\Academic\\Final Year Project\\crime-detection\\Subclips\\Stealing077_x264.mp4.\n",
      "MoviePy - Writing audio in Stealing077_x264TEMP_MPY_wvf_snd.mp3\n"
     ]
    },
    {
     "name": "stderr",
     "output_type": "stream",
     "text": [
      "                                                                      \r"
     ]
    },
    {
     "name": "stdout",
     "output_type": "stream",
     "text": [
      "MoviePy - Done.\n",
      "Moviepy - Writing video S:\\Academic\\Final Year Project\\crime-detection\\Subclips\\Stealing077_x264.mp4\n",
      "\n"
     ]
    },
    {
     "name": "stderr",
     "output_type": "stream",
     "text": [
      "                                                                  \r"
     ]
    },
    {
     "name": "stdout",
     "output_type": "stream",
     "text": [
      "Moviepy - Done !\n",
      "Moviepy - video ready S:\\Academic\\Final Year Project\\crime-detection\\Subclips\\Stealing077_x264.mp4\n",
      "Stealing077_x264.mp4 75 160\n",
      "Moviepy - Building video S:\\Academic\\Final Year Project\\crime-detection\\Subclips\\Stealing078_x264.mp4.\n",
      "MoviePy - Writing audio in Stealing078_x264TEMP_MPY_wvf_snd.mp3\n"
     ]
    },
    {
     "name": "stderr",
     "output_type": "stream",
     "text": [
      "                                                                      \r"
     ]
    },
    {
     "name": "stdout",
     "output_type": "stream",
     "text": [
      "MoviePy - Done.\n",
      "Moviepy - Writing video S:\\Academic\\Final Year Project\\crime-detection\\Subclips\\Stealing078_x264.mp4\n",
      "\n"
     ]
    },
    {
     "name": "stderr",
     "output_type": "stream",
     "text": [
      "                                                                  \r"
     ]
    },
    {
     "name": "stdout",
     "output_type": "stream",
     "text": [
      "Moviepy - Done !\n",
      "Moviepy - video ready S:\\Academic\\Final Year Project\\crime-detection\\Subclips\\Stealing078_x264.mp4\n",
      "Stealing078_x264.mp4 18 75\n",
      "Moviepy - Building video S:\\Academic\\Final Year Project\\crime-detection\\Subclips\\Stealing079_x264.mp4.\n",
      "MoviePy - Writing audio in Stealing079_x264TEMP_MPY_wvf_snd.mp3\n"
     ]
    },
    {
     "name": "stderr",
     "output_type": "stream",
     "text": [
      "                                                                      \r"
     ]
    },
    {
     "name": "stdout",
     "output_type": "stream",
     "text": [
      "MoviePy - Done.\n",
      "Moviepy - Writing video S:\\Academic\\Final Year Project\\crime-detection\\Subclips\\Stealing079_x264.mp4\n",
      "\n"
     ]
    },
    {
     "name": "stderr",
     "output_type": "stream",
     "text": [
      "                                                                  \r"
     ]
    },
    {
     "name": "stdout",
     "output_type": "stream",
     "text": [
      "Moviepy - Done !\n",
      "Moviepy - video ready S:\\Academic\\Final Year Project\\crime-detection\\Subclips\\Stealing079_x264.mp4\n",
      "Stealing079_x264.mp4 55 147\n",
      "Moviepy - Building video S:\\Academic\\Final Year Project\\crime-detection\\Subclips\\Stealing080_x264.mp4.\n",
      "MoviePy - Writing audio in Stealing080_x264TEMP_MPY_wvf_snd.mp3\n"
     ]
    },
    {
     "name": "stderr",
     "output_type": "stream",
     "text": [
      "                                                                    \r"
     ]
    },
    {
     "name": "stdout",
     "output_type": "stream",
     "text": [
      "MoviePy - Done.\n",
      "Moviepy - Writing video S:\\Academic\\Final Year Project\\crime-detection\\Subclips\\Stealing080_x264.mp4\n",
      "\n"
     ]
    },
    {
     "name": "stderr",
     "output_type": "stream",
     "text": [
      "                                                               \r"
     ]
    },
    {
     "name": "stdout",
     "output_type": "stream",
     "text": [
      "Moviepy - Done !\n",
      "Moviepy - video ready S:\\Academic\\Final Year Project\\crime-detection\\Subclips\\Stealing080_x264.mp4\n",
      "Stealing080_x264.mp4 5 30\n",
      "Moviepy - Building video S:\\Academic\\Final Year Project\\crime-detection\\Subclips\\Stealing081_x264.mp4.\n",
      "MoviePy - Writing audio in Stealing081_x264TEMP_MPY_wvf_snd.mp3\n"
     ]
    },
    {
     "name": "stderr",
     "output_type": "stream",
     "text": [
      "                                                                    \r"
     ]
    },
    {
     "name": "stdout",
     "output_type": "stream",
     "text": [
      "MoviePy - Done.\n",
      "Moviepy - Writing video S:\\Academic\\Final Year Project\\crime-detection\\Subclips\\Stealing081_x264.mp4\n",
      "\n"
     ]
    },
    {
     "name": "stderr",
     "output_type": "stream",
     "text": [
      "                                                                \r"
     ]
    },
    {
     "name": "stdout",
     "output_type": "stream",
     "text": [
      "Moviepy - Done !\n",
      "Moviepy - video ready S:\\Academic\\Final Year Project\\crime-detection\\Subclips\\Stealing081_x264.mp4\n",
      "Stealing081_x264.mp4 16 40\n",
      "Moviepy - Building video S:\\Academic\\Final Year Project\\crime-detection\\Subclips\\Stealing082_x264.mp4.\n",
      "MoviePy - Writing audio in Stealing082_x264TEMP_MPY_wvf_snd.mp3\n"
     ]
    },
    {
     "name": "stderr",
     "output_type": "stream",
     "text": [
      "                                                                    \r"
     ]
    },
    {
     "name": "stdout",
     "output_type": "stream",
     "text": [
      "MoviePy - Done.\n",
      "Moviepy - Writing video S:\\Academic\\Final Year Project\\crime-detection\\Subclips\\Stealing082_x264.mp4\n",
      "\n"
     ]
    },
    {
     "name": "stderr",
     "output_type": "stream",
     "text": [
      "                                                                \r"
     ]
    },
    {
     "name": "stdout",
     "output_type": "stream",
     "text": [
      "Moviepy - Done !\n",
      "Moviepy - video ready S:\\Academic\\Final Year Project\\crime-detection\\Subclips\\Stealing082_x264.mp4\n",
      "Stealing082_x264.mp4 20 45\n",
      "Moviepy - Building video S:\\Academic\\Final Year Project\\crime-detection\\Subclips\\Stealing083_x264.mp4.\n",
      "MoviePy - Writing audio in Stealing083_x264TEMP_MPY_wvf_snd.mp3\n"
     ]
    },
    {
     "name": "stderr",
     "output_type": "stream",
     "text": [
      "                                                                    \r"
     ]
    },
    {
     "name": "stdout",
     "output_type": "stream",
     "text": [
      "MoviePy - Done.\n",
      "Moviepy - Writing video S:\\Academic\\Final Year Project\\crime-detection\\Subclips\\Stealing083_x264.mp4\n",
      "\n"
     ]
    },
    {
     "name": "stderr",
     "output_type": "stream",
     "text": [
      "                                                                \r"
     ]
    },
    {
     "name": "stdout",
     "output_type": "stream",
     "text": [
      "Moviepy - Done !\n",
      "Moviepy - video ready S:\\Academic\\Final Year Project\\crime-detection\\Subclips\\Stealing083_x264.mp4\n",
      "Stealing083_x264.mp4 100 130\n",
      "Moviepy - Building video S:\\Academic\\Final Year Project\\crime-detection\\Subclips\\Stealing084_x264.mp4.\n",
      "MoviePy - Writing audio in Stealing084_x264TEMP_MPY_wvf_snd.mp3\n"
     ]
    },
    {
     "name": "stderr",
     "output_type": "stream",
     "text": [
      "                                                                        \r"
     ]
    },
    {
     "name": "stdout",
     "output_type": "stream",
     "text": [
      "MoviePy - Done.\n",
      "Moviepy - Writing video S:\\Academic\\Final Year Project\\crime-detection\\Subclips\\Stealing084_x264.mp4\n",
      "\n"
     ]
    },
    {
     "name": "stderr",
     "output_type": "stream",
     "text": [
      "                                                                    \r"
     ]
    },
    {
     "name": "stdout",
     "output_type": "stream",
     "text": [
      "Moviepy - Done !\n",
      "Moviepy - video ready S:\\Academic\\Final Year Project\\crime-detection\\Subclips\\Stealing084_x264.mp4\n",
      "Stealing084_x264.mp4 25 496\n",
      "Moviepy - Building video S:\\Academic\\Final Year Project\\crime-detection\\Subclips\\Stealing086_x264.mp4.\n",
      "MoviePy - Writing audio in Stealing086_x264TEMP_MPY_wvf_snd.mp3\n"
     ]
    },
    {
     "name": "stderr",
     "output_type": "stream",
     "text": [
      "                                                                  \r"
     ]
    },
    {
     "name": "stdout",
     "output_type": "stream",
     "text": [
      "MoviePy - Done.\n",
      "Moviepy - Writing video S:\\Academic\\Final Year Project\\crime-detection\\Subclips\\Stealing086_x264.mp4\n",
      "\n"
     ]
    },
    {
     "name": "stderr",
     "output_type": "stream",
     "text": [
      "                                                                \r"
     ]
    },
    {
     "name": "stdout",
     "output_type": "stream",
     "text": [
      "Moviepy - Done !\n",
      "Moviepy - video ready S:\\Academic\\Final Year Project\\crime-detection\\Subclips\\Stealing086_x264.mp4\n",
      "Stealing086_x264.mp4 399 414\n",
      "Moviepy - Building video S:\\Academic\\Final Year Project\\crime-detection\\Subclips\\Stealing087_x264.mp4.\n",
      "MoviePy - Writing audio in Stealing087_x264TEMP_MPY_wvf_snd.mp3\n"
     ]
    },
    {
     "name": "stderr",
     "output_type": "stream",
     "text": [
      "                                                                      \r"
     ]
    },
    {
     "name": "stdout",
     "output_type": "stream",
     "text": [
      "MoviePy - Done.\n",
      "Moviepy - Writing video S:\\Academic\\Final Year Project\\crime-detection\\Subclips\\Stealing087_x264.mp4\n",
      "\n"
     ]
    },
    {
     "name": "stderr",
     "output_type": "stream",
     "text": [
      "                                                                  \r"
     ]
    },
    {
     "name": "stdout",
     "output_type": "stream",
     "text": [
      "Moviepy - Done !\n",
      "Moviepy - video ready S:\\Academic\\Final Year Project\\crime-detection\\Subclips\\Stealing087_x264.mp4\n",
      "Stealing087_x264.mp4 2 161\n",
      "Moviepy - Building video S:\\Academic\\Final Year Project\\crime-detection\\Subclips\\Stealing088_x264.mp4.\n",
      "MoviePy - Writing audio in Stealing088_x264TEMP_MPY_wvf_snd.mp3\n"
     ]
    },
    {
     "name": "stderr",
     "output_type": "stream",
     "text": [
      "                                                                    \r"
     ]
    },
    {
     "name": "stdout",
     "output_type": "stream",
     "text": [
      "MoviePy - Done.\n",
      "Moviepy - Writing video S:\\Academic\\Final Year Project\\crime-detection\\Subclips\\Stealing088_x264.mp4\n",
      "\n"
     ]
    },
    {
     "name": "stderr",
     "output_type": "stream",
     "text": [
      "                                                                \r"
     ]
    },
    {
     "name": "stdout",
     "output_type": "stream",
     "text": [
      "Moviepy - Done !\n",
      "Moviepy - video ready S:\\Academic\\Final Year Project\\crime-detection\\Subclips\\Stealing088_x264.mp4\n",
      "Stealing088_x264.mp4 88 108\n",
      "Moviepy - Building video S:\\Academic\\Final Year Project\\crime-detection\\Subclips\\Stealing089_x264.mp4.\n",
      "MoviePy - Writing audio in Stealing089_x264TEMP_MPY_wvf_snd.mp3\n"
     ]
    },
    {
     "name": "stderr",
     "output_type": "stream",
     "text": [
      "                                                                      \r"
     ]
    },
    {
     "name": "stdout",
     "output_type": "stream",
     "text": [
      "MoviePy - Done.\n",
      "Moviepy - Writing video S:\\Academic\\Final Year Project\\crime-detection\\Subclips\\Stealing089_x264.mp4\n",
      "\n"
     ]
    },
    {
     "name": "stderr",
     "output_type": "stream",
     "text": [
      "                                                                    \r"
     ]
    },
    {
     "name": "stdout",
     "output_type": "stream",
     "text": [
      "Moviepy - Done !\n",
      "Moviepy - video ready S:\\Academic\\Final Year Project\\crime-detection\\Subclips\\Stealing089_x264.mp4\n",
      "Stealing089_x264.mp4 9 403\n",
      "Moviepy - Building video S:\\Academic\\Final Year Project\\crime-detection\\Subclips\\Stealing091_x264.mp4.\n",
      "MoviePy - Writing audio in Stealing091_x264TEMP_MPY_wvf_snd.mp3\n"
     ]
    },
    {
     "name": "stderr",
     "output_type": "stream",
     "text": [
      "                                                                  \r"
     ]
    },
    {
     "name": "stdout",
     "output_type": "stream",
     "text": [
      "MoviePy - Done.\n",
      "Moviepy - Writing video S:\\Academic\\Final Year Project\\crime-detection\\Subclips\\Stealing091_x264.mp4\n",
      "\n"
     ]
    },
    {
     "name": "stderr",
     "output_type": "stream",
     "text": [
      "                                                                \r"
     ]
    },
    {
     "name": "stdout",
     "output_type": "stream",
     "text": [
      "Moviepy - Done !\n",
      "Moviepy - video ready S:\\Academic\\Final Year Project\\crime-detection\\Subclips\\Stealing091_x264.mp4\n",
      "Stealing091_x264.mp4 7 16\n",
      "Moviepy - Building video S:\\Academic\\Final Year Project\\crime-detection\\Subclips\\Stealing092_x264.mp4.\n",
      "MoviePy - Writing audio in Stealing092_x264TEMP_MPY_wvf_snd.mp3\n"
     ]
    },
    {
     "name": "stderr",
     "output_type": "stream",
     "text": [
      "                                                                      \r"
     ]
    },
    {
     "name": "stdout",
     "output_type": "stream",
     "text": [
      "MoviePy - Done.\n",
      "Moviepy - Writing video S:\\Academic\\Final Year Project\\crime-detection\\Subclips\\Stealing092_x264.mp4\n",
      "\n"
     ]
    },
    {
     "name": "stderr",
     "output_type": "stream",
     "text": [
      "                                                                  \r"
     ]
    },
    {
     "name": "stdout",
     "output_type": "stream",
     "text": [
      "Moviepy - Done !\n",
      "Moviepy - video ready S:\\Academic\\Final Year Project\\crime-detection\\Subclips\\Stealing092_x264.mp4\n",
      "Stealing092_x264.mp4 68 338\n",
      "Moviepy - Building video S:\\Academic\\Final Year Project\\crime-detection\\Subclips\\Stealing093_x264.mp4.\n",
      "MoviePy - Writing audio in Stealing093_x264TEMP_MPY_wvf_snd.mp3\n"
     ]
    },
    {
     "name": "stderr",
     "output_type": "stream",
     "text": [
      "                                                                    \r"
     ]
    },
    {
     "name": "stdout",
     "output_type": "stream",
     "text": [
      "MoviePy - Done.\n",
      "Moviepy - Writing video S:\\Academic\\Final Year Project\\crime-detection\\Subclips\\Stealing093_x264.mp4\n",
      "\n"
     ]
    },
    {
     "name": "stderr",
     "output_type": "stream",
     "text": [
      "                                                                \r"
     ]
    },
    {
     "name": "stdout",
     "output_type": "stream",
     "text": [
      "Moviepy - Done !\n",
      "Moviepy - video ready S:\\Academic\\Final Year Project\\crime-detection\\Subclips\\Stealing093_x264.mp4\n",
      "Stealing093_x264.mp4 19 36\n",
      "Moviepy - Building video S:\\Academic\\Final Year Project\\crime-detection\\Subclips\\Stealing094_x264.mp4.\n",
      "MoviePy - Writing audio in Stealing094_x264TEMP_MPY_wvf_snd.mp3\n"
     ]
    },
    {
     "name": "stderr",
     "output_type": "stream",
     "text": [
      "                                                                      \r"
     ]
    },
    {
     "name": "stdout",
     "output_type": "stream",
     "text": [
      "MoviePy - Done.\n",
      "Moviepy - Writing video S:\\Academic\\Final Year Project\\crime-detection\\Subclips\\Stealing094_x264.mp4\n",
      "\n"
     ]
    },
    {
     "name": "stderr",
     "output_type": "stream",
     "text": [
      "                                                                  \r"
     ]
    },
    {
     "name": "stdout",
     "output_type": "stream",
     "text": [
      "Moviepy - Done !\n",
      "Moviepy - video ready S:\\Academic\\Final Year Project\\crime-detection\\Subclips\\Stealing094_x264.mp4\n",
      "Stealing094_x264.mp4 15 99\n",
      "Moviepy - Building video S:\\Academic\\Final Year Project\\crime-detection\\Subclips\\Stealing095_x264.mp4.\n",
      "MoviePy - Writing audio in Stealing095_x264TEMP_MPY_wvf_snd.mp3\n"
     ]
    },
    {
     "name": "stderr",
     "output_type": "stream",
     "text": [
      "                                                                    \r"
     ]
    },
    {
     "name": "stdout",
     "output_type": "stream",
     "text": [
      "MoviePy - Done.\n",
      "Moviepy - Writing video S:\\Academic\\Final Year Project\\crime-detection\\Subclips\\Stealing095_x264.mp4\n",
      "\n"
     ]
    },
    {
     "name": "stderr",
     "output_type": "stream",
     "text": [
      "                                                                \r"
     ]
    },
    {
     "name": "stdout",
     "output_type": "stream",
     "text": [
      "Moviepy - Done !\n",
      "Moviepy - video ready S:\\Academic\\Final Year Project\\crime-detection\\Subclips\\Stealing095_x264.mp4\n",
      "Stealing095_x264.mp4 10 22\n",
      "Moviepy - Building video S:\\Academic\\Final Year Project\\crime-detection\\Subclips\\Stealing096_x264.mp4.\n",
      "MoviePy - Writing audio in Stealing096_x264TEMP_MPY_wvf_snd.mp3\n"
     ]
    },
    {
     "name": "stderr",
     "output_type": "stream",
     "text": [
      "                                                                      \r"
     ]
    },
    {
     "name": "stdout",
     "output_type": "stream",
     "text": [
      "MoviePy - Done.\n",
      "Moviepy - Writing video S:\\Academic\\Final Year Project\\crime-detection\\Subclips\\Stealing096_x264.mp4\n",
      "\n"
     ]
    },
    {
     "name": "stderr",
     "output_type": "stream",
     "text": [
      "                                                                  \r"
     ]
    },
    {
     "name": "stdout",
     "output_type": "stream",
     "text": [
      "Moviepy - Done !\n",
      "Moviepy - video ready S:\\Academic\\Final Year Project\\crime-detection\\Subclips\\Stealing096_x264.mp4\n",
      "Stealing096_x264.mp4 53 180\n",
      "Moviepy - Building video S:\\Academic\\Final Year Project\\crime-detection\\Subclips\\Stealing097_x264.mp4.\n",
      "MoviePy - Writing audio in Stealing097_x264TEMP_MPY_wvf_snd.mp3\n"
     ]
    },
    {
     "name": "stderr",
     "output_type": "stream",
     "text": [
      "                                                                    "
     ]
    },
    {
     "name": "stdout",
     "output_type": "stream",
     "text": [
      "MoviePy - Done.\n",
      "Moviepy - Writing video S:\\Academic\\Final Year Project\\crime-detection\\Subclips\\Stealing097_x264.mp4\n",
      "\n"
     ]
    },
    {
     "name": "stderr",
     "output_type": "stream",
     "text": [
      "                                                               \r"
     ]
    },
    {
     "name": "stdout",
     "output_type": "stream",
     "text": [
      "Moviepy - Done !\n",
      "Moviepy - video ready S:\\Academic\\Final Year Project\\crime-detection\\Subclips\\Stealing097_x264.mp4\n",
      "Stealing097_x264.mp4 6 21\n",
      "Moviepy - Building video S:\\Academic\\Final Year Project\\crime-detection\\Subclips\\Stealing098_x264.mp4.\n",
      "MoviePy - Writing audio in Stealing098_x264TEMP_MPY_wvf_snd.mp3\n"
     ]
    },
    {
     "name": "stderr",
     "output_type": "stream",
     "text": [
      "                                                                      \r"
     ]
    },
    {
     "name": "stdout",
     "output_type": "stream",
     "text": [
      "MoviePy - Done.\n",
      "Moviepy - Writing video S:\\Academic\\Final Year Project\\crime-detection\\Subclips\\Stealing098_x264.mp4\n",
      "\n"
     ]
    },
    {
     "name": "stderr",
     "output_type": "stream",
     "text": [
      "                                                                 \r"
     ]
    },
    {
     "name": "stdout",
     "output_type": "stream",
     "text": [
      "Moviepy - Done !\n",
      "Moviepy - video ready S:\\Academic\\Final Year Project\\crime-detection\\Subclips\\Stealing098_x264.mp4\n",
      "Stealing098_x264.mp4 48 115\n",
      "Moviepy - Building video S:\\Academic\\Final Year Project\\crime-detection\\Subclips\\Stealing100_x264.mp4.\n",
      "MoviePy - Writing audio in Stealing100_x264TEMP_MPY_wvf_snd.mp3\n"
     ]
    },
    {
     "name": "stderr",
     "output_type": "stream",
     "text": [
      "                                                                        \r"
     ]
    },
    {
     "name": "stdout",
     "output_type": "stream",
     "text": [
      "MoviePy - Done.\n",
      "Moviepy - Writing video S:\\Academic\\Final Year Project\\crime-detection\\Subclips\\Stealing100_x264.mp4\n",
      "\n"
     ]
    },
    {
     "name": "stderr",
     "output_type": "stream",
     "text": [
      "                                                                    \r"
     ]
    },
    {
     "name": "stdout",
     "output_type": "stream",
     "text": [
      "Moviepy - Done !\n",
      "Moviepy - video ready S:\\Academic\\Final Year Project\\crime-detection\\Subclips\\Stealing100_x264.mp4\n",
      "Stealing100_x264.mp4 21 511\n",
      "Moviepy - Building video S:\\Academic\\Final Year Project\\crime-detection\\Subclips\\Stealing101_x264.mp4.\n",
      "MoviePy - Writing audio in Stealing101_x264TEMP_MPY_wvf_snd.mp3\n"
     ]
    },
    {
     "name": "stderr",
     "output_type": "stream",
     "text": [
      "                                                                    \r"
     ]
    },
    {
     "name": "stdout",
     "output_type": "stream",
     "text": [
      "MoviePy - Done.\n",
      "Moviepy - Writing video S:\\Academic\\Final Year Project\\crime-detection\\Subclips\\Stealing101_x264.mp4\n",
      "\n"
     ]
    },
    {
     "name": "stderr",
     "output_type": "stream",
     "text": [
      "                                                                \r"
     ]
    },
    {
     "name": "stdout",
     "output_type": "stream",
     "text": [
      "Moviepy - Done !\n",
      "Moviepy - video ready S:\\Academic\\Final Year Project\\crime-detection\\Subclips\\Stealing101_x264.mp4\n",
      "Stealing101_x264.mp4 40 67\n",
      "Moviepy - Building video S:\\Academic\\Final Year Project\\crime-detection\\Subclips\\Stealing102_x264.mp4.\n",
      "MoviePy - Writing audio in Stealing102_x264TEMP_MPY_wvf_snd.mp3\n"
     ]
    },
    {
     "name": "stderr",
     "output_type": "stream",
     "text": [
      "                                                                    \r"
     ]
    },
    {
     "name": "stdout",
     "output_type": "stream",
     "text": [
      "MoviePy - Done.\n",
      "Moviepy - Writing video S:\\Academic\\Final Year Project\\crime-detection\\Subclips\\Stealing102_x264.mp4\n",
      "\n"
     ]
    },
    {
     "name": "stderr",
     "output_type": "stream",
     "text": [
      "                                                                \r"
     ]
    },
    {
     "name": "stdout",
     "output_type": "stream",
     "text": [
      "Moviepy - Done !\n",
      "Moviepy - video ready S:\\Academic\\Final Year Project\\crime-detection\\Subclips\\Stealing102_x264.mp4\n",
      "Stealing102_x264.mp4 10 34\n",
      "Moviepy - Building video S:\\Academic\\Final Year Project\\crime-detection\\Subclips\\Stealing103_x264.mp4.\n",
      "MoviePy - Writing audio in Stealing103_x264TEMP_MPY_wvf_snd.mp3\n"
     ]
    },
    {
     "name": "stderr",
     "output_type": "stream",
     "text": [
      "                                                                      \r"
     ]
    },
    {
     "name": "stdout",
     "output_type": "stream",
     "text": [
      "MoviePy - Done.\n",
      "Moviepy - Writing video S:\\Academic\\Final Year Project\\crime-detection\\Subclips\\Stealing103_x264.mp4\n",
      "\n"
     ]
    },
    {
     "name": "stderr",
     "output_type": "stream",
     "text": [
      "                                                                  \r"
     ]
    },
    {
     "name": "stdout",
     "output_type": "stream",
     "text": [
      "Moviepy - Done !\n",
      "Moviepy - video ready S:\\Academic\\Final Year Project\\crime-detection\\Subclips\\Stealing103_x264.mp4\n",
      "Stealing103_x264.mp4 19 177\n",
      "Moviepy - Building video S:\\Academic\\Final Year Project\\crime-detection\\Subclips\\Stealing104_x264.mp4.\n",
      "MoviePy - Writing audio in Stealing104_x264TEMP_MPY_wvf_snd.mp3\n"
     ]
    },
    {
     "name": "stderr",
     "output_type": "stream",
     "text": [
      "                                                                      \r"
     ]
    },
    {
     "name": "stdout",
     "output_type": "stream",
     "text": [
      "MoviePy - Done.\n",
      "Moviepy - Writing video S:\\Academic\\Final Year Project\\crime-detection\\Subclips\\Stealing104_x264.mp4\n",
      "\n"
     ]
    },
    {
     "name": "stderr",
     "output_type": "stream",
     "text": [
      "                                                                  \r"
     ]
    },
    {
     "name": "stdout",
     "output_type": "stream",
     "text": [
      "Moviepy - Done !\n",
      "Moviepy - video ready S:\\Academic\\Final Year Project\\crime-detection\\Subclips\\Stealing104_x264.mp4\n",
      "Stealing104_x264.mp4 11 101\n",
      "Moviepy - Building video S:\\Academic\\Final Year Project\\crime-detection\\Subclips\\Stealing105_x264.mp4.\n",
      "MoviePy - Writing audio in Stealing105_x264TEMP_MPY_wvf_snd.mp3\n"
     ]
    },
    {
     "name": "stderr",
     "output_type": "stream",
     "text": [
      "                                                                    \r"
     ]
    },
    {
     "name": "stdout",
     "output_type": "stream",
     "text": [
      "MoviePy - Done.\n",
      "Moviepy - Writing video S:\\Academic\\Final Year Project\\crime-detection\\Subclips\\Stealing105_x264.mp4\n",
      "\n"
     ]
    },
    {
     "name": "stderr",
     "output_type": "stream",
     "text": [
      "                                                               \r"
     ]
    },
    {
     "name": "stdout",
     "output_type": "stream",
     "text": [
      "Moviepy - Done !\n",
      "Moviepy - video ready S:\\Academic\\Final Year Project\\crime-detection\\Subclips\\Stealing105_x264.mp4\n",
      "Stealing105_x264.mp4 4 24\n",
      "Moviepy - Building video S:\\Academic\\Final Year Project\\crime-detection\\Subclips\\Stealing106_x264.mp4.\n",
      "MoviePy - Writing audio in Stealing106_x264TEMP_MPY_wvf_snd.mp3\n"
     ]
    },
    {
     "name": "stderr",
     "output_type": "stream",
     "text": [
      "                                                                    \r"
     ]
    },
    {
     "name": "stdout",
     "output_type": "stream",
     "text": [
      "MoviePy - Done.\n",
      "Moviepy - Writing video S:\\Academic\\Final Year Project\\crime-detection\\Subclips\\Stealing106_x264.mp4\n",
      "\n"
     ]
    },
    {
     "name": "stderr",
     "output_type": "stream",
     "text": [
      "                                                                  \r"
     ]
    },
    {
     "name": "stdout",
     "output_type": "stream",
     "text": [
      "Moviepy - Done !\n",
      "Moviepy - video ready S:\\Academic\\Final Year Project\\crime-detection\\Subclips\\Stealing106_x264.mp4\n",
      "Stealing106_x264.mp4 0 38\n",
      "Moviepy - Building video S:\\Academic\\Final Year Project\\crime-detection\\Subclips\\Stealing107_x264.mp4.\n",
      "MoviePy - Writing audio in Stealing107_x264TEMP_MPY_wvf_snd.mp3\n"
     ]
    },
    {
     "name": "stderr",
     "output_type": "stream",
     "text": [
      "                                                                      \r"
     ]
    },
    {
     "name": "stdout",
     "output_type": "stream",
     "text": [
      "MoviePy - Done.\n",
      "Moviepy - Writing video S:\\Academic\\Final Year Project\\crime-detection\\Subclips\\Stealing107_x264.mp4\n",
      "\n"
     ]
    },
    {
     "name": "stderr",
     "output_type": "stream",
     "text": [
      "                                                                  \r"
     ]
    },
    {
     "name": "stdout",
     "output_type": "stream",
     "text": [
      "Moviepy - Done !\n",
      "Moviepy - video ready S:\\Academic\\Final Year Project\\crime-detection\\Subclips\\Stealing107_x264.mp4\n",
      "Stealing107_x264.mp4 7 145\n",
      "Moviepy - Building video S:\\Academic\\Final Year Project\\crime-detection\\Subclips\\Stealing108_x264.mp4.\n",
      "MoviePy - Writing audio in Stealing108_x264TEMP_MPY_wvf_snd.mp3\n"
     ]
    },
    {
     "name": "stderr",
     "output_type": "stream",
     "text": [
      "                                                                      \r"
     ]
    },
    {
     "name": "stdout",
     "output_type": "stream",
     "text": [
      "MoviePy - Done.\n",
      "Moviepy - Writing video S:\\Academic\\Final Year Project\\crime-detection\\Subclips\\Stealing108_x264.mp4\n",
      "\n"
     ]
    },
    {
     "name": "stderr",
     "output_type": "stream",
     "text": [
      "                                                                  \r"
     ]
    },
    {
     "name": "stdout",
     "output_type": "stream",
     "text": [
      "Moviepy - Done !\n",
      "Moviepy - video ready S:\\Academic\\Final Year Project\\crime-detection\\Subclips\\Stealing108_x264.mp4\n",
      "Stealing108_x264.mp4 29 119\n",
      "Moviepy - Building video S:\\Academic\\Final Year Project\\crime-detection\\Subclips\\Stealing109_x264.mp4.\n",
      "MoviePy - Writing audio in Stealing109_x264TEMP_MPY_wvf_snd.mp3\n"
     ]
    },
    {
     "name": "stderr",
     "output_type": "stream",
     "text": [
      "                                                                      \r"
     ]
    },
    {
     "name": "stdout",
     "output_type": "stream",
     "text": [
      "MoviePy - Done.\n",
      "Moviepy - Writing video S:\\Academic\\Final Year Project\\crime-detection\\Subclips\\Stealing109_x264.mp4\n",
      "\n"
     ]
    },
    {
     "name": "stderr",
     "output_type": "stream",
     "text": [
      "                                                                  \r"
     ]
    },
    {
     "name": "stdout",
     "output_type": "stream",
     "text": [
      "Moviepy - Done !\n",
      "Moviepy - video ready S:\\Academic\\Final Year Project\\crime-detection\\Subclips\\Stealing109_x264.mp4\n",
      "Stealing109_x264.mp4 107 288\n",
      "Moviepy - Building video S:\\Academic\\Final Year Project\\crime-detection\\Subclips\\Stealing110_x264.mp4.\n",
      "MoviePy - Writing audio in Stealing110_x264TEMP_MPY_wvf_snd.mp3\n"
     ]
    },
    {
     "name": "stderr",
     "output_type": "stream",
     "text": [
      "                                                                    \r"
     ]
    },
    {
     "name": "stdout",
     "output_type": "stream",
     "text": [
      "MoviePy - Done.\n",
      "Moviepy - Writing video S:\\Academic\\Final Year Project\\crime-detection\\Subclips\\Stealing110_x264.mp4\n",
      "\n"
     ]
    },
    {
     "name": "stderr",
     "output_type": "stream",
     "text": [
      "                                                                  \r"
     ]
    },
    {
     "name": "stdout",
     "output_type": "stream",
     "text": [
      "Moviepy - Done !\n",
      "Moviepy - video ready S:\\Academic\\Final Year Project\\crime-detection\\Subclips\\Stealing110_x264.mp4\n",
      "Stealing110_x264.mp4 11 53\n",
      "Moviepy - Building video S:\\Academic\\Final Year Project\\crime-detection\\Subclips\\Stealing111_x264.mp4.\n",
      "MoviePy - Writing audio in Stealing111_x264TEMP_MPY_wvf_snd.mp3\n"
     ]
    },
    {
     "name": "stderr",
     "output_type": "stream",
     "text": [
      "                                                                      \r"
     ]
    },
    {
     "name": "stdout",
     "output_type": "stream",
     "text": [
      "MoviePy - Done.\n",
      "Moviepy - Writing video S:\\Academic\\Final Year Project\\crime-detection\\Subclips\\Stealing111_x264.mp4\n",
      "\n"
     ]
    },
    {
     "name": "stderr",
     "output_type": "stream",
     "text": [
      "                                                                  \r"
     ]
    },
    {
     "name": "stdout",
     "output_type": "stream",
     "text": [
      "Moviepy - Done !\n",
      "Moviepy - video ready S:\\Academic\\Final Year Project\\crime-detection\\Subclips\\Stealing111_x264.mp4\n",
      "Stealing111_x264.mp4 0 152\n",
      "Moviepy - Building video S:\\Academic\\Final Year Project\\crime-detection\\Subclips\\Stealing112_x264.mp4.\n",
      "MoviePy - Writing audio in Stealing112_x264TEMP_MPY_wvf_snd.mp3\n"
     ]
    },
    {
     "name": "stderr",
     "output_type": "stream",
     "text": [
      "                                                                     \r"
     ]
    },
    {
     "name": "stdout",
     "output_type": "stream",
     "text": [
      "MoviePy - Done.\n",
      "Moviepy - Writing video S:\\Academic\\Final Year Project\\crime-detection\\Subclips\\Stealing112_x264.mp4\n",
      "\n"
     ]
    },
    {
     "name": "stderr",
     "output_type": "stream",
     "text": [
      "                                                                 \r"
     ]
    },
    {
     "name": "stdout",
     "output_type": "stream",
     "text": [
      "Moviepy - Done !\n",
      "Moviepy - video ready S:\\Academic\\Final Year Project\\crime-detection\\Subclips\\Stealing112_x264.mp4\n",
      "Stealing112_x264.mp4 9 62\n",
      "Moviepy - Building video S:\\Academic\\Final Year Project\\crime-detection\\Subclips\\Stealing113_x264.mp4.\n",
      "MoviePy - Writing audio in Stealing113_x264TEMP_MPY_wvf_snd.mp3\n"
     ]
    },
    {
     "name": "stderr",
     "output_type": "stream",
     "text": [
      "                                                                    \r"
     ]
    },
    {
     "name": "stdout",
     "output_type": "stream",
     "text": [
      "MoviePy - Done.\n",
      "Moviepy - Writing video S:\\Academic\\Final Year Project\\crime-detection\\Subclips\\Stealing113_x264.mp4\n",
      "\n"
     ]
    },
    {
     "name": "stderr",
     "output_type": "stream",
     "text": [
      "                                                                \r"
     ]
    },
    {
     "name": "stdout",
     "output_type": "stream",
     "text": [
      "Moviepy - Done !\n",
      "Moviepy - video ready S:\\Academic\\Final Year Project\\crime-detection\\Subclips\\Stealing113_x264.mp4\n",
      "Stealing113_x264.mp4 21 46\n",
      "Moviepy - Building video S:\\Academic\\Final Year Project\\crime-detection\\Subclips\\Stealing114_x264.mp4.\n",
      "MoviePy - Writing audio in Stealing114_x264TEMP_MPY_wvf_snd.mp3\n"
     ]
    },
    {
     "name": "stderr",
     "output_type": "stream",
     "text": [
      "                                                                    \r"
     ]
    },
    {
     "name": "stdout",
     "output_type": "stream",
     "text": [
      "MoviePy - Done.\n",
      "Moviepy - Writing video S:\\Academic\\Final Year Project\\crime-detection\\Subclips\\Stealing114_x264.mp4\n",
      "\n"
     ]
    },
    {
     "name": "stderr",
     "output_type": "stream",
     "text": [
      "                                                                \r"
     ]
    },
    {
     "name": "stdout",
     "output_type": "stream",
     "text": [
      "Moviepy - Done !\n",
      "Moviepy - video ready S:\\Academic\\Final Year Project\\crime-detection\\Subclips\\Stealing114_x264.mp4\n",
      "Stealing114_x264.mp4 7 40\n",
      "Moviepy - Building video S:\\Academic\\Final Year Project\\crime-detection\\Subclips\\Burglary001_x264.mp4.\n",
      "MoviePy - Writing audio in Burglary001_x264TEMP_MPY_wvf_snd.mp3\n"
     ]
    },
    {
     "name": "stderr",
     "output_type": "stream",
     "text": [
      "                                                                      \r"
     ]
    },
    {
     "name": "stdout",
     "output_type": "stream",
     "text": [
      "MoviePy - Done.\n",
      "Moviepy - Writing video S:\\Academic\\Final Year Project\\crime-detection\\Subclips\\Burglary001_x264.mp4\n",
      "\n"
     ]
    },
    {
     "name": "stderr",
     "output_type": "stream",
     "text": [
      "                                                                  \r"
     ]
    },
    {
     "name": "stdout",
     "output_type": "stream",
     "text": [
      "Moviepy - Done !\n",
      "Moviepy - video ready S:\\Academic\\Final Year Project\\crime-detection\\Subclips\\Burglary001_x264.mp4\n",
      "Burglary001_x264.mp4 8 120\n",
      "Moviepy - Building video S:\\Academic\\Final Year Project\\crime-detection\\Subclips\\Burglary002_x264.mp4.\n",
      "MoviePy - Writing audio in Burglary002_x264TEMP_MPY_wvf_snd.mp3\n"
     ]
    },
    {
     "name": "stderr",
     "output_type": "stream",
     "text": [
      "                                                                      \r"
     ]
    },
    {
     "name": "stdout",
     "output_type": "stream",
     "text": [
      "MoviePy - Done.\n",
      "Moviepy - Writing video S:\\Academic\\Final Year Project\\crime-detection\\Subclips\\Burglary002_x264.mp4\n",
      "\n"
     ]
    },
    {
     "name": "stderr",
     "output_type": "stream",
     "text": [
      "                                                                  \r"
     ]
    },
    {
     "name": "stdout",
     "output_type": "stream",
     "text": [
      "Moviepy - Done !\n",
      "Moviepy - video ready S:\\Academic\\Final Year Project\\crime-detection\\Subclips\\Burglary002_x264.mp4\n",
      "Burglary002_x264.mp4 5 102\n",
      "Moviepy - Building video S:\\Academic\\Final Year Project\\crime-detection\\Subclips\\Burglary003_x264.mp4.\n",
      "MoviePy - Writing audio in Burglary003_x264TEMP_MPY_wvf_snd.mp3\n"
     ]
    },
    {
     "name": "stderr",
     "output_type": "stream",
     "text": [
      "                                                                    \r"
     ]
    },
    {
     "name": "stdout",
     "output_type": "stream",
     "text": [
      "MoviePy - Done.\n",
      "Moviepy - Writing video S:\\Academic\\Final Year Project\\crime-detection\\Subclips\\Burglary003_x264.mp4\n",
      "\n"
     ]
    },
    {
     "name": "stderr",
     "output_type": "stream",
     "text": [
      "                                                                  \r"
     ]
    },
    {
     "name": "stdout",
     "output_type": "stream",
     "text": [
      "Moviepy - Done !\n",
      "Moviepy - video ready S:\\Academic\\Final Year Project\\crime-detection\\Subclips\\Burglary003_x264.mp4\n",
      "Burglary003_x264.mp4 1 39\n",
      "Moviepy - Building video S:\\Academic\\Final Year Project\\crime-detection\\Subclips\\Burglary004_x264.mp4.\n",
      "MoviePy - Writing audio in Burglary004_x264TEMP_MPY_wvf_snd.mp3\n"
     ]
    },
    {
     "name": "stderr",
     "output_type": "stream",
     "text": [
      "                                                                      \r"
     ]
    },
    {
     "name": "stdout",
     "output_type": "stream",
     "text": [
      "MoviePy - Done.\n",
      "Moviepy - Writing video S:\\Academic\\Final Year Project\\crime-detection\\Subclips\\Burglary004_x264.mp4\n",
      "\n"
     ]
    },
    {
     "name": "stderr",
     "output_type": "stream",
     "text": [
      "                                                                 \r"
     ]
    },
    {
     "name": "stdout",
     "output_type": "stream",
     "text": [
      "Moviepy - Done !\n",
      "Moviepy - video ready S:\\Academic\\Final Year Project\\crime-detection\\Subclips\\Burglary004_x264.mp4\n",
      "Burglary004_x264.mp4 5 57\n",
      "Moviepy - Building video S:\\Academic\\Final Year Project\\crime-detection\\Subclips\\Burglary005_x264.mp4.\n",
      "MoviePy - Writing audio in Burglary005_x264TEMP_MPY_wvf_snd.mp3\n"
     ]
    },
    {
     "name": "stderr",
     "output_type": "stream",
     "text": [
      "                                                                      \r"
     ]
    },
    {
     "name": "stdout",
     "output_type": "stream",
     "text": [
      "MoviePy - Done.\n",
      "Moviepy - Writing video S:\\Academic\\Final Year Project\\crime-detection\\Subclips\\Burglary005_x264.mp4\n",
      "\n"
     ]
    },
    {
     "name": "stderr",
     "output_type": "stream",
     "text": [
      "                                                                  \r"
     ]
    },
    {
     "name": "stdout",
     "output_type": "stream",
     "text": [
      "Moviepy - Done !\n",
      "Moviepy - video ready S:\\Academic\\Final Year Project\\crime-detection\\Subclips\\Burglary005_x264.mp4\n",
      "Burglary005_x264.mp4 159 248\n",
      "Moviepy - Building video S:\\Academic\\Final Year Project\\crime-detection\\Subclips\\Burglary006_x264.mp4.\n",
      "MoviePy - Writing audio in Burglary006_x264TEMP_MPY_wvf_snd.mp3\n"
     ]
    },
    {
     "name": "stderr",
     "output_type": "stream",
     "text": [
      "                                                                      \r"
     ]
    },
    {
     "name": "stdout",
     "output_type": "stream",
     "text": [
      "MoviePy - Done.\n",
      "Moviepy - Writing video S:\\Academic\\Final Year Project\\crime-detection\\Subclips\\Burglary006_x264.mp4\n",
      "\n"
     ]
    },
    {
     "name": "stderr",
     "output_type": "stream",
     "text": [
      "                                                                  \r"
     ]
    },
    {
     "name": "stdout",
     "output_type": "stream",
     "text": [
      "Moviepy - Done !\n",
      "Moviepy - video ready S:\\Academic\\Final Year Project\\crime-detection\\Subclips\\Burglary006_x264.mp4\n",
      "Burglary006_x264.mp4 8 260\n",
      "Moviepy - Building video S:\\Academic\\Final Year Project\\crime-detection\\Subclips\\Burglary007_x264.mp4.\n",
      "MoviePy - Writing audio in Burglary007_x264TEMP_MPY_wvf_snd.mp3\n"
     ]
    },
    {
     "name": "stderr",
     "output_type": "stream",
     "text": [
      "                                                                    \r"
     ]
    },
    {
     "name": "stdout",
     "output_type": "stream",
     "text": [
      "MoviePy - Done.\n",
      "Moviepy - Writing video S:\\Academic\\Final Year Project\\crime-detection\\Subclips\\Burglary007_x264.mp4\n",
      "\n"
     ]
    },
    {
     "name": "stderr",
     "output_type": "stream",
     "text": [
      "                                                               \r"
     ]
    },
    {
     "name": "stdout",
     "output_type": "stream",
     "text": [
      "Moviepy - Done !\n",
      "Moviepy - video ready S:\\Academic\\Final Year Project\\crime-detection\\Subclips\\Burglary007_x264.mp4\n",
      "Burglary007_x264.mp4 3 36\n",
      "Moviepy - Building video S:\\Academic\\Final Year Project\\crime-detection\\Subclips\\Burglary008_x264.mp4.\n",
      "MoviePy - Writing audio in Burglary008_x264TEMP_MPY_wvf_snd.mp3\n"
     ]
    },
    {
     "name": "stderr",
     "output_type": "stream",
     "text": [
      "                                                                      \r"
     ]
    },
    {
     "name": "stdout",
     "output_type": "stream",
     "text": [
      "MoviePy - Done.\n",
      "Moviepy - Writing video S:\\Academic\\Final Year Project\\crime-detection\\Subclips\\Burglary008_x264.mp4\n",
      "\n"
     ]
    },
    {
     "name": "stderr",
     "output_type": "stream",
     "text": [
      "                                                                  \r"
     ]
    },
    {
     "name": "stdout",
     "output_type": "stream",
     "text": [
      "Moviepy - Done !\n",
      "Moviepy - video ready S:\\Academic\\Final Year Project\\crime-detection\\Subclips\\Burglary008_x264.mp4\n",
      "Burglary008_x264.mp4 10 96\n",
      "Moviepy - Building video S:\\Academic\\Final Year Project\\crime-detection\\Subclips\\Burglary009_x264.mp4.\n",
      "MoviePy - Writing audio in Burglary009_x264TEMP_MPY_wvf_snd.mp3\n"
     ]
    },
    {
     "name": "stderr",
     "output_type": "stream",
     "text": [
      "                                                                    \r"
     ]
    },
    {
     "name": "stdout",
     "output_type": "stream",
     "text": [
      "MoviePy - Done.\n",
      "Moviepy - Writing video S:\\Academic\\Final Year Project\\crime-detection\\Subclips\\Burglary009_x264.mp4\n",
      "\n"
     ]
    },
    {
     "name": "stderr",
     "output_type": "stream",
     "text": [
      "                                                                  \r"
     ]
    },
    {
     "name": "stdout",
     "output_type": "stream",
     "text": [
      "Moviepy - Done !\n",
      "Moviepy - video ready S:\\Academic\\Final Year Project\\crime-detection\\Subclips\\Burglary009_x264.mp4\n",
      "Burglary009_x264.mp4 26 70\n",
      "Moviepy - Building video S:\\Academic\\Final Year Project\\crime-detection\\Subclips\\Burglary010_x264.mp4.\n",
      "Moviepy - Writing video S:\\Academic\\Final Year Project\\crime-detection\\Subclips\\Burglary010_x264.mp4\n",
      "\n"
     ]
    },
    {
     "name": "stderr",
     "output_type": "stream",
     "text": [
      "                                                                 \r"
     ]
    },
    {
     "name": "stdout",
     "output_type": "stream",
     "text": [
      "Moviepy - Done !\n",
      "Moviepy - video ready S:\\Academic\\Final Year Project\\crime-detection\\Subclips\\Burglary010_x264.mp4\n",
      "Burglary010_x264.mp4 96 180\n",
      "Moviepy - Building video S:\\Academic\\Final Year Project\\crime-detection\\Subclips\\Burglary011_x264.mp4.\n",
      "Moviepy - Writing video S:\\Academic\\Final Year Project\\crime-detection\\Subclips\\Burglary011_x264.mp4\n",
      "\n"
     ]
    },
    {
     "name": "stderr",
     "output_type": "stream",
     "text": [
      "                                                                  \r"
     ]
    },
    {
     "name": "stdout",
     "output_type": "stream",
     "text": [
      "Moviepy - Done !\n",
      "Moviepy - video ready S:\\Academic\\Final Year Project\\crime-detection\\Subclips\\Burglary011_x264.mp4\n",
      "Burglary011_x264.mp4 2 60\n",
      "Moviepy - Building video S:\\Academic\\Final Year Project\\crime-detection\\Subclips\\Burglary012_x264.mp4.\n",
      "Moviepy - Writing video S:\\Academic\\Final Year Project\\crime-detection\\Subclips\\Burglary012_x264.mp4\n",
      "\n"
     ]
    },
    {
     "name": "stderr",
     "output_type": "stream",
     "text": [
      "                                                                  \r"
     ]
    },
    {
     "name": "stdout",
     "output_type": "stream",
     "text": [
      "Moviepy - Done !\n",
      "Moviepy - video ready S:\\Academic\\Final Year Project\\crime-detection\\Subclips\\Burglary012_x264.mp4\n",
      "Burglary012_x264.mp4 1 56\n",
      "Moviepy - Building video S:\\Academic\\Final Year Project\\crime-detection\\Subclips\\Burglary013_x264.mp4.\n",
      "Moviepy - Writing video S:\\Academic\\Final Year Project\\crime-detection\\Subclips\\Burglary013_x264.mp4\n",
      "\n"
     ]
    },
    {
     "name": "stderr",
     "output_type": "stream",
     "text": [
      "                                                                 \r"
     ]
    },
    {
     "name": "stdout",
     "output_type": "stream",
     "text": [
      "Moviepy - Done !\n",
      "Moviepy - video ready S:\\Academic\\Final Year Project\\crime-detection\\Subclips\\Burglary013_x264.mp4\n",
      "Burglary013_x264.mp4 3 70\n",
      "Moviepy - Building video S:\\Academic\\Final Year Project\\crime-detection\\Subclips\\Burglary014_x264.mp4.\n",
      "Moviepy - Writing video S:\\Academic\\Final Year Project\\crime-detection\\Subclips\\Burglary014_x264.mp4\n",
      "\n"
     ]
    },
    {
     "name": "stderr",
     "output_type": "stream",
     "text": [
      "                                                                  \r"
     ]
    },
    {
     "name": "stdout",
     "output_type": "stream",
     "text": [
      "Moviepy - Done !\n",
      "Moviepy - video ready S:\\Academic\\Final Year Project\\crime-detection\\Subclips\\Burglary014_x264.mp4\n",
      "Burglary014_x264.mp4 1 86\n",
      "Moviepy - Building video S:\\Academic\\Final Year Project\\crime-detection\\Subclips\\Burglary015_x264.mp4.\n",
      "Moviepy - Writing video S:\\Academic\\Final Year Project\\crime-detection\\Subclips\\Burglary015_x264.mp4\n",
      "\n"
     ]
    },
    {
     "name": "stderr",
     "output_type": "stream",
     "text": [
      "                                                               \r"
     ]
    },
    {
     "name": "stdout",
     "output_type": "stream",
     "text": [
      "Moviepy - Done !\n",
      "Moviepy - video ready S:\\Academic\\Final Year Project\\crime-detection\\Subclips\\Burglary015_x264.mp4\n",
      "Burglary015_x264.mp4 7 35\n",
      "Moviepy - Building video S:\\Academic\\Final Year Project\\crime-detection\\Subclips\\Burglary016_x264.mp4.\n",
      "Moviepy - Writing video S:\\Academic\\Final Year Project\\crime-detection\\Subclips\\Burglary016_x264.mp4\n",
      "\n"
     ]
    },
    {
     "name": "stderr",
     "output_type": "stream",
     "text": [
      "                                                                  \r"
     ]
    },
    {
     "name": "stdout",
     "output_type": "stream",
     "text": [
      "Moviepy - Done !\n",
      "Moviepy - video ready S:\\Academic\\Final Year Project\\crime-detection\\Subclips\\Burglary016_x264.mp4\n",
      "Burglary016_x264.mp4 22 175\n",
      "Moviepy - Building video S:\\Academic\\Final Year Project\\crime-detection\\Subclips\\Burglary017_x264.mp4.\n",
      "MoviePy - Writing audio in Burglary017_x264TEMP_MPY_wvf_snd.mp3\n"
     ]
    },
    {
     "name": "stderr",
     "output_type": "stream",
     "text": [
      "                                                                    \r"
     ]
    },
    {
     "name": "stdout",
     "output_type": "stream",
     "text": [
      "MoviePy - Done.\n",
      "Moviepy - Writing video S:\\Academic\\Final Year Project\\crime-detection\\Subclips\\Burglary017_x264.mp4\n",
      "\n"
     ]
    },
    {
     "name": "stderr",
     "output_type": "stream",
     "text": [
      "                                                               \r"
     ]
    },
    {
     "name": "stdout",
     "output_type": "stream",
     "text": [
      "Moviepy - Done !\n",
      "Moviepy - video ready S:\\Academic\\Final Year Project\\crime-detection\\Subclips\\Burglary017_x264.mp4\n",
      "Burglary017_x264.mp4 8 24\n",
      "Moviepy - Building video S:\\Academic\\Final Year Project\\crime-detection\\Subclips\\Burglary018_x264.mp4.\n",
      "MoviePy - Writing audio in Burglary018_x264TEMP_MPY_wvf_snd.mp3\n"
     ]
    },
    {
     "name": "stderr",
     "output_type": "stream",
     "text": [
      "                                                                    "
     ]
    },
    {
     "name": "stdout",
     "output_type": "stream",
     "text": [
      "MoviePy - Done.\n",
      "Moviepy - Writing video S:\\Academic\\Final Year Project\\crime-detection\\Subclips\\Burglary018_x264.mp4\n",
      "\n"
     ]
    },
    {
     "name": "stderr",
     "output_type": "stream",
     "text": [
      "                                                                \r"
     ]
    },
    {
     "name": "stdout",
     "output_type": "stream",
     "text": [
      "Moviepy - Done !\n",
      "Moviepy - video ready S:\\Academic\\Final Year Project\\crime-detection\\Subclips\\Burglary018_x264.mp4\n",
      "Burglary018_x264.mp4 20 36\n",
      "Moviepy - Building video S:\\Academic\\Final Year Project\\crime-detection\\Subclips\\Burglary019_x264.mp4.\n",
      "MoviePy - Writing audio in Burglary019_x264TEMP_MPY_wvf_snd.mp3\n"
     ]
    },
    {
     "name": "stderr",
     "output_type": "stream",
     "text": [
      "                                                                      \r"
     ]
    },
    {
     "name": "stdout",
     "output_type": "stream",
     "text": [
      "MoviePy - Done.\n",
      "Moviepy - Writing video S:\\Academic\\Final Year Project\\crime-detection\\Subclips\\Burglary019_x264.mp4\n",
      "\n"
     ]
    },
    {
     "name": "stderr",
     "output_type": "stream",
     "text": [
      "                                                                  \r"
     ]
    },
    {
     "name": "stdout",
     "output_type": "stream",
     "text": [
      "Moviepy - Done !\n",
      "Moviepy - video ready S:\\Academic\\Final Year Project\\crime-detection\\Subclips\\Burglary019_x264.mp4\n",
      "Burglary019_x264.mp4 3 87\n",
      "Moviepy - Building video S:\\Academic\\Final Year Project\\crime-detection\\Subclips\\Burglary020_x264.mp4.\n",
      "MoviePy - Writing audio in Burglary020_x264TEMP_MPY_wvf_snd.mp3\n"
     ]
    },
    {
     "name": "stderr",
     "output_type": "stream",
     "text": [
      "                                                                      \r"
     ]
    },
    {
     "name": "stdout",
     "output_type": "stream",
     "text": [
      "MoviePy - Done.\n",
      "Moviepy - Writing video S:\\Academic\\Final Year Project\\crime-detection\\Subclips\\Burglary020_x264.mp4\n",
      "\n"
     ]
    },
    {
     "name": "stderr",
     "output_type": "stream",
     "text": [
      "                                                                  \r"
     ]
    },
    {
     "name": "stdout",
     "output_type": "stream",
     "text": [
      "Moviepy - Done !\n",
      "Moviepy - video ready S:\\Academic\\Final Year Project\\crime-detection\\Subclips\\Burglary020_x264.mp4\n",
      "Burglary020_x264.mp4 17 90\n",
      "Moviepy - Building video S:\\Academic\\Final Year Project\\crime-detection\\Subclips\\Burglary021_x264.mp4.\n",
      "MoviePy - Writing audio in Burglary021_x264TEMP_MPY_wvf_snd.mp3\n"
     ]
    },
    {
     "name": "stderr",
     "output_type": "stream",
     "text": [
      "                                                                     \r"
     ]
    },
    {
     "name": "stdout",
     "output_type": "stream",
     "text": [
      "MoviePy - Done.\n",
      "Moviepy - Writing video S:\\Academic\\Final Year Project\\crime-detection\\Subclips\\Burglary021_x264.mp4\n",
      "\n"
     ]
    },
    {
     "name": "stderr",
     "output_type": "stream",
     "text": [
      "                                                                  \r"
     ]
    },
    {
     "name": "stdout",
     "output_type": "stream",
     "text": [
      "Moviepy - Done !\n",
      "Moviepy - video ready S:\\Academic\\Final Year Project\\crime-detection\\Subclips\\Burglary021_x264.mp4\n",
      "Burglary021_x264.mp4 1 48\n",
      "Moviepy - Building video S:\\Academic\\Final Year Project\\crime-detection\\Subclips\\Burglary022_x264.mp4.\n",
      "MoviePy - Writing audio in Burglary022_x264TEMP_MPY_wvf_snd.mp3\n"
     ]
    },
    {
     "name": "stderr",
     "output_type": "stream",
     "text": [
      "                                                                      \r"
     ]
    },
    {
     "name": "stdout",
     "output_type": "stream",
     "text": [
      "MoviePy - Done.\n",
      "Moviepy - Writing video S:\\Academic\\Final Year Project\\crime-detection\\Subclips\\Burglary022_x264.mp4\n",
      "\n"
     ]
    },
    {
     "name": "stderr",
     "output_type": "stream",
     "text": [
      "                                                                  \r"
     ]
    },
    {
     "name": "stdout",
     "output_type": "stream",
     "text": [
      "Moviepy - Done !\n",
      "Moviepy - video ready S:\\Academic\\Final Year Project\\crime-detection\\Subclips\\Burglary022_x264.mp4\n",
      "Burglary022_x264.mp4 11 94\n",
      "Moviepy - Building video S:\\Academic\\Final Year Project\\crime-detection\\Subclips\\Burglary023_x264.mp4.\n",
      "MoviePy - Writing audio in Burglary023_x264TEMP_MPY_wvf_snd.mp3\n"
     ]
    },
    {
     "name": "stderr",
     "output_type": "stream",
     "text": [
      "                                                                      \r"
     ]
    },
    {
     "name": "stdout",
     "output_type": "stream",
     "text": [
      "MoviePy - Done.\n",
      "Moviepy - Writing video S:\\Academic\\Final Year Project\\crime-detection\\Subclips\\Burglary023_x264.mp4\n",
      "\n"
     ]
    },
    {
     "name": "stderr",
     "output_type": "stream",
     "text": [
      "                                                                 \r"
     ]
    },
    {
     "name": "stdout",
     "output_type": "stream",
     "text": [
      "Moviepy - Done !\n",
      "Moviepy - video ready S:\\Academic\\Final Year Project\\crime-detection\\Subclips\\Burglary023_x264.mp4\n",
      "Burglary023_x264.mp4 7 324\n",
      "Moviepy - Building video S:\\Academic\\Final Year Project\\crime-detection\\Subclips\\Burglary024_x264.mp4.\n",
      "MoviePy - Writing audio in Burglary024_x264TEMP_MPY_wvf_snd.mp3\n"
     ]
    },
    {
     "name": "stderr",
     "output_type": "stream",
     "text": [
      "                                                                    \r"
     ]
    },
    {
     "name": "stdout",
     "output_type": "stream",
     "text": [
      "MoviePy - Done.\n",
      "Moviepy - Writing video S:\\Academic\\Final Year Project\\crime-detection\\Subclips\\Burglary024_x264.mp4\n",
      "\n"
     ]
    },
    {
     "name": "stderr",
     "output_type": "stream",
     "text": [
      "                                                                 \r"
     ]
    },
    {
     "name": "stdout",
     "output_type": "stream",
     "text": [
      "Moviepy - Done !\n",
      "Moviepy - video ready S:\\Academic\\Final Year Project\\crime-detection\\Subclips\\Burglary024_x264.mp4\n",
      "Burglary024_x264.mp4 6 47\n",
      "Moviepy - Building video S:\\Academic\\Final Year Project\\crime-detection\\Subclips\\Burglary025_x264.mp4.\n",
      "MoviePy - Writing audio in Burglary025_x264TEMP_MPY_wvf_snd.mp3\n"
     ]
    },
    {
     "name": "stderr",
     "output_type": "stream",
     "text": [
      "                                                                      \r"
     ]
    },
    {
     "name": "stdout",
     "output_type": "stream",
     "text": [
      "MoviePy - Done.\n",
      "Moviepy - Writing video S:\\Academic\\Final Year Project\\crime-detection\\Subclips\\Burglary025_x264.mp4\n",
      "\n"
     ]
    },
    {
     "name": "stderr",
     "output_type": "stream",
     "text": [
      "                                                                  \r"
     ]
    },
    {
     "name": "stdout",
     "output_type": "stream",
     "text": [
      "Moviepy - Done !\n",
      "Moviepy - video ready S:\\Academic\\Final Year Project\\crime-detection\\Subclips\\Burglary025_x264.mp4\n",
      "Burglary025_x264.mp4 18 205\n",
      "Moviepy - Building video S:\\Academic\\Final Year Project\\crime-detection\\Subclips\\Burglary026_x264.mp4.\n",
      "MoviePy - Writing audio in Burglary026_x264TEMP_MPY_wvf_snd.mp3\n"
     ]
    },
    {
     "name": "stderr",
     "output_type": "stream",
     "text": [
      "                                                                    \r"
     ]
    },
    {
     "name": "stdout",
     "output_type": "stream",
     "text": [
      "MoviePy - Done.\n",
      "Moviepy - Writing video S:\\Academic\\Final Year Project\\crime-detection\\Subclips\\Burglary026_x264.mp4\n",
      "\n"
     ]
    },
    {
     "name": "stderr",
     "output_type": "stream",
     "text": [
      "                                                                  \r"
     ]
    },
    {
     "name": "stdout",
     "output_type": "stream",
     "text": [
      "Moviepy - Done !\n",
      "Moviepy - video ready S:\\Academic\\Final Year Project\\crime-detection\\Subclips\\Burglary026_x264.mp4\n",
      "Burglary026_x264.mp4 3 47\n",
      "Moviepy - Building video S:\\Academic\\Final Year Project\\crime-detection\\Subclips\\Burglary027_x264.mp4.\n",
      "MoviePy - Writing audio in Burglary027_x264TEMP_MPY_wvf_snd.mp3\n"
     ]
    },
    {
     "name": "stderr",
     "output_type": "stream",
     "text": [
      "                                                                      \r"
     ]
    },
    {
     "name": "stdout",
     "output_type": "stream",
     "text": [
      "MoviePy - Done.\n",
      "Moviepy - Writing video S:\\Academic\\Final Year Project\\crime-detection\\Subclips\\Burglary027_x264.mp4\n",
      "\n"
     ]
    },
    {
     "name": "stderr",
     "output_type": "stream",
     "text": [
      "                                                                  \r"
     ]
    },
    {
     "name": "stdout",
     "output_type": "stream",
     "text": [
      "Moviepy - Done !\n",
      "Moviepy - video ready S:\\Academic\\Final Year Project\\crime-detection\\Subclips\\Burglary027_x264.mp4\n",
      "Burglary027_x264.mp4 1 103\n",
      "Moviepy - Building video S:\\Academic\\Final Year Project\\crime-detection\\Subclips\\Burglary028_x264.mp4.\n",
      "MoviePy - Writing audio in Burglary028_x264TEMP_MPY_wvf_snd.mp3\n"
     ]
    },
    {
     "name": "stderr",
     "output_type": "stream",
     "text": [
      "                                                                    \r"
     ]
    },
    {
     "name": "stdout",
     "output_type": "stream",
     "text": [
      "MoviePy - Done.\n",
      "Moviepy - Writing video S:\\Academic\\Final Year Project\\crime-detection\\Subclips\\Burglary028_x264.mp4\n",
      "\n"
     ]
    },
    {
     "name": "stderr",
     "output_type": "stream",
     "text": [
      "                                                                \r"
     ]
    },
    {
     "name": "stdout",
     "output_type": "stream",
     "text": [
      "Moviepy - Done !\n",
      "Moviepy - video ready S:\\Academic\\Final Year Project\\crime-detection\\Subclips\\Burglary028_x264.mp4\n",
      "Burglary028_x264.mp4 6 31\n",
      "Moviepy - Building video S:\\Academic\\Final Year Project\\crime-detection\\Subclips\\Burglary029_x264.mp4.\n",
      "MoviePy - Writing audio in Burglary029_x264TEMP_MPY_wvf_snd.mp3\n"
     ]
    },
    {
     "name": "stderr",
     "output_type": "stream",
     "text": [
      "                                                                      \r"
     ]
    },
    {
     "name": "stdout",
     "output_type": "stream",
     "text": [
      "MoviePy - Done.\n",
      "Moviepy - Writing video S:\\Academic\\Final Year Project\\crime-detection\\Subclips\\Burglary029_x264.mp4\n",
      "\n"
     ]
    },
    {
     "name": "stderr",
     "output_type": "stream",
     "text": [
      "                                                                  \r"
     ]
    },
    {
     "name": "stdout",
     "output_type": "stream",
     "text": [
      "Moviepy - Done !\n",
      "Moviepy - video ready S:\\Academic\\Final Year Project\\crime-detection\\Subclips\\Burglary029_x264.mp4\n",
      "Burglary029_x264.mp4 6 152\n",
      "Moviepy - Building video S:\\Academic\\Final Year Project\\crime-detection\\Subclips\\Burglary030_x264.mp4.\n",
      "MoviePy - Writing audio in Burglary030_x264TEMP_MPY_wvf_snd.mp3\n"
     ]
    },
    {
     "name": "stderr",
     "output_type": "stream",
     "text": [
      "                                                                    \r"
     ]
    },
    {
     "name": "stdout",
     "output_type": "stream",
     "text": [
      "MoviePy - Done.\n",
      "Moviepy - Writing video S:\\Academic\\Final Year Project\\crime-detection\\Subclips\\Burglary030_x264.mp4\n",
      "\n"
     ]
    },
    {
     "name": "stderr",
     "output_type": "stream",
     "text": [
      "                                                               \r"
     ]
    },
    {
     "name": "stdout",
     "output_type": "stream",
     "text": [
      "Moviepy - Done !\n",
      "Moviepy - video ready S:\\Academic\\Final Year Project\\crime-detection\\Subclips\\Burglary030_x264.mp4\n",
      "Burglary030_x264.mp4 12 29\n",
      "Moviepy - Building video S:\\Academic\\Final Year Project\\crime-detection\\Subclips\\Burglary031_x264.mp4.\n",
      "MoviePy - Writing audio in Burglary031_x264TEMP_MPY_wvf_snd.mp3\n"
     ]
    },
    {
     "name": "stderr",
     "output_type": "stream",
     "text": [
      "                                                                      \r"
     ]
    },
    {
     "name": "stdout",
     "output_type": "stream",
     "text": [
      "MoviePy - Done.\n",
      "Moviepy - Writing video S:\\Academic\\Final Year Project\\crime-detection\\Subclips\\Burglary031_x264.mp4\n",
      "\n"
     ]
    },
    {
     "name": "stderr",
     "output_type": "stream",
     "text": [
      "                                                                  \r"
     ]
    },
    {
     "name": "stdout",
     "output_type": "stream",
     "text": [
      "Moviepy - Done !\n",
      "Moviepy - video ready S:\\Academic\\Final Year Project\\crime-detection\\Subclips\\Burglary031_x264.mp4\n",
      "Burglary031_x264.mp4 66 196\n",
      "Moviepy - Building video S:\\Academic\\Final Year Project\\crime-detection\\Subclips\\Burglary032_x264.mp4.\n",
      "MoviePy - Writing audio in Burglary032_x264TEMP_MPY_wvf_snd.mp3\n"
     ]
    },
    {
     "name": "stderr",
     "output_type": "stream",
     "text": [
      "                                                                        \r"
     ]
    },
    {
     "name": "stdout",
     "output_type": "stream",
     "text": [
      "MoviePy - Done.\n",
      "Moviepy - Writing video S:\\Academic\\Final Year Project\\crime-detection\\Subclips\\Burglary032_x264.mp4\n",
      "\n"
     ]
    },
    {
     "name": "stderr",
     "output_type": "stream",
     "text": [
      "                                                                    \r"
     ]
    },
    {
     "name": "stdout",
     "output_type": "stream",
     "text": [
      "Moviepy - Done !\n",
      "Moviepy - video ready S:\\Academic\\Final Year Project\\crime-detection\\Subclips\\Burglary032_x264.mp4\n",
      "Burglary032_x264.mp4 17 486\n",
      "Moviepy - Building video S:\\Academic\\Final Year Project\\crime-detection\\Subclips\\Burglary033_x264.mp4.\n",
      "MoviePy - Writing audio in Burglary033_x264TEMP_MPY_wvf_snd.mp3\n"
     ]
    },
    {
     "name": "stderr",
     "output_type": "stream",
     "text": [
      "                                                                    \r"
     ]
    },
    {
     "name": "stdout",
     "output_type": "stream",
     "text": [
      "MoviePy - Done.\n",
      "Moviepy - Writing video S:\\Academic\\Final Year Project\\crime-detection\\Subclips\\Burglary033_x264.mp4\n",
      "\n"
     ]
    },
    {
     "name": "stderr",
     "output_type": "stream",
     "text": [
      "                                                                \r"
     ]
    },
    {
     "name": "stdout",
     "output_type": "stream",
     "text": [
      "Moviepy - Done !\n",
      "Moviepy - video ready S:\\Academic\\Final Year Project\\crime-detection\\Subclips\\Burglary033_x264.mp4\n",
      "Burglary033_x264.mp4 0 14\n",
      "Moviepy - Building video S:\\Academic\\Final Year Project\\crime-detection\\Subclips\\Burglary034_x264.mp4.\n",
      "MoviePy - Writing audio in Burglary034_x264TEMP_MPY_wvf_snd.mp3\n"
     ]
    },
    {
     "name": "stderr",
     "output_type": "stream",
     "text": [
      "                                                                    \r"
     ]
    },
    {
     "name": "stdout",
     "output_type": "stream",
     "text": [
      "MoviePy - Done.\n",
      "Moviepy - Writing video S:\\Academic\\Final Year Project\\crime-detection\\Subclips\\Burglary034_x264.mp4\n",
      "\n"
     ]
    },
    {
     "name": "stderr",
     "output_type": "stream",
     "text": [
      "                                                                \r"
     ]
    },
    {
     "name": "stdout",
     "output_type": "stream",
     "text": [
      "Moviepy - Done !\n",
      "Moviepy - video ready S:\\Academic\\Final Year Project\\crime-detection\\Subclips\\Burglary034_x264.mp4\n",
      "Burglary034_x264.mp4 11 37\n",
      "Moviepy - Building video S:\\Academic\\Final Year Project\\crime-detection\\Subclips\\Burglary035_x264.mp4.\n",
      "MoviePy - Writing audio in Burglary035_x264TEMP_MPY_wvf_snd.mp3\n"
     ]
    },
    {
     "name": "stderr",
     "output_type": "stream",
     "text": [
      "                                                                      \r"
     ]
    },
    {
     "name": "stdout",
     "output_type": "stream",
     "text": [
      "MoviePy - Done.\n",
      "Moviepy - Writing video S:\\Academic\\Final Year Project\\crime-detection\\Subclips\\Burglary035_x264.mp4\n",
      "\n"
     ]
    },
    {
     "name": "stderr",
     "output_type": "stream",
     "text": [
      "                                                                  \r"
     ]
    },
    {
     "name": "stdout",
     "output_type": "stream",
     "text": [
      "Moviepy - Done !\n",
      "Moviepy - video ready S:\\Academic\\Final Year Project\\crime-detection\\Subclips\\Burglary035_x264.mp4\n",
      "Burglary035_x264.mp4 4 135\n",
      "Moviepy - Building video S:\\Academic\\Final Year Project\\crime-detection\\Subclips\\Burglary036_x264.mp4.\n",
      "MoviePy - Writing audio in Burglary036_x264TEMP_MPY_wvf_snd.mp3\n"
     ]
    },
    {
     "name": "stderr",
     "output_type": "stream",
     "text": [
      "                                                                    \r"
     ]
    },
    {
     "name": "stdout",
     "output_type": "stream",
     "text": [
      "MoviePy - Done.\n",
      "Moviepy - Writing video S:\\Academic\\Final Year Project\\crime-detection\\Subclips\\Burglary036_x264.mp4\n",
      "\n"
     ]
    },
    {
     "name": "stderr",
     "output_type": "stream",
     "text": [
      "                                                               \r"
     ]
    },
    {
     "name": "stdout",
     "output_type": "stream",
     "text": [
      "Moviepy - Done !\n",
      "Moviepy - video ready S:\\Academic\\Final Year Project\\crime-detection\\Subclips\\Burglary036_x264.mp4\n",
      "Burglary036_x264.mp4 3 33\n",
      "Moviepy - Building video S:\\Academic\\Final Year Project\\crime-detection\\Subclips\\Burglary037_x264.mp4.\n",
      "MoviePy - Writing audio in Burglary037_x264TEMP_MPY_wvf_snd.mp3\n"
     ]
    },
    {
     "name": "stderr",
     "output_type": "stream",
     "text": [
      "                                                                      \r"
     ]
    },
    {
     "name": "stdout",
     "output_type": "stream",
     "text": [
      "MoviePy - Done.\n",
      "Moviepy - Writing video S:\\Academic\\Final Year Project\\crime-detection\\Subclips\\Burglary037_x264.mp4\n",
      "\n"
     ]
    },
    {
     "name": "stderr",
     "output_type": "stream",
     "text": [
      "                                                                  \r"
     ]
    },
    {
     "name": "stdout",
     "output_type": "stream",
     "text": [
      "Moviepy - Done !\n",
      "Moviepy - video ready S:\\Academic\\Final Year Project\\crime-detection\\Subclips\\Burglary037_x264.mp4\n",
      "Burglary037_x264.mp4 10 62\n",
      "Moviepy - Building video S:\\Academic\\Final Year Project\\crime-detection\\Subclips\\Burglary038_x264.mp4.\n",
      "MoviePy - Writing audio in Burglary038_x264TEMP_MPY_wvf_snd.mp3\n"
     ]
    },
    {
     "name": "stderr",
     "output_type": "stream",
     "text": [
      "                                                                    "
     ]
    },
    {
     "name": "stdout",
     "output_type": "stream",
     "text": [
      "MoviePy - Done.\n",
      "Moviepy - Writing video S:\\Academic\\Final Year Project\\crime-detection\\Subclips\\Burglary038_x264.mp4\n",
      "\n"
     ]
    },
    {
     "name": "stderr",
     "output_type": "stream",
     "text": [
      "                                                               \r"
     ]
    },
    {
     "name": "stdout",
     "output_type": "stream",
     "text": [
      "Moviepy - Done !\n",
      "Moviepy - video ready S:\\Academic\\Final Year Project\\crime-detection\\Subclips\\Burglary038_x264.mp4\n",
      "Burglary038_x264.mp4 0 17\n",
      "Moviepy - Building video S:\\Academic\\Final Year Project\\crime-detection\\Subclips\\Burglary039_x264.mp4.\n",
      "MoviePy - Writing audio in Burglary039_x264TEMP_MPY_wvf_snd.mp3\n"
     ]
    },
    {
     "name": "stderr",
     "output_type": "stream",
     "text": [
      "                                                                      \r"
     ]
    },
    {
     "name": "stdout",
     "output_type": "stream",
     "text": [
      "MoviePy - Done.\n",
      "Moviepy - Writing video S:\\Academic\\Final Year Project\\crime-detection\\Subclips\\Burglary039_x264.mp4\n",
      "\n"
     ]
    },
    {
     "name": "stderr",
     "output_type": "stream",
     "text": [
      "                                                                  \r"
     ]
    },
    {
     "name": "stdout",
     "output_type": "stream",
     "text": [
      "Moviepy - Done !\n",
      "Moviepy - video ready S:\\Academic\\Final Year Project\\crime-detection\\Subclips\\Burglary039_x264.mp4\n",
      "Burglary039_x264.mp4 85 309\n",
      "Moviepy - Building video S:\\Academic\\Final Year Project\\crime-detection\\Subclips\\Burglary040_x264.mp4.\n",
      "MoviePy - Writing audio in Burglary040_x264TEMP_MPY_wvf_snd.mp3\n"
     ]
    },
    {
     "name": "stderr",
     "output_type": "stream",
     "text": [
      "                                                                      \r"
     ]
    },
    {
     "name": "stdout",
     "output_type": "stream",
     "text": [
      "MoviePy - Done.\n",
      "Moviepy - Writing video S:\\Academic\\Final Year Project\\crime-detection\\Subclips\\Burglary040_x264.mp4\n",
      "\n"
     ]
    },
    {
     "name": "stderr",
     "output_type": "stream",
     "text": [
      "                                                                  \r"
     ]
    },
    {
     "name": "stdout",
     "output_type": "stream",
     "text": [
      "Moviepy - Done !\n",
      "Moviepy - video ready S:\\Academic\\Final Year Project\\crime-detection\\Subclips\\Burglary040_x264.mp4\n",
      "Burglary040_x264.mp4 26 175\n",
      "Moviepy - Building video S:\\Academic\\Final Year Project\\crime-detection\\Subclips\\Burglary041_x264.mp4.\n",
      "MoviePy - Writing audio in Burglary041_x264TEMP_MPY_wvf_snd.mp3\n"
     ]
    },
    {
     "name": "stderr",
     "output_type": "stream",
     "text": [
      "                                                                      \r"
     ]
    },
    {
     "name": "stdout",
     "output_type": "stream",
     "text": [
      "MoviePy - Done.\n",
      "Moviepy - Writing video S:\\Academic\\Final Year Project\\crime-detection\\Subclips\\Burglary041_x264.mp4\n",
      "\n"
     ]
    },
    {
     "name": "stderr",
     "output_type": "stream",
     "text": [
      "                                                                 \r"
     ]
    },
    {
     "name": "stdout",
     "output_type": "stream",
     "text": [
      "Moviepy - Done !\n",
      "Moviepy - video ready S:\\Academic\\Final Year Project\\crime-detection\\Subclips\\Burglary041_x264.mp4\n",
      "Burglary041_x264.mp4 5 58\n",
      "Moviepy - Building video S:\\Academic\\Final Year Project\\crime-detection\\Subclips\\Burglary042_x264.mp4.\n",
      "MoviePy - Writing audio in Burglary042_x264TEMP_MPY_wvf_snd.mp3\n"
     ]
    },
    {
     "name": "stderr",
     "output_type": "stream",
     "text": [
      "                                                                      \r"
     ]
    },
    {
     "name": "stdout",
     "output_type": "stream",
     "text": [
      "MoviePy - Done.\n",
      "Moviepy - Writing video S:\\Academic\\Final Year Project\\crime-detection\\Subclips\\Burglary042_x264.mp4\n",
      "\n"
     ]
    },
    {
     "name": "stderr",
     "output_type": "stream",
     "text": [
      "                                                                  \r"
     ]
    },
    {
     "name": "stdout",
     "output_type": "stream",
     "text": [
      "Moviepy - Done !\n",
      "Moviepy - video ready S:\\Academic\\Final Year Project\\crime-detection\\Subclips\\Burglary042_x264.mp4\n",
      "Burglary042_x264.mp4 11 135\n",
      "Moviepy - Building video S:\\Academic\\Final Year Project\\crime-detection\\Subclips\\Burglary043_x264.mp4.\n",
      "MoviePy - Writing audio in Burglary043_x264TEMP_MPY_wvf_snd.mp3\n"
     ]
    },
    {
     "name": "stderr",
     "output_type": "stream",
     "text": [
      "                                                                    \r"
     ]
    },
    {
     "name": "stdout",
     "output_type": "stream",
     "text": [
      "MoviePy - Done.\n",
      "Moviepy - Writing video S:\\Academic\\Final Year Project\\crime-detection\\Subclips\\Burglary043_x264.mp4\n",
      "\n"
     ]
    },
    {
     "name": "stderr",
     "output_type": "stream",
     "text": [
      "                                                                \r"
     ]
    },
    {
     "name": "stdout",
     "output_type": "stream",
     "text": [
      "Moviepy - Done !\n",
      "Moviepy - video ready S:\\Academic\\Final Year Project\\crime-detection\\Subclips\\Burglary043_x264.mp4\n",
      "Burglary043_x264.mp4 9 17\n",
      "Moviepy - Building video S:\\Academic\\Final Year Project\\crime-detection\\Subclips\\Burglary044_x264.mp4.\n",
      "MoviePy - Writing audio in Burglary044_x264TEMP_MPY_wvf_snd.mp3\n"
     ]
    },
    {
     "name": "stderr",
     "output_type": "stream",
     "text": [
      "                                                                      \r"
     ]
    },
    {
     "name": "stdout",
     "output_type": "stream",
     "text": [
      "MoviePy - Done.\n",
      "Moviepy - Writing video S:\\Academic\\Final Year Project\\crime-detection\\Subclips\\Burglary044_x264.mp4\n",
      "\n"
     ]
    },
    {
     "name": "stderr",
     "output_type": "stream",
     "text": [
      "                                                                  \r"
     ]
    },
    {
     "name": "stdout",
     "output_type": "stream",
     "text": [
      "Moviepy - Done !\n",
      "Moviepy - video ready S:\\Academic\\Final Year Project\\crime-detection\\Subclips\\Burglary044_x264.mp4\n",
      "Burglary044_x264.mp4 20 109\n",
      "Moviepy - Building video S:\\Academic\\Final Year Project\\crime-detection\\Subclips\\Burglary045_x264.mp4.\n",
      "MoviePy - Writing audio in Burglary045_x264TEMP_MPY_wvf_snd.mp3\n"
     ]
    },
    {
     "name": "stderr",
     "output_type": "stream",
     "text": [
      "                                                                      \r"
     ]
    },
    {
     "name": "stdout",
     "output_type": "stream",
     "text": [
      "MoviePy - Done.\n",
      "Moviepy - Writing video S:\\Academic\\Final Year Project\\crime-detection\\Subclips\\Burglary045_x264.mp4\n",
      "\n"
     ]
    },
    {
     "name": "stderr",
     "output_type": "stream",
     "text": [
      "                                                                  \r"
     ]
    },
    {
     "name": "stdout",
     "output_type": "stream",
     "text": [
      "Moviepy - Done !\n",
      "Moviepy - video ready S:\\Academic\\Final Year Project\\crime-detection\\Subclips\\Burglary045_x264.mp4\n",
      "Burglary045_x264.mp4 64 266\n",
      "Moviepy - Building video S:\\Academic\\Final Year Project\\crime-detection\\Subclips\\Burglary046_x264.mp4.\n",
      "MoviePy - Writing audio in Burglary046_x264TEMP_MPY_wvf_snd.mp3\n"
     ]
    },
    {
     "name": "stderr",
     "output_type": "stream",
     "text": [
      "                                                                      \r"
     ]
    },
    {
     "name": "stdout",
     "output_type": "stream",
     "text": [
      "MoviePy - Done.\n",
      "Moviepy - Writing video S:\\Academic\\Final Year Project\\crime-detection\\Subclips\\Burglary046_x264.mp4\n",
      "\n"
     ]
    },
    {
     "name": "stderr",
     "output_type": "stream",
     "text": [
      "                                                                  \r"
     ]
    },
    {
     "name": "stdout",
     "output_type": "stream",
     "text": [
      "Moviepy - Done !\n",
      "Moviepy - video ready S:\\Academic\\Final Year Project\\crime-detection\\Subclips\\Burglary046_x264.mp4\n",
      "Burglary046_x264.mp4 20 76\n",
      "Moviepy - Building video S:\\Academic\\Final Year Project\\crime-detection\\Subclips\\Burglary047_x264.mp4.\n",
      "MoviePy - Writing audio in Burglary047_x264TEMP_MPY_wvf_snd.mp3\n"
     ]
    },
    {
     "name": "stderr",
     "output_type": "stream",
     "text": [
      "                                                                      \r"
     ]
    },
    {
     "name": "stdout",
     "output_type": "stream",
     "text": [
      "MoviePy - Done.\n",
      "Moviepy - Writing video S:\\Academic\\Final Year Project\\crime-detection\\Subclips\\Burglary047_x264.mp4\n",
      "\n"
     ]
    },
    {
     "name": "stderr",
     "output_type": "stream",
     "text": [
      "                                                                  \r"
     ]
    },
    {
     "name": "stdout",
     "output_type": "stream",
     "text": [
      "Moviepy - Done !\n",
      "Moviepy - video ready S:\\Academic\\Final Year Project\\crime-detection\\Subclips\\Burglary047_x264.mp4\n",
      "Burglary047_x264.mp4 11 88\n",
      "Moviepy - Building video S:\\Academic\\Final Year Project\\crime-detection\\Subclips\\Burglary048_x264.mp4.\n",
      "MoviePy - Writing audio in Burglary048_x264TEMP_MPY_wvf_snd.mp3\n"
     ]
    },
    {
     "name": "stderr",
     "output_type": "stream",
     "text": [
      "                                                                    \r"
     ]
    },
    {
     "name": "stdout",
     "output_type": "stream",
     "text": [
      "MoviePy - Done.\n",
      "Moviepy - Writing video S:\\Academic\\Final Year Project\\crime-detection\\Subclips\\Burglary048_x264.mp4\n",
      "\n"
     ]
    },
    {
     "name": "stderr",
     "output_type": "stream",
     "text": [
      "                                                                  \r"
     ]
    },
    {
     "name": "stdout",
     "output_type": "stream",
     "text": [
      "Moviepy - Done !\n",
      "Moviepy - video ready S:\\Academic\\Final Year Project\\crime-detection\\Subclips\\Burglary048_x264.mp4\n",
      "Burglary048_x264.mp4 11 55\n",
      "Moviepy - Building video S:\\Academic\\Final Year Project\\crime-detection\\Subclips\\Burglary049_x264.mp4.\n",
      "MoviePy - Writing audio in Burglary049_x264TEMP_MPY_wvf_snd.mp3\n"
     ]
    },
    {
     "name": "stderr",
     "output_type": "stream",
     "text": [
      "                                                                      \r"
     ]
    },
    {
     "name": "stdout",
     "output_type": "stream",
     "text": [
      "MoviePy - Done.\n",
      "Moviepy - Writing video S:\\Academic\\Final Year Project\\crime-detection\\Subclips\\Burglary049_x264.mp4\n",
      "\n"
     ]
    },
    {
     "name": "stderr",
     "output_type": "stream",
     "text": [
      "                                                                  \r"
     ]
    },
    {
     "name": "stdout",
     "output_type": "stream",
     "text": [
      "Moviepy - Done !\n",
      "Moviepy - video ready S:\\Academic\\Final Year Project\\crime-detection\\Subclips\\Burglary049_x264.mp4\n",
      "Burglary049_x264.mp4 3 305\n",
      "Moviepy - Building video S:\\Academic\\Final Year Project\\crime-detection\\Subclips\\Burglary050_x264.mp4.\n",
      "MoviePy - Writing audio in Burglary050_x264TEMP_MPY_wvf_snd.mp3\n"
     ]
    },
    {
     "name": "stderr",
     "output_type": "stream",
     "text": [
      "                                                                    \r"
     ]
    },
    {
     "name": "stdout",
     "output_type": "stream",
     "text": [
      "MoviePy - Done.\n",
      "Moviepy - Writing video S:\\Academic\\Final Year Project\\crime-detection\\Subclips\\Burglary050_x264.mp4\n",
      "\n"
     ]
    },
    {
     "name": "stderr",
     "output_type": "stream",
     "text": [
      "                                                                \r"
     ]
    },
    {
     "name": "stdout",
     "output_type": "stream",
     "text": [
      "Moviepy - Done !\n",
      "Moviepy - video ready S:\\Academic\\Final Year Project\\crime-detection\\Subclips\\Burglary050_x264.mp4\n",
      "Burglary050_x264.mp4 15 28\n",
      "Moviepy - Building video S:\\Academic\\Final Year Project\\crime-detection\\Subclips\\Burglary051_x264.mp4.\n",
      "MoviePy - Writing audio in Burglary051_x264TEMP_MPY_wvf_snd.mp3\n"
     ]
    },
    {
     "name": "stderr",
     "output_type": "stream",
     "text": [
      "                                                                    \r"
     ]
    },
    {
     "name": "stdout",
     "output_type": "stream",
     "text": [
      "MoviePy - Done.\n",
      "Moviepy - Writing video S:\\Academic\\Final Year Project\\crime-detection\\Subclips\\Burglary051_x264.mp4\n",
      "\n"
     ]
    },
    {
     "name": "stderr",
     "output_type": "stream",
     "text": [
      "                                                                  \r"
     ]
    },
    {
     "name": "stdout",
     "output_type": "stream",
     "text": [
      "Moviepy - Done !\n",
      "Moviepy - video ready S:\\Academic\\Final Year Project\\crime-detection\\Subclips\\Burglary051_x264.mp4\n",
      "Burglary051_x264.mp4 4 42\n",
      "Moviepy - Building video S:\\Academic\\Final Year Project\\crime-detection\\Subclips\\Burglary052_x264.mp4.\n",
      "MoviePy - Writing audio in Burglary052_x264TEMP_MPY_wvf_snd.mp3\n"
     ]
    },
    {
     "name": "stderr",
     "output_type": "stream",
     "text": [
      "                                                                      \r"
     ]
    },
    {
     "name": "stdout",
     "output_type": "stream",
     "text": [
      "MoviePy - Done.\n",
      "Moviepy - Writing video S:\\Academic\\Final Year Project\\crime-detection\\Subclips\\Burglary052_x264.mp4\n",
      "\n"
     ]
    },
    {
     "name": "stderr",
     "output_type": "stream",
     "text": [
      "                                                                  \r"
     ]
    },
    {
     "name": "stdout",
     "output_type": "stream",
     "text": [
      "Moviepy - Done !\n",
      "Moviepy - video ready S:\\Academic\\Final Year Project\\crime-detection\\Subclips\\Burglary052_x264.mp4\n",
      "Burglary052_x264.mp4 50 329\n",
      "Moviepy - Building video S:\\Academic\\Final Year Project\\crime-detection\\Subclips\\Burglary053_x264.mp4.\n",
      "MoviePy - Writing audio in Burglary053_x264TEMP_MPY_wvf_snd.mp3\n"
     ]
    },
    {
     "name": "stderr",
     "output_type": "stream",
     "text": [
      "                                                                      \r"
     ]
    },
    {
     "name": "stdout",
     "output_type": "stream",
     "text": [
      "MoviePy - Done.\n",
      "Moviepy - Writing video S:\\Academic\\Final Year Project\\crime-detection\\Subclips\\Burglary053_x264.mp4\n",
      "\n"
     ]
    },
    {
     "name": "stderr",
     "output_type": "stream",
     "text": [
      "                                                                  \r"
     ]
    },
    {
     "name": "stdout",
     "output_type": "stream",
     "text": [
      "Moviepy - Done !\n",
      "Moviepy - video ready S:\\Academic\\Final Year Project\\crime-detection\\Subclips\\Burglary053_x264.mp4\n",
      "Burglary053_x264.mp4 5 109\n",
      "Moviepy - Building video S:\\Academic\\Final Year Project\\crime-detection\\Subclips\\Burglary054_x264.mp4.\n",
      "MoviePy - Writing audio in Burglary054_x264TEMP_MPY_wvf_snd.mp3\n"
     ]
    },
    {
     "name": "stderr",
     "output_type": "stream",
     "text": [
      "                                                                    \r"
     ]
    },
    {
     "name": "stdout",
     "output_type": "stream",
     "text": [
      "MoviePy - Done.\n",
      "Moviepy - Writing video S:\\Academic\\Final Year Project\\crime-detection\\Subclips\\Burglary054_x264.mp4\n",
      "\n"
     ]
    },
    {
     "name": "stderr",
     "output_type": "stream",
     "text": [
      "                                                                \r"
     ]
    },
    {
     "name": "stdout",
     "output_type": "stream",
     "text": [
      "Moviepy - Done !\n",
      "Moviepy - video ready S:\\Academic\\Final Year Project\\crime-detection\\Subclips\\Burglary054_x264.mp4\n",
      "Burglary054_x264.mp4 2 11\n",
      "Moviepy - Building video S:\\Academic\\Final Year Project\\crime-detection\\Subclips\\Burglary055_x264.mp4.\n",
      "MoviePy - Writing audio in Burglary055_x264TEMP_MPY_wvf_snd.mp3\n"
     ]
    },
    {
     "name": "stderr",
     "output_type": "stream",
     "text": [
      "                                                                      \r"
     ]
    },
    {
     "name": "stdout",
     "output_type": "stream",
     "text": [
      "MoviePy - Done.\n",
      "Moviepy - Writing video S:\\Academic\\Final Year Project\\crime-detection\\Subclips\\Burglary055_x264.mp4\n",
      "\n"
     ]
    },
    {
     "name": "stderr",
     "output_type": "stream",
     "text": [
      "                                                                  \r"
     ]
    },
    {
     "name": "stdout",
     "output_type": "stream",
     "text": [
      "Moviepy - Done !\n",
      "Moviepy - video ready S:\\Academic\\Final Year Project\\crime-detection\\Subclips\\Burglary055_x264.mp4\n",
      "Burglary055_x264.mp4 13 91\n",
      "Moviepy - Building video S:\\Academic\\Final Year Project\\crime-detection\\Subclips\\Burglary056_x264.mp4.\n",
      "MoviePy - Writing audio in Burglary056_x264TEMP_MPY_wvf_snd.mp3\n"
     ]
    },
    {
     "name": "stderr",
     "output_type": "stream",
     "text": [
      "                                                                    \r"
     ]
    },
    {
     "name": "stdout",
     "output_type": "stream",
     "text": [
      "MoviePy - Done.\n",
      "Moviepy - Writing video S:\\Academic\\Final Year Project\\crime-detection\\Subclips\\Burglary056_x264.mp4\n",
      "\n"
     ]
    },
    {
     "name": "stderr",
     "output_type": "stream",
     "text": [
      "                                                                  \r"
     ]
    },
    {
     "name": "stdout",
     "output_type": "stream",
     "text": [
      "Moviepy - Done !\n",
      "Moviepy - video ready S:\\Academic\\Final Year Project\\crime-detection\\Subclips\\Burglary056_x264.mp4\n",
      "Burglary056_x264.mp4 4 47\n",
      "Moviepy - Building video S:\\Academic\\Final Year Project\\crime-detection\\Subclips\\Burglary057_x264.mp4.\n",
      "MoviePy - Writing audio in Burglary057_x264TEMP_MPY_wvf_snd.mp3\n"
     ]
    },
    {
     "name": "stderr",
     "output_type": "stream",
     "text": [
      "                                                                      \r"
     ]
    },
    {
     "name": "stdout",
     "output_type": "stream",
     "text": [
      "MoviePy - Done.\n",
      "Moviepy - Writing video S:\\Academic\\Final Year Project\\crime-detection\\Subclips\\Burglary057_x264.mp4\n",
      "\n"
     ]
    },
    {
     "name": "stderr",
     "output_type": "stream",
     "text": [
      "                                                                  \r"
     ]
    },
    {
     "name": "stdout",
     "output_type": "stream",
     "text": [
      "Moviepy - Done !\n",
      "Moviepy - video ready S:\\Academic\\Final Year Project\\crime-detection\\Subclips\\Burglary057_x264.mp4\n",
      "Burglary057_x264.mp4 5 184\n",
      "Moviepy - Building video S:\\Academic\\Final Year Project\\crime-detection\\Subclips\\Burglary058_x264.mp4.\n",
      "MoviePy - Writing audio in Burglary058_x264TEMP_MPY_wvf_snd.mp3\n"
     ]
    },
    {
     "name": "stderr",
     "output_type": "stream",
     "text": [
      "                                                                      \r"
     ]
    },
    {
     "name": "stdout",
     "output_type": "stream",
     "text": [
      "MoviePy - Done.\n",
      "Moviepy - Writing video S:\\Academic\\Final Year Project\\crime-detection\\Subclips\\Burglary058_x264.mp4\n",
      "\n"
     ]
    },
    {
     "name": "stderr",
     "output_type": "stream",
     "text": [
      "                                                                    \r"
     ]
    },
    {
     "name": "stdout",
     "output_type": "stream",
     "text": [
      "Moviepy - Done !\n",
      "Moviepy - video ready S:\\Academic\\Final Year Project\\crime-detection\\Subclips\\Burglary058_x264.mp4\n",
      "Burglary058_x264.mp4 7 379\n",
      "Moviepy - Building video S:\\Academic\\Final Year Project\\crime-detection\\Subclips\\Burglary059_x264.mp4.\n",
      "MoviePy - Writing audio in Burglary059_x264TEMP_MPY_wvf_snd.mp3\n"
     ]
    },
    {
     "name": "stderr",
     "output_type": "stream",
     "text": [
      "                                                                    \r"
     ]
    },
    {
     "name": "stdout",
     "output_type": "stream",
     "text": [
      "MoviePy - Done.\n",
      "Moviepy - Writing video S:\\Academic\\Final Year Project\\crime-detection\\Subclips\\Burglary059_x264.mp4\n",
      "\n"
     ]
    },
    {
     "name": "stderr",
     "output_type": "stream",
     "text": [
      "                                                                \r"
     ]
    },
    {
     "name": "stdout",
     "output_type": "stream",
     "text": [
      "Moviepy - Done !\n",
      "Moviepy - video ready S:\\Academic\\Final Year Project\\crime-detection\\Subclips\\Burglary059_x264.mp4\n",
      "Burglary059_x264.mp4 2 14\n",
      "Moviepy - Building video S:\\Academic\\Final Year Project\\crime-detection\\Subclips\\Burglary060_x264.mp4.\n",
      "MoviePy - Writing audio in Burglary060_x264TEMP_MPY_wvf_snd.mp3\n"
     ]
    },
    {
     "name": "stderr",
     "output_type": "stream",
     "text": [
      "                                                                    \r"
     ]
    },
    {
     "name": "stdout",
     "output_type": "stream",
     "text": [
      "MoviePy - Done.\n",
      "Moviepy - Writing video S:\\Academic\\Final Year Project\\crime-detection\\Subclips\\Burglary060_x264.mp4\n",
      "\n"
     ]
    },
    {
     "name": "stderr",
     "output_type": "stream",
     "text": [
      "                                                                \r"
     ]
    },
    {
     "name": "stdout",
     "output_type": "stream",
     "text": [
      "Moviepy - Done !\n",
      "Moviepy - video ready S:\\Academic\\Final Year Project\\crime-detection\\Subclips\\Burglary060_x264.mp4\n",
      "Burglary060_x264.mp4 4 24\n",
      "Moviepy - Building video S:\\Academic\\Final Year Project\\crime-detection\\Subclips\\Burglary061_x264.mp4.\n",
      "MoviePy - Writing audio in Burglary061_x264TEMP_MPY_wvf_snd.mp3\n"
     ]
    },
    {
     "name": "stderr",
     "output_type": "stream",
     "text": [
      "                                                                      \r"
     ]
    },
    {
     "name": "stdout",
     "output_type": "stream",
     "text": [
      "MoviePy - Done.\n",
      "Moviepy - Writing video S:\\Academic\\Final Year Project\\crime-detection\\Subclips\\Burglary061_x264.mp4\n",
      "\n"
     ]
    },
    {
     "name": "stderr",
     "output_type": "stream",
     "text": [
      "                                                                  \r"
     ]
    },
    {
     "name": "stdout",
     "output_type": "stream",
     "text": [
      "Moviepy - Done !\n",
      "Moviepy - video ready S:\\Academic\\Final Year Project\\crime-detection\\Subclips\\Burglary061_x264.mp4\n",
      "Burglary061_x264.mp4 135 192\n",
      "Moviepy - Building video S:\\Academic\\Final Year Project\\crime-detection\\Subclips\\Burglary062_x264.mp4.\n",
      "MoviePy - Writing audio in Burglary062_x264TEMP_MPY_wvf_snd.mp3\n"
     ]
    },
    {
     "name": "stderr",
     "output_type": "stream",
     "text": [
      "                                                                      \r"
     ]
    },
    {
     "name": "stdout",
     "output_type": "stream",
     "text": [
      "MoviePy - Done.\n",
      "Moviepy - Writing video S:\\Academic\\Final Year Project\\crime-detection\\Subclips\\Burglary062_x264.mp4\n",
      "\n"
     ]
    },
    {
     "name": "stderr",
     "output_type": "stream",
     "text": [
      "                                                                  \r"
     ]
    },
    {
     "name": "stdout",
     "output_type": "stream",
     "text": [
      "Moviepy - Done !\n",
      "Moviepy - video ready S:\\Academic\\Final Year Project\\crime-detection\\Subclips\\Burglary062_x264.mp4\n",
      "Burglary062_x264.mp4 134 350\n",
      "Moviepy - Building video S:\\Academic\\Final Year Project\\crime-detection\\Subclips\\Burglary063_x264.mp4.\n",
      "MoviePy - Writing audio in Burglary063_x264TEMP_MPY_wvf_snd.mp3\n"
     ]
    },
    {
     "name": "stderr",
     "output_type": "stream",
     "text": [
      "                                                                      \r"
     ]
    },
    {
     "name": "stdout",
     "output_type": "stream",
     "text": [
      "MoviePy - Done.\n",
      "Moviepy - Writing video S:\\Academic\\Final Year Project\\crime-detection\\Subclips\\Burglary063_x264.mp4\n",
      "\n"
     ]
    },
    {
     "name": "stderr",
     "output_type": "stream",
     "text": [
      "                                                                  \r"
     ]
    },
    {
     "name": "stdout",
     "output_type": "stream",
     "text": [
      "Moviepy - Done !\n",
      "Moviepy - video ready S:\\Academic\\Final Year Project\\crime-detection\\Subclips\\Burglary063_x264.mp4\n",
      "Burglary063_x264.mp4 50 122\n",
      "Moviepy - Building video S:\\Academic\\Final Year Project\\crime-detection\\Subclips\\Burglary064_x264.mp4.\n",
      "MoviePy - Writing audio in Burglary064_x264TEMP_MPY_wvf_snd.mp3\n"
     ]
    },
    {
     "name": "stderr",
     "output_type": "stream",
     "text": [
      "                                                                        \r"
     ]
    },
    {
     "name": "stdout",
     "output_type": "stream",
     "text": [
      "MoviePy - Done.\n",
      "Moviepy - Writing video S:\\Academic\\Final Year Project\\crime-detection\\Subclips\\Burglary064_x264.mp4\n",
      "\n"
     ]
    },
    {
     "name": "stderr",
     "output_type": "stream",
     "text": [
      "                                                                    \r"
     ]
    },
    {
     "name": "stdout",
     "output_type": "stream",
     "text": [
      "Moviepy - Done !\n",
      "Moviepy - video ready S:\\Academic\\Final Year Project\\crime-detection\\Subclips\\Burglary064_x264.mp4\n",
      "Burglary064_x264.mp4 518 1576\n",
      "Moviepy - Building video S:\\Academic\\Final Year Project\\crime-detection\\Subclips\\Burglary065_x264.mp4.\n",
      "MoviePy - Writing audio in Burglary065_x264TEMP_MPY_wvf_snd.mp3\n"
     ]
    },
    {
     "name": "stderr",
     "output_type": "stream",
     "text": [
      "                                                                      \r"
     ]
    },
    {
     "name": "stdout",
     "output_type": "stream",
     "text": [
      "MoviePy - Done.\n",
      "Moviepy - Writing video S:\\Academic\\Final Year Project\\crime-detection\\Subclips\\Burglary065_x264.mp4\n",
      "\n"
     ]
    },
    {
     "name": "stderr",
     "output_type": "stream",
     "text": [
      "                                                                  \r"
     ]
    },
    {
     "name": "stdout",
     "output_type": "stream",
     "text": [
      "Moviepy - Done !\n",
      "Moviepy - video ready S:\\Academic\\Final Year Project\\crime-detection\\Subclips\\Burglary065_x264.mp4\n",
      "Burglary065_x264.mp4 93 274\n",
      "Moviepy - Building video S:\\Academic\\Final Year Project\\crime-detection\\Subclips\\Burglary066_x264.mp4.\n",
      "MoviePy - Writing audio in Burglary066_x264TEMP_MPY_wvf_snd.mp3\n"
     ]
    },
    {
     "name": "stderr",
     "output_type": "stream",
     "text": [
      "                                                                      \r"
     ]
    },
    {
     "name": "stdout",
     "output_type": "stream",
     "text": [
      "MoviePy - Done.\n",
      "Moviepy - Writing video S:\\Academic\\Final Year Project\\crime-detection\\Subclips\\Burglary066_x264.mp4\n",
      "\n"
     ]
    },
    {
     "name": "stderr",
     "output_type": "stream",
     "text": [
      "                                                                  \r"
     ]
    },
    {
     "name": "stdout",
     "output_type": "stream",
     "text": [
      "Moviepy - Done !\n",
      "Moviepy - video ready S:\\Academic\\Final Year Project\\crime-detection\\Subclips\\Burglary066_x264.mp4\n",
      "Burglary066_x264.mp4 6 58\n",
      "Moviepy - Building video S:\\Academic\\Final Year Project\\crime-detection\\Subclips\\Burglary067_x264.mp4.\n",
      "MoviePy - Writing audio in Burglary067_x264TEMP_MPY_wvf_snd.mp3\n"
     ]
    },
    {
     "name": "stderr",
     "output_type": "stream",
     "text": [
      "                                                                    \r"
     ]
    },
    {
     "name": "stdout",
     "output_type": "stream",
     "text": [
      "MoviePy - Done.\n",
      "Moviepy - Writing video S:\\Academic\\Final Year Project\\crime-detection\\Subclips\\Burglary067_x264.mp4\n",
      "\n"
     ]
    },
    {
     "name": "stderr",
     "output_type": "stream",
     "text": [
      "                                                                 \r"
     ]
    },
    {
     "name": "stdout",
     "output_type": "stream",
     "text": [
      "Moviepy - Done !\n",
      "Moviepy - video ready S:\\Academic\\Final Year Project\\crime-detection\\Subclips\\Burglary067_x264.mp4\n",
      "Burglary067_x264.mp4 7 43\n",
      "Moviepy - Building video S:\\Academic\\Final Year Project\\crime-detection\\Subclips\\Burglary068_x264.mp4.\n",
      "MoviePy - Writing audio in Burglary068_x264TEMP_MPY_wvf_snd.mp3\n"
     ]
    },
    {
     "name": "stderr",
     "output_type": "stream",
     "text": [
      "                                                                    \r"
     ]
    },
    {
     "name": "stdout",
     "output_type": "stream",
     "text": [
      "MoviePy - Done.\n",
      "Moviepy - Writing video S:\\Academic\\Final Year Project\\crime-detection\\Subclips\\Burglary068_x264.mp4\n",
      "\n"
     ]
    },
    {
     "name": "stderr",
     "output_type": "stream",
     "text": [
      "                                                                \r"
     ]
    },
    {
     "name": "stdout",
     "output_type": "stream",
     "text": [
      "Moviepy - Done !\n",
      "Moviepy - video ready S:\\Academic\\Final Year Project\\crime-detection\\Subclips\\Burglary068_x264.mp4\n",
      "Burglary068_x264.mp4 8 22\n",
      "Moviepy - Building video S:\\Academic\\Final Year Project\\crime-detection\\Subclips\\Burglary069_x264.mp4.\n",
      "MoviePy - Writing audio in Burglary069_x264TEMP_MPY_wvf_snd.mp3\n"
     ]
    },
    {
     "name": "stderr",
     "output_type": "stream",
     "text": [
      "                                                                      \r"
     ]
    },
    {
     "name": "stdout",
     "output_type": "stream",
     "text": [
      "MoviePy - Done.\n",
      "Moviepy - Writing video S:\\Academic\\Final Year Project\\crime-detection\\Subclips\\Burglary069_x264.mp4\n",
      "\n"
     ]
    },
    {
     "name": "stderr",
     "output_type": "stream",
     "text": [
      "                                                                  \r"
     ]
    },
    {
     "name": "stdout",
     "output_type": "stream",
     "text": [
      "Moviepy - Done !\n",
      "Moviepy - video ready S:\\Academic\\Final Year Project\\crime-detection\\Subclips\\Burglary069_x264.mp4\n",
      "Burglary069_x264.mp4 6 70\n",
      "Moviepy - Building video S:\\Academic\\Final Year Project\\crime-detection\\Subclips\\Burglary070_x264.mp4.\n",
      "MoviePy - Writing audio in Burglary070_x264TEMP_MPY_wvf_snd.mp3\n"
     ]
    },
    {
     "name": "stderr",
     "output_type": "stream",
     "text": [
      "                                                                    \r"
     ]
    },
    {
     "name": "stdout",
     "output_type": "stream",
     "text": [
      "MoviePy - Done.\n",
      "Moviepy - Writing video S:\\Academic\\Final Year Project\\crime-detection\\Subclips\\Burglary070_x264.mp4\n",
      "\n"
     ]
    },
    {
     "name": "stderr",
     "output_type": "stream",
     "text": [
      "                                                                \r"
     ]
    },
    {
     "name": "stdout",
     "output_type": "stream",
     "text": [
      "Moviepy - Done !\n",
      "Moviepy - video ready S:\\Academic\\Final Year Project\\crime-detection\\Subclips\\Burglary070_x264.mp4\n",
      "Burglary070_x264.mp4 4 26\n",
      "Moviepy - Building video S:\\Academic\\Final Year Project\\crime-detection\\Subclips\\Burglary071_x264.mp4.\n",
      "MoviePy - Writing audio in Burglary071_x264TEMP_MPY_wvf_snd.mp3\n"
     ]
    },
    {
     "name": "stderr",
     "output_type": "stream",
     "text": [
      "                                                                      \r"
     ]
    },
    {
     "name": "stdout",
     "output_type": "stream",
     "text": [
      "MoviePy - Done.\n",
      "Moviepy - Writing video S:\\Academic\\Final Year Project\\crime-detection\\Subclips\\Burglary071_x264.mp4\n",
      "\n"
     ]
    },
    {
     "name": "stderr",
     "output_type": "stream",
     "text": [
      "                                                                  \r"
     ]
    },
    {
     "name": "stdout",
     "output_type": "stream",
     "text": [
      "Moviepy - Done !\n",
      "Moviepy - video ready S:\\Academic\\Final Year Project\\crime-detection\\Subclips\\Burglary071_x264.mp4\n",
      "Burglary071_x264.mp4 10 99\n",
      "Moviepy - Building video S:\\Academic\\Final Year Project\\crime-detection\\Subclips\\Burglary072_x264.mp4.\n",
      "MoviePy - Writing audio in Burglary072_x264TEMP_MPY_wvf_snd.mp3\n"
     ]
    },
    {
     "name": "stderr",
     "output_type": "stream",
     "text": [
      "                                                                      \r"
     ]
    },
    {
     "name": "stdout",
     "output_type": "stream",
     "text": [
      "MoviePy - Done.\n",
      "Moviepy - Writing video S:\\Academic\\Final Year Project\\crime-detection\\Subclips\\Burglary072_x264.mp4\n",
      "\n"
     ]
    },
    {
     "name": "stderr",
     "output_type": "stream",
     "text": [
      "                                                                  \r"
     ]
    },
    {
     "name": "stdout",
     "output_type": "stream",
     "text": [
      "Moviepy - Done !\n",
      "Moviepy - video ready S:\\Academic\\Final Year Project\\crime-detection\\Subclips\\Burglary072_x264.mp4\n",
      "Burglary072_x264.mp4 6 78\n",
      "Moviepy - Building video S:\\Academic\\Final Year Project\\crime-detection\\Subclips\\Burglary073_x264.mp4.\n",
      "MoviePy - Writing audio in Burglary073_x264TEMP_MPY_wvf_snd.mp3\n"
     ]
    },
    {
     "name": "stderr",
     "output_type": "stream",
     "text": [
      "                                                                      \r"
     ]
    },
    {
     "name": "stdout",
     "output_type": "stream",
     "text": [
      "MoviePy - Done.\n",
      "Moviepy - Writing video S:\\Academic\\Final Year Project\\crime-detection\\Subclips\\Burglary073_x264.mp4\n",
      "\n"
     ]
    },
    {
     "name": "stderr",
     "output_type": "stream",
     "text": [
      "                                                                  \r"
     ]
    },
    {
     "name": "stdout",
     "output_type": "stream",
     "text": [
      "Moviepy - Done !\n",
      "Moviepy - video ready S:\\Academic\\Final Year Project\\crime-detection\\Subclips\\Burglary073_x264.mp4\n",
      "Burglary073_x264.mp4 22 92\n",
      "Moviepy - Building video S:\\Academic\\Final Year Project\\crime-detection\\Subclips\\Burglary074_x264.mp4.\n",
      "MoviePy - Writing audio in Burglary074_x264TEMP_MPY_wvf_snd.mp3\n"
     ]
    },
    {
     "name": "stderr",
     "output_type": "stream",
     "text": [
      "                                                                      \r"
     ]
    },
    {
     "name": "stdout",
     "output_type": "stream",
     "text": [
      "MoviePy - Done.\n",
      "Moviepy - Writing video S:\\Academic\\Final Year Project\\crime-detection\\Subclips\\Burglary074_x264.mp4\n",
      "\n"
     ]
    },
    {
     "name": "stderr",
     "output_type": "stream",
     "text": [
      "                                                                  \r"
     ]
    },
    {
     "name": "stdout",
     "output_type": "stream",
     "text": [
      "Moviepy - Done !\n",
      "Moviepy - video ready S:\\Academic\\Final Year Project\\crime-detection\\Subclips\\Burglary074_x264.mp4\n",
      "Burglary074_x264.mp4 10 68\n",
      "Moviepy - Building video S:\\Academic\\Final Year Project\\crime-detection\\Subclips\\Burglary075_x264.mp4.\n",
      "MoviePy - Writing audio in Burglary075_x264TEMP_MPY_wvf_snd.mp3\n"
     ]
    },
    {
     "name": "stderr",
     "output_type": "stream",
     "text": [
      "                                                                      \r"
     ]
    },
    {
     "name": "stdout",
     "output_type": "stream",
     "text": [
      "MoviePy - Done.\n",
      "Moviepy - Writing video S:\\Academic\\Final Year Project\\crime-detection\\Subclips\\Burglary075_x264.mp4\n",
      "\n"
     ]
    },
    {
     "name": "stderr",
     "output_type": "stream",
     "text": [
      "                                                                    \r"
     ]
    },
    {
     "name": "stdout",
     "output_type": "stream",
     "text": [
      "Moviepy - Done !\n",
      "Moviepy - video ready S:\\Academic\\Final Year Project\\crime-detection\\Subclips\\Burglary075_x264.mp4\n",
      "Burglary075_x264.mp4 90 516\n",
      "Moviepy - Building video S:\\Academic\\Final Year Project\\crime-detection\\Subclips\\Burglary076_x264.mp4.\n",
      "MoviePy - Writing audio in Burglary076_x264TEMP_MPY_wvf_snd.mp3\n"
     ]
    },
    {
     "name": "stderr",
     "output_type": "stream",
     "text": [
      "                                                                      \r"
     ]
    },
    {
     "name": "stdout",
     "output_type": "stream",
     "text": [
      "MoviePy - Done.\n",
      "Moviepy - Writing video S:\\Academic\\Final Year Project\\crime-detection\\Subclips\\Burglary076_x264.mp4\n",
      "\n"
     ]
    },
    {
     "name": "stderr",
     "output_type": "stream",
     "text": [
      "                                                                    \r"
     ]
    },
    {
     "name": "stdout",
     "output_type": "stream",
     "text": [
      "Moviepy - Done !\n",
      "Moviepy - video ready S:\\Academic\\Final Year Project\\crime-detection\\Subclips\\Burglary076_x264.mp4\n",
      "Burglary076_x264.mp4 70 420\n",
      "Moviepy - Building video S:\\Academic\\Final Year Project\\crime-detection\\Subclips\\Burglary077_x264.mp4.\n",
      "MoviePy - Writing audio in Burglary077_x264TEMP_MPY_wvf_snd.mp3\n"
     ]
    },
    {
     "name": "stderr",
     "output_type": "stream",
     "text": [
      "                                                                      \r"
     ]
    },
    {
     "name": "stdout",
     "output_type": "stream",
     "text": [
      "MoviePy - Done.\n",
      "Moviepy - Writing video S:\\Academic\\Final Year Project\\crime-detection\\Subclips\\Burglary077_x264.mp4\n",
      "\n"
     ]
    },
    {
     "name": "stderr",
     "output_type": "stream",
     "text": [
      "                                                                  \r"
     ]
    },
    {
     "name": "stdout",
     "output_type": "stream",
     "text": [
      "Moviepy - Done !\n",
      "Moviepy - video ready S:\\Academic\\Final Year Project\\crime-detection\\Subclips\\Burglary077_x264.mp4\n",
      "Burglary077_x264.mp4 4 62\n",
      "Moviepy - Building video S:\\Academic\\Final Year Project\\crime-detection\\Subclips\\Burglary078_x264.mp4.\n",
      "MoviePy - Writing audio in Burglary078_x264TEMP_MPY_wvf_snd.mp3\n"
     ]
    },
    {
     "name": "stderr",
     "output_type": "stream",
     "text": [
      "                                                        \r"
     ]
    },
    {
     "name": "stdout",
     "output_type": "stream",
     "text": [
      "MoviePy - Done.\n",
      "Moviepy - Writing video S:\\Academic\\Final Year Project\\crime-detection\\Subclips\\Burglary078_x264.mp4\n",
      "\n"
     ]
    },
    {
     "name": "stderr",
     "output_type": "stream",
     "text": [
      "                                                              \r"
     ]
    },
    {
     "name": "stdout",
     "output_type": "stream",
     "text": [
      "Moviepy - Done !\n",
      "Moviepy - video ready S:\\Academic\\Final Year Project\\crime-detection\\Subclips\\Burglary078_x264.mp4\n",
      "Burglary078_x264.mp4 4 9\n",
      "Moviepy - Building video S:\\Academic\\Final Year Project\\crime-detection\\Subclips\\Burglary079_x264.mp4.\n",
      "MoviePy - Writing audio in Burglary079_x264TEMP_MPY_wvf_snd.mp3\n"
     ]
    },
    {
     "name": "stderr",
     "output_type": "stream",
     "text": [
      "                                                                      \r"
     ]
    },
    {
     "name": "stdout",
     "output_type": "stream",
     "text": [
      "MoviePy - Done.\n",
      "Moviepy - Writing video S:\\Academic\\Final Year Project\\crime-detection\\Subclips\\Burglary079_x264.mp4\n",
      "\n"
     ]
    },
    {
     "name": "stderr",
     "output_type": "stream",
     "text": [
      "                                                                  \r"
     ]
    },
    {
     "name": "stdout",
     "output_type": "stream",
     "text": [
      "Moviepy - Done !\n",
      "Moviepy - video ready S:\\Academic\\Final Year Project\\crime-detection\\Subclips\\Burglary079_x264.mp4\n",
      "Burglary079_x264.mp4 261 459\n",
      "Moviepy - Building video S:\\Academic\\Final Year Project\\crime-detection\\Subclips\\Burglary080_x264.mp4.\n",
      "MoviePy - Writing audio in Burglary080_x264TEMP_MPY_wvf_snd.mp3\n"
     ]
    },
    {
     "name": "stderr",
     "output_type": "stream",
     "text": [
      "                                                                    \r"
     ]
    },
    {
     "name": "stdout",
     "output_type": "stream",
     "text": [
      "MoviePy - Done.\n",
      "Moviepy - Writing video S:\\Academic\\Final Year Project\\crime-detection\\Subclips\\Burglary080_x264.mp4\n",
      "\n"
     ]
    },
    {
     "name": "stderr",
     "output_type": "stream",
     "text": [
      "                                                                \r"
     ]
    },
    {
     "name": "stdout",
     "output_type": "stream",
     "text": [
      "Moviepy - Done !\n",
      "Moviepy - video ready S:\\Academic\\Final Year Project\\crime-detection\\Subclips\\Burglary080_x264.mp4\n",
      "Burglary080_x264.mp4 4 37\n",
      "Moviepy - Building video S:\\Academic\\Final Year Project\\crime-detection\\Subclips\\Burglary081_x264.mp4.\n",
      "MoviePy - Writing audio in Burglary081_x264TEMP_MPY_wvf_snd.mp3\n"
     ]
    },
    {
     "name": "stderr",
     "output_type": "stream",
     "text": [
      "                                                        \r"
     ]
    },
    {
     "name": "stdout",
     "output_type": "stream",
     "text": [
      "MoviePy - Done.\n",
      "Moviepy - Writing video S:\\Academic\\Final Year Project\\crime-detection\\Subclips\\Burglary081_x264.mp4\n",
      "\n"
     ]
    },
    {
     "name": "stderr",
     "output_type": "stream",
     "text": [
      "                                                              \r"
     ]
    },
    {
     "name": "stdout",
     "output_type": "stream",
     "text": [
      "Moviepy - Done !\n",
      "Moviepy - video ready S:\\Academic\\Final Year Project\\crime-detection\\Subclips\\Burglary081_x264.mp4\n",
      "Burglary081_x264.mp4 7 13\n",
      "Moviepy - Building video S:\\Academic\\Final Year Project\\crime-detection\\Subclips\\Burglary082_x264.mp4.\n",
      "MoviePy - Writing audio in Burglary082_x264TEMP_MPY_wvf_snd.mp3\n"
     ]
    },
    {
     "name": "stderr",
     "output_type": "stream",
     "text": [
      "                                                                      \r"
     ]
    },
    {
     "name": "stdout",
     "output_type": "stream",
     "text": [
      "MoviePy - Done.\n",
      "Moviepy - Writing video S:\\Academic\\Final Year Project\\crime-detection\\Subclips\\Burglary082_x264.mp4\n",
      "\n"
     ]
    },
    {
     "name": "stderr",
     "output_type": "stream",
     "text": [
      "                                                                  \r"
     ]
    },
    {
     "name": "stdout",
     "output_type": "stream",
     "text": [
      "Moviepy - Done !\n",
      "Moviepy - video ready S:\\Academic\\Final Year Project\\crime-detection\\Subclips\\Burglary082_x264.mp4\n",
      "Burglary082_x264.mp4 36 89\n",
      "Moviepy - Building video S:\\Academic\\Final Year Project\\crime-detection\\Subclips\\Burglary083_x264.mp4.\n",
      "MoviePy - Writing audio in Burglary083_x264TEMP_MPY_wvf_snd.mp3\n"
     ]
    },
    {
     "name": "stderr",
     "output_type": "stream",
     "text": [
      "                                                                      \r"
     ]
    },
    {
     "name": "stdout",
     "output_type": "stream",
     "text": [
      "MoviePy - Done.\n",
      "Moviepy - Writing video S:\\Academic\\Final Year Project\\crime-detection\\Subclips\\Burglary083_x264.mp4\n",
      "\n"
     ]
    },
    {
     "name": "stderr",
     "output_type": "stream",
     "text": [
      "                                                                  \r"
     ]
    },
    {
     "name": "stdout",
     "output_type": "stream",
     "text": [
      "Moviepy - Done !\n",
      "Moviepy - video ready S:\\Academic\\Final Year Project\\crime-detection\\Subclips\\Burglary083_x264.mp4\n",
      "Burglary083_x264.mp4 75 196\n",
      "Moviepy - Building video S:\\Academic\\Final Year Project\\crime-detection\\Subclips\\Burglary084_x264.mp4.\n",
      "MoviePy - Writing audio in Burglary084_x264TEMP_MPY_wvf_snd.mp3\n"
     ]
    },
    {
     "name": "stderr",
     "output_type": "stream",
     "text": [
      "                                                                      \r"
     ]
    },
    {
     "name": "stdout",
     "output_type": "stream",
     "text": [
      "MoviePy - Done.\n",
      "Moviepy - Writing video S:\\Academic\\Final Year Project\\crime-detection\\Subclips\\Burglary084_x264.mp4\n",
      "\n"
     ]
    },
    {
     "name": "stderr",
     "output_type": "stream",
     "text": [
      "                                                                  \r"
     ]
    },
    {
     "name": "stdout",
     "output_type": "stream",
     "text": [
      "Moviepy - Done !\n",
      "Moviepy - video ready S:\\Academic\\Final Year Project\\crime-detection\\Subclips\\Burglary084_x264.mp4\n",
      "Burglary084_x264.mp4 16 145\n",
      "Moviepy - Building video S:\\Academic\\Final Year Project\\crime-detection\\Subclips\\Burglary085_x264.mp4.\n",
      "MoviePy - Writing audio in Burglary085_x264TEMP_MPY_wvf_snd.mp3\n"
     ]
    },
    {
     "name": "stderr",
     "output_type": "stream",
     "text": [
      "                                                                      \r"
     ]
    },
    {
     "name": "stdout",
     "output_type": "stream",
     "text": [
      "MoviePy - Done.\n",
      "Moviepy - Writing video S:\\Academic\\Final Year Project\\crime-detection\\Subclips\\Burglary085_x264.mp4\n",
      "\n"
     ]
    },
    {
     "name": "stderr",
     "output_type": "stream",
     "text": [
      "                                                                  \r"
     ]
    },
    {
     "name": "stdout",
     "output_type": "stream",
     "text": [
      "Moviepy - Done !\n",
      "Moviepy - video ready S:\\Academic\\Final Year Project\\crime-detection\\Subclips\\Burglary085_x264.mp4\n",
      "Burglary085_x264.mp4 18 88\n",
      "Moviepy - Building video S:\\Academic\\Final Year Project\\crime-detection\\Subclips\\Burglary086_x264.mp4.\n",
      "MoviePy - Writing audio in Burglary086_x264TEMP_MPY_wvf_snd.mp3\n"
     ]
    },
    {
     "name": "stderr",
     "output_type": "stream",
     "text": [
      "                                                                      \r"
     ]
    },
    {
     "name": "stdout",
     "output_type": "stream",
     "text": [
      "MoviePy - Done.\n",
      "Moviepy - Writing video S:\\Academic\\Final Year Project\\crime-detection\\Subclips\\Burglary086_x264.mp4\n",
      "\n"
     ]
    },
    {
     "name": "stderr",
     "output_type": "stream",
     "text": [
      "                                                                  \r"
     ]
    },
    {
     "name": "stdout",
     "output_type": "stream",
     "text": [
      "Moviepy - Done !\n",
      "Moviepy - video ready S:\\Academic\\Final Year Project\\crime-detection\\Subclips\\Burglary086_x264.mp4\n",
      "Burglary086_x264.mp4 2 108\n",
      "Moviepy - Building video S:\\Academic\\Final Year Project\\crime-detection\\Subclips\\Burglary087_x264.mp4.\n",
      "MoviePy - Writing audio in Burglary087_x264TEMP_MPY_wvf_snd.mp3\n"
     ]
    },
    {
     "name": "stderr",
     "output_type": "stream",
     "text": [
      "                                                                      \r"
     ]
    },
    {
     "name": "stdout",
     "output_type": "stream",
     "text": [
      "MoviePy - Done.\n",
      "Moviepy - Writing video S:\\Academic\\Final Year Project\\crime-detection\\Subclips\\Burglary087_x264.mp4\n",
      "\n"
     ]
    },
    {
     "name": "stderr",
     "output_type": "stream",
     "text": [
      "                                                                  \r"
     ]
    },
    {
     "name": "stdout",
     "output_type": "stream",
     "text": [
      "Moviepy - Done !\n",
      "Moviepy - video ready S:\\Academic\\Final Year Project\\crime-detection\\Subclips\\Burglary087_x264.mp4\n",
      "Burglary087_x264.mp4 3 73\n",
      "Moviepy - Building video S:\\Academic\\Final Year Project\\crime-detection\\Subclips\\Burglary088_x264.mp4.\n",
      "MoviePy - Writing audio in Burglary088_x264TEMP_MPY_wvf_snd.mp3\n"
     ]
    },
    {
     "name": "stderr",
     "output_type": "stream",
     "text": [
      "                                                                      \r"
     ]
    },
    {
     "name": "stdout",
     "output_type": "stream",
     "text": [
      "MoviePy - Done.\n",
      "Moviepy - Writing video S:\\Academic\\Final Year Project\\crime-detection\\Subclips\\Burglary088_x264.mp4\n",
      "\n"
     ]
    },
    {
     "name": "stderr",
     "output_type": "stream",
     "text": [
      "                                                                  \r"
     ]
    },
    {
     "name": "stdout",
     "output_type": "stream",
     "text": [
      "Moviepy - Done !\n",
      "Moviepy - video ready S:\\Academic\\Final Year Project\\crime-detection\\Subclips\\Burglary088_x264.mp4\n",
      "Burglary088_x264.mp4 5 156\n",
      "Moviepy - Building video S:\\Academic\\Final Year Project\\crime-detection\\Subclips\\Burglary089_x264.mp4.\n",
      "MoviePy - Writing audio in Burglary089_x264TEMP_MPY_wvf_snd.mp3\n"
     ]
    },
    {
     "name": "stderr",
     "output_type": "stream",
     "text": [
      "                                                                      \r"
     ]
    },
    {
     "name": "stdout",
     "output_type": "stream",
     "text": [
      "MoviePy - Done.\n",
      "Moviepy - Writing video S:\\Academic\\Final Year Project\\crime-detection\\Subclips\\Burglary089_x264.mp4\n",
      "\n"
     ]
    },
    {
     "name": "stderr",
     "output_type": "stream",
     "text": [
      "                                                                  \r"
     ]
    },
    {
     "name": "stdout",
     "output_type": "stream",
     "text": [
      "Moviepy - Done !\n",
      "Moviepy - video ready S:\\Academic\\Final Year Project\\crime-detection\\Subclips\\Burglary089_x264.mp4\n",
      "Burglary089_x264.mp4 5 105\n",
      "Moviepy - Building video S:\\Academic\\Final Year Project\\crime-detection\\Subclips\\Burglary090_x264.mp4.\n",
      "MoviePy - Writing audio in Burglary090_x264TEMP_MPY_wvf_snd.mp3\n"
     ]
    },
    {
     "name": "stderr",
     "output_type": "stream",
     "text": [
      "                                                                      \r"
     ]
    },
    {
     "name": "stdout",
     "output_type": "stream",
     "text": [
      "MoviePy - Done.\n",
      "Moviepy - Writing video S:\\Academic\\Final Year Project\\crime-detection\\Subclips\\Burglary090_x264.mp4\n",
      "\n"
     ]
    },
    {
     "name": "stderr",
     "output_type": "stream",
     "text": [
      "                                                                  \r"
     ]
    },
    {
     "name": "stdout",
     "output_type": "stream",
     "text": [
      "Moviepy - Done !\n",
      "Moviepy - video ready S:\\Academic\\Final Year Project\\crime-detection\\Subclips\\Burglary090_x264.mp4\n",
      "Burglary090_x264.mp4 10 86\n",
      "Moviepy - Building video S:\\Academic\\Final Year Project\\crime-detection\\Subclips\\Burglary091_x264.mp4.\n",
      "MoviePy - Writing audio in Burglary091_x264TEMP_MPY_wvf_snd.mp3\n"
     ]
    },
    {
     "name": "stderr",
     "output_type": "stream",
     "text": [
      "                                                                      \r"
     ]
    },
    {
     "name": "stdout",
     "output_type": "stream",
     "text": [
      "MoviePy - Done.\n",
      "Moviepy - Writing video S:\\Academic\\Final Year Project\\crime-detection\\Subclips\\Burglary091_x264.mp4\n",
      "\n"
     ]
    },
    {
     "name": "stderr",
     "output_type": "stream",
     "text": [
      "                                                                  \r"
     ]
    },
    {
     "name": "stdout",
     "output_type": "stream",
     "text": [
      "Moviepy - Done !\n",
      "Moviepy - video ready S:\\Academic\\Final Year Project\\crime-detection\\Subclips\\Burglary091_x264.mp4\n",
      "Burglary091_x264.mp4 15 107\n",
      "Moviepy - Building video S:\\Academic\\Final Year Project\\crime-detection\\Subclips\\Burglary092_x264.mp4.\n",
      "MoviePy - Writing audio in Burglary092_x264TEMP_MPY_wvf_snd.mp3\n"
     ]
    },
    {
     "name": "stderr",
     "output_type": "stream",
     "text": [
      "                                                                    \r"
     ]
    },
    {
     "name": "stdout",
     "output_type": "stream",
     "text": [
      "MoviePy - Done.\n",
      "Moviepy - Writing video S:\\Academic\\Final Year Project\\crime-detection\\Subclips\\Burglary092_x264.mp4\n",
      "\n"
     ]
    },
    {
     "name": "stderr",
     "output_type": "stream",
     "text": [
      "                                                               \r"
     ]
    },
    {
     "name": "stdout",
     "output_type": "stream",
     "text": [
      "Moviepy - Done !\n",
      "Moviepy - video ready S:\\Academic\\Final Year Project\\crime-detection\\Subclips\\Burglary092_x264.mp4\n",
      "Burglary092_x264.mp4 12 20\n",
      "Moviepy - Building video S:\\Academic\\Final Year Project\\crime-detection\\Subclips\\Burglary093_x264.mp4.\n",
      "MoviePy - Writing audio in Burglary093_x264TEMP_MPY_wvf_snd.mp3\n"
     ]
    },
    {
     "name": "stderr",
     "output_type": "stream",
     "text": [
      "                                                       \r"
     ]
    },
    {
     "name": "stdout",
     "output_type": "stream",
     "text": [
      "MoviePy - Done.\n",
      "Moviepy - Writing video S:\\Academic\\Final Year Project\\crime-detection\\Subclips\\Burglary093_x264.mp4\n",
      "\n"
     ]
    },
    {
     "name": "stderr",
     "output_type": "stream",
     "text": [
      "                                                             \r"
     ]
    },
    {
     "name": "stdout",
     "output_type": "stream",
     "text": [
      "Moviepy - Done !\n",
      "Moviepy - video ready S:\\Academic\\Final Year Project\\crime-detection\\Subclips\\Burglary093_x264.mp4\n",
      "Burglary093_x264.mp4 19 22\n",
      "Moviepy - Building video S:\\Academic\\Final Year Project\\crime-detection\\Subclips\\Burglary094_x264.mp4.\n",
      "MoviePy - Writing audio in Burglary094_x264TEMP_MPY_wvf_snd.mp3\n"
     ]
    },
    {
     "name": "stderr",
     "output_type": "stream",
     "text": [
      "                                                                    \r"
     ]
    },
    {
     "name": "stdout",
     "output_type": "stream",
     "text": [
      "MoviePy - Done.\n",
      "Moviepy - Writing video S:\\Academic\\Final Year Project\\crime-detection\\Subclips\\Burglary094_x264.mp4\n",
      "\n"
     ]
    },
    {
     "name": "stderr",
     "output_type": "stream",
     "text": [
      "                                                                \r"
     ]
    },
    {
     "name": "stdout",
     "output_type": "stream",
     "text": [
      "Moviepy - Done !\n",
      "Moviepy - video ready S:\\Academic\\Final Year Project\\crime-detection\\Subclips\\Burglary094_x264.mp4\n",
      "Burglary094_x264.mp4 14 33\n",
      "Moviepy - Building video S:\\Academic\\Final Year Project\\crime-detection\\Subclips\\Burglary095_x264.mp4.\n",
      "MoviePy - Writing audio in Burglary095_x264TEMP_MPY_wvf_snd.mp3\n"
     ]
    },
    {
     "name": "stderr",
     "output_type": "stream",
     "text": [
      "                                                                        \r"
     ]
    },
    {
     "name": "stdout",
     "output_type": "stream",
     "text": [
      "MoviePy - Done.\n",
      "Moviepy - Writing video S:\\Academic\\Final Year Project\\crime-detection\\Subclips\\Burglary095_x264.mp4\n",
      "\n"
     ]
    },
    {
     "name": "stderr",
     "output_type": "stream",
     "text": [
      "                                                                    \r"
     ]
    },
    {
     "name": "stdout",
     "output_type": "stream",
     "text": [
      "Moviepy - Done !\n",
      "Moviepy - video ready S:\\Academic\\Final Year Project\\crime-detection\\Subclips\\Burglary095_x264.mp4\n",
      "Burglary095_x264.mp4 93 851\n",
      "Moviepy - Building video S:\\Academic\\Final Year Project\\crime-detection\\Subclips\\Burglary096_x264.mp4.\n",
      "MoviePy - Writing audio in Burglary096_x264TEMP_MPY_wvf_snd.mp3\n"
     ]
    },
    {
     "name": "stderr",
     "output_type": "stream",
     "text": [
      "                                                                      \r"
     ]
    },
    {
     "name": "stdout",
     "output_type": "stream",
     "text": [
      "MoviePy - Done.\n",
      "Moviepy - Writing video S:\\Academic\\Final Year Project\\crime-detection\\Subclips\\Burglary096_x264.mp4\n",
      "\n"
     ]
    },
    {
     "name": "stderr",
     "output_type": "stream",
     "text": [
      "                                                                  \r"
     ]
    },
    {
     "name": "stdout",
     "output_type": "stream",
     "text": [
      "Moviepy - Done !\n",
      "Moviepy - video ready S:\\Academic\\Final Year Project\\crime-detection\\Subclips\\Burglary096_x264.mp4\n",
      "Burglary096_x264.mp4 26 208\n",
      "Moviepy - Building video S:\\Academic\\Final Year Project\\crime-detection\\Subclips\\Burglary097_x264.mp4.\n",
      "MoviePy - Writing audio in Burglary097_x264TEMP_MPY_wvf_snd.mp3\n"
     ]
    },
    {
     "name": "stderr",
     "output_type": "stream",
     "text": [
      "                                                                    \r"
     ]
    },
    {
     "name": "stdout",
     "output_type": "stream",
     "text": [
      "MoviePy - Done.\n",
      "Moviepy - Writing video S:\\Academic\\Final Year Project\\crime-detection\\Subclips\\Burglary097_x264.mp4\n",
      "\n"
     ]
    },
    {
     "name": "stderr",
     "output_type": "stream",
     "text": [
      "                                                               \r"
     ]
    },
    {
     "name": "stdout",
     "output_type": "stream",
     "text": [
      "Moviepy - Done !\n",
      "Moviepy - video ready S:\\Academic\\Final Year Project\\crime-detection\\Subclips\\Burglary097_x264.mp4\n",
      "Burglary097_x264.mp4 0 10\n",
      "Moviepy - Building video S:\\Academic\\Final Year Project\\crime-detection\\Subclips\\Burglary098_x264.mp4.\n",
      "MoviePy - Writing audio in Burglary098_x264TEMP_MPY_wvf_snd.mp3\n"
     ]
    },
    {
     "name": "stderr",
     "output_type": "stream",
     "text": [
      "                                                                    \r"
     ]
    },
    {
     "name": "stdout",
     "output_type": "stream",
     "text": [
      "MoviePy - Done.\n",
      "Moviepy - Writing video S:\\Academic\\Final Year Project\\crime-detection\\Subclips\\Burglary098_x264.mp4\n",
      "\n"
     ]
    },
    {
     "name": "stderr",
     "output_type": "stream",
     "text": [
      "                                                                \r"
     ]
    },
    {
     "name": "stdout",
     "output_type": "stream",
     "text": [
      "Moviepy - Done !\n",
      "Moviepy - video ready S:\\Academic\\Final Year Project\\crime-detection\\Subclips\\Burglary098_x264.mp4\n",
      "Burglary098_x264.mp4 0 30\n",
      "Moviepy - Building video S:\\Academic\\Final Year Project\\crime-detection\\Subclips\\Burglary099_x264.mp4.\n",
      "MoviePy - Writing audio in Burglary099_x264TEMP_MPY_wvf_snd.mp3\n"
     ]
    },
    {
     "name": "stderr",
     "output_type": "stream",
     "text": [
      "                                                                    \r"
     ]
    },
    {
     "name": "stdout",
     "output_type": "stream",
     "text": [
      "MoviePy - Done.\n",
      "Moviepy - Writing video S:\\Academic\\Final Year Project\\crime-detection\\Subclips\\Burglary099_x264.mp4\n",
      "\n"
     ]
    },
    {
     "name": "stderr",
     "output_type": "stream",
     "text": [
      "                                                                  \r"
     ]
    },
    {
     "name": "stdout",
     "output_type": "stream",
     "text": [
      "Moviepy - Done !\n",
      "Moviepy - video ready S:\\Academic\\Final Year Project\\crime-detection\\Subclips\\Burglary099_x264.mp4\n",
      "Burglary099_x264.mp4 8 44\n",
      "Moviepy - Building video S:\\Academic\\Final Year Project\\crime-detection\\Subclips\\Burglary100_x264.mp4.\n",
      "MoviePy - Writing audio in Burglary100_x264TEMP_MPY_wvf_snd.mp3\n"
     ]
    },
    {
     "name": "stderr",
     "output_type": "stream",
     "text": [
      "                                                                      \r"
     ]
    },
    {
     "name": "stdout",
     "output_type": "stream",
     "text": [
      "MoviePy - Done.\n",
      "Moviepy - Writing video S:\\Academic\\Final Year Project\\crime-detection\\Subclips\\Burglary100_x264.mp4\n",
      "\n"
     ]
    },
    {
     "name": "stderr",
     "output_type": "stream",
     "text": [
      "                                                                  \r"
     ]
    },
    {
     "name": "stdout",
     "output_type": "stream",
     "text": [
      "Moviepy - Done !\n",
      "Moviepy - video ready S:\\Academic\\Final Year Project\\crime-detection\\Subclips\\Burglary100_x264.mp4\n",
      "Burglary100_x264.mp4 15 242\n",
      "Moviepy - Building video S:\\Academic\\Final Year Project\\crime-detection\\Subclips\\Shoplifting001_x264.mp4.\n",
      "MoviePy - Writing audio in Shoplifting001_x264TEMP_MPY_wvf_snd.mp3\n"
     ]
    },
    {
     "name": "stderr",
     "output_type": "stream",
     "text": [
      "                                                                  \r"
     ]
    },
    {
     "name": "stdout",
     "output_type": "stream",
     "text": [
      "MoviePy - Done.\n",
      "Moviepy - Writing video S:\\Academic\\Final Year Project\\crime-detection\\Subclips\\Shoplifting001_x264.mp4\n",
      "\n"
     ]
    },
    {
     "name": "stderr",
     "output_type": "stream",
     "text": [
      "                                                               \r"
     ]
    },
    {
     "name": "stdout",
     "output_type": "stream",
     "text": [
      "Moviepy - Done !\n",
      "Moviepy - video ready S:\\Academic\\Final Year Project\\crime-detection\\Subclips\\Shoplifting001_x264.mp4\n",
      "Shoplifting001_x264.mp4 52 67\n",
      "Moviepy - Building video S:\\Academic\\Final Year Project\\crime-detection\\Subclips\\Shoplifting003_x264.mp4.\n",
      "MoviePy - Writing audio in Shoplifting003_x264TEMP_MPY_wvf_snd.mp3\n"
     ]
    },
    {
     "name": "stderr",
     "output_type": "stream",
     "text": [
      "                                                                  \r"
     ]
    },
    {
     "name": "stdout",
     "output_type": "stream",
     "text": [
      "MoviePy - Done.\n",
      "Moviepy - Writing video S:\\Academic\\Final Year Project\\crime-detection\\Subclips\\Shoplifting003_x264.mp4\n",
      "\n"
     ]
    },
    {
     "name": "stderr",
     "output_type": "stream",
     "text": [
      "                                                                \r"
     ]
    },
    {
     "name": "stdout",
     "output_type": "stream",
     "text": [
      "Moviepy - Done !\n",
      "Moviepy - video ready S:\\Academic\\Final Year Project\\crime-detection\\Subclips\\Shoplifting003_x264.mp4\n",
      "Shoplifting003_x264.mp4 240 250\n",
      "Moviepy - Building video S:\\Academic\\Final Year Project\\crime-detection\\Subclips\\Shoplifting004_x264.mp4.\n",
      "MoviePy - Writing audio in Shoplifting004_x264TEMP_MPY_wvf_snd.mp3\n"
     ]
    },
    {
     "name": "stderr",
     "output_type": "stream",
     "text": [
      "                                                                  \r"
     ]
    },
    {
     "name": "stdout",
     "output_type": "stream",
     "text": [
      "MoviePy - Done.\n",
      "Moviepy - Writing video S:\\Academic\\Final Year Project\\crime-detection\\Subclips\\Shoplifting004_x264.mp4\n",
      "\n"
     ]
    },
    {
     "name": "stderr",
     "output_type": "stream",
     "text": [
      "                                                               \r"
     ]
    },
    {
     "name": "stdout",
     "output_type": "stream",
     "text": [
      "Moviepy - Done !\n",
      "Moviepy - video ready S:\\Academic\\Final Year Project\\crime-detection\\Subclips\\Shoplifting004_x264.mp4\n",
      "Shoplifting004_x264.mp4 150 161\n",
      "Moviepy - Building video S:\\Academic\\Final Year Project\\crime-detection\\Subclips\\Shoplifting005_x264.mp4.\n",
      "Moviepy - Writing video S:\\Academic\\Final Year Project\\crime-detection\\Subclips\\Shoplifting005_x264.mp4\n",
      "\n"
     ]
    },
    {
     "name": "stderr",
     "output_type": "stream",
     "text": [
      "                                                                \r"
     ]
    },
    {
     "name": "stdout",
     "output_type": "stream",
     "text": [
      "Moviepy - Done !\n",
      "Moviepy - video ready S:\\Academic\\Final Year Project\\crime-detection\\Subclips\\Shoplifting005_x264.mp4\n",
      "Shoplifting005_x264.mp4 20 40\n",
      "Moviepy - Building video S:\\Academic\\Final Year Project\\crime-detection\\Subclips\\Shoplifting006_x264.mp4.\n",
      "Moviepy - Writing video S:\\Academic\\Final Year Project\\crime-detection\\Subclips\\Shoplifting006_x264.mp4\n",
      "\n"
     ]
    },
    {
     "name": "stderr",
     "output_type": "stream",
     "text": [
      "                                                               \r"
     ]
    },
    {
     "name": "stdout",
     "output_type": "stream",
     "text": [
      "Moviepy - Done !\n",
      "Moviepy - video ready S:\\Academic\\Final Year Project\\crime-detection\\Subclips\\Shoplifting006_x264.mp4\n",
      "Shoplifting006_x264.mp4 55 60\n",
      "Moviepy - Building video S:\\Academic\\Final Year Project\\crime-detection\\Subclips\\Shoplifting007_x264.mp4.\n",
      "Moviepy - Writing video S:\\Academic\\Final Year Project\\crime-detection\\Subclips\\Shoplifting007_x264.mp4\n",
      "\n"
     ]
    },
    {
     "name": "stderr",
     "output_type": "stream",
     "text": [
      "                                                                \r"
     ]
    },
    {
     "name": "stdout",
     "output_type": "stream",
     "text": [
      "Moviepy - Done !\n",
      "Moviepy - video ready S:\\Academic\\Final Year Project\\crime-detection\\Subclips\\Shoplifting007_x264.mp4\n",
      "Shoplifting007_x264.mp4 18 25\n",
      "Moviepy - Building video S:\\Academic\\Final Year Project\\crime-detection\\Subclips\\Shoplifting008_x264.mp4.\n",
      "Moviepy - Writing video S:\\Academic\\Final Year Project\\crime-detection\\Subclips\\Shoplifting008_x264.mp4\n",
      "\n"
     ]
    },
    {
     "name": "stderr",
     "output_type": "stream",
     "text": [
      "                                                               \r"
     ]
    },
    {
     "name": "stdout",
     "output_type": "stream",
     "text": [
      "Moviepy - Done !\n",
      "Moviepy - video ready S:\\Academic\\Final Year Project\\crime-detection\\Subclips\\Shoplifting008_x264.mp4\n",
      "Shoplifting008_x264.mp4 170 182\n",
      "Moviepy - Building video S:\\Academic\\Final Year Project\\crime-detection\\Subclips\\Shoplifting009_x264.mp4.\n",
      "Moviepy - Writing video S:\\Academic\\Final Year Project\\crime-detection\\Subclips\\Shoplifting009_x264.mp4\n",
      "\n"
     ]
    },
    {
     "name": "stderr",
     "output_type": "stream",
     "text": [
      "                                                               \r"
     ]
    },
    {
     "name": "stdout",
     "output_type": "stream",
     "text": [
      "Moviepy - Done !\n",
      "Moviepy - video ready S:\\Academic\\Final Year Project\\crime-detection\\Subclips\\Shoplifting009_x264.mp4\n",
      "Shoplifting009_x264.mp4 147 169\n",
      "Moviepy - Building video S:\\Academic\\Final Year Project\\crime-detection\\Subclips\\Shoplifting010_x264.mp4.\n",
      "Moviepy - Writing video S:\\Academic\\Final Year Project\\crime-detection\\Subclips\\Shoplifting010_x264.mp4\n",
      "\n"
     ]
    },
    {
     "name": "stderr",
     "output_type": "stream",
     "text": [
      "                                                               \r"
     ]
    },
    {
     "name": "stdout",
     "output_type": "stream",
     "text": [
      "Moviepy - Done !\n",
      "Moviepy - video ready S:\\Academic\\Final Year Project\\crime-detection\\Subclips\\Shoplifting010_x264.mp4\n",
      "Shoplifting010_x264.mp4 23 30\n",
      "Moviepy - Building video S:\\Academic\\Final Year Project\\crime-detection\\Subclips\\Shoplifting012_x264.mp4.\n",
      "Moviepy - Writing video S:\\Academic\\Final Year Project\\crime-detection\\Subclips\\Shoplifting012_x264.mp4\n",
      "\n"
     ]
    },
    {
     "name": "stderr",
     "output_type": "stream",
     "text": [
      "                                                               \r"
     ]
    },
    {
     "name": "stdout",
     "output_type": "stream",
     "text": [
      "Moviepy - Done !\n",
      "Moviepy - video ready S:\\Academic\\Final Year Project\\crime-detection\\Subclips\\Shoplifting012_x264.mp4\n",
      "Shoplifting012_x264.mp4 265 270\n",
      "Moviepy - Building video S:\\Academic\\Final Year Project\\crime-detection\\Subclips\\Shoplifting013_x264.mp4.\n",
      "Moviepy - Writing video S:\\Academic\\Final Year Project\\crime-detection\\Subclips\\Shoplifting013_x264.mp4\n",
      "\n"
     ]
    },
    {
     "name": "stderr",
     "output_type": "stream",
     "text": [
      "                                                                  \r"
     ]
    },
    {
     "name": "stdout",
     "output_type": "stream",
     "text": [
      "Moviepy - Done !\n",
      "Moviepy - video ready S:\\Academic\\Final Year Project\\crime-detection\\Subclips\\Shoplifting013_x264.mp4\n",
      "Shoplifting013_x264.mp4 4 65\n",
      "Moviepy - Building video S:\\Academic\\Final Year Project\\crime-detection\\Subclips\\Shoplifting014_x264.mp4.\n",
      "Moviepy - Writing video S:\\Academic\\Final Year Project\\crime-detection\\Subclips\\Shoplifting014_x264.mp4\n",
      "\n"
     ]
    },
    {
     "name": "stderr",
     "output_type": "stream",
     "text": [
      "                                                               \r"
     ]
    },
    {
     "name": "stdout",
     "output_type": "stream",
     "text": [
      "Moviepy - Done !\n",
      "Moviepy - video ready S:\\Academic\\Final Year Project\\crime-detection\\Subclips\\Shoplifting014_x264.mp4\n",
      "Shoplifting014_x264.mp4 366 386\n",
      "Moviepy - Building video S:\\Academic\\Final Year Project\\crime-detection\\Subclips\\Shoplifting015_x264.mp4.\n",
      "Moviepy - Writing video S:\\Academic\\Final Year Project\\crime-detection\\Subclips\\Shoplifting015_x264.mp4\n",
      "\n"
     ]
    },
    {
     "name": "stderr",
     "output_type": "stream",
     "text": [
      "                                                               \r"
     ]
    },
    {
     "name": "stdout",
     "output_type": "stream",
     "text": [
      "Moviepy - Done !\n",
      "Moviepy - video ready S:\\Academic\\Final Year Project\\crime-detection\\Subclips\\Shoplifting015_x264.mp4\n",
      "Shoplifting015_x264.mp4 66 72\n",
      "Moviepy - Building video S:\\Academic\\Final Year Project\\crime-detection\\Subclips\\Shoplifting016_x264.mp4.\n",
      "MoviePy - Writing audio in Shoplifting016_x264TEMP_MPY_wvf_snd.mp3\n"
     ]
    },
    {
     "name": "stderr",
     "output_type": "stream",
     "text": [
      "                                                                    \r"
     ]
    },
    {
     "name": "stdout",
     "output_type": "stream",
     "text": [
      "MoviePy - Done.\n",
      "Moviepy - Writing video S:\\Academic\\Final Year Project\\crime-detection\\Subclips\\Shoplifting016_x264.mp4\n",
      "\n"
     ]
    },
    {
     "name": "stderr",
     "output_type": "stream",
     "text": [
      "                                                               \r"
     ]
    },
    {
     "name": "stdout",
     "output_type": "stream",
     "text": [
      "Moviepy - Done !\n",
      "Moviepy - video ready S:\\Academic\\Final Year Project\\crime-detection\\Subclips\\Shoplifting016_x264.mp4\n",
      "Shoplifting016_x264.mp4 13 25\n",
      "Moviepy - Building video S:\\Academic\\Final Year Project\\crime-detection\\Subclips\\Shoplifting017_x264.mp4.\n",
      "MoviePy - Writing audio in Shoplifting017_x264TEMP_MPY_wvf_snd.mp3\n"
     ]
    },
    {
     "name": "stderr",
     "output_type": "stream",
     "text": [
      "                                                       \r"
     ]
    },
    {
     "name": "stdout",
     "output_type": "stream",
     "text": [
      "MoviePy - Done.\n",
      "Moviepy - Writing video S:\\Academic\\Final Year Project\\crime-detection\\Subclips\\Shoplifting017_x264.mp4\n",
      "\n"
     ]
    },
    {
     "name": "stderr",
     "output_type": "stream",
     "text": [
      "                                                             \r"
     ]
    },
    {
     "name": "stdout",
     "output_type": "stream",
     "text": [
      "Moviepy - Done !\n",
      "Moviepy - video ready S:\\Academic\\Final Year Project\\crime-detection\\Subclips\\Shoplifting017_x264.mp4\n",
      "Shoplifting017_x264.mp4 11 14\n",
      "Moviepy - Building video S:\\Academic\\Final Year Project\\crime-detection\\Subclips\\Shoplifting018_x264.mp4.\n",
      "MoviePy - Writing audio in Shoplifting018_x264TEMP_MPY_wvf_snd.mp3\n"
     ]
    },
    {
     "name": "stderr",
     "output_type": "stream",
     "text": [
      "                                                        \r"
     ]
    },
    {
     "name": "stdout",
     "output_type": "stream",
     "text": [
      "MoviePy - Done.\n",
      "Moviepy - Writing video S:\\Academic\\Final Year Project\\crime-detection\\Subclips\\Shoplifting018_x264.mp4\n",
      "\n"
     ]
    },
    {
     "name": "stderr",
     "output_type": "stream",
     "text": [
      "                                                              \r"
     ]
    },
    {
     "name": "stdout",
     "output_type": "stream",
     "text": [
      "Moviepy - Done !\n",
      "Moviepy - video ready S:\\Academic\\Final Year Project\\crime-detection\\Subclips\\Shoplifting018_x264.mp4\n",
      "Shoplifting018_x264.mp4 7 13\n",
      "Moviepy - Building video S:\\Academic\\Final Year Project\\crime-detection\\Subclips\\Shoplifting019_x264.mp4.\n",
      "MoviePy - Writing audio in Shoplifting019_x264TEMP_MPY_wvf_snd.mp3\n"
     ]
    },
    {
     "name": "stderr",
     "output_type": "stream",
     "text": [
      "                                                                    \r"
     ]
    },
    {
     "name": "stdout",
     "output_type": "stream",
     "text": [
      "MoviePy - Done.\n",
      "Moviepy - Writing video S:\\Academic\\Final Year Project\\crime-detection\\Subclips\\Shoplifting019_x264.mp4\n",
      "\n"
     ]
    },
    {
     "name": "stderr",
     "output_type": "stream",
     "text": [
      "                                                               \r"
     ]
    },
    {
     "name": "stdout",
     "output_type": "stream",
     "text": [
      "Moviepy - Done !\n",
      "Moviepy - video ready S:\\Academic\\Final Year Project\\crime-detection\\Subclips\\Shoplifting019_x264.mp4\n",
      "Shoplifting019_x264.mp4 8 16\n",
      "Moviepy - Building video S:\\Academic\\Final Year Project\\crime-detection\\Subclips\\Shoplifting020_x264.mp4.\n",
      "MoviePy - Writing audio in Shoplifting020_x264TEMP_MPY_wvf_snd.mp3\n"
     ]
    },
    {
     "name": "stderr",
     "output_type": "stream",
     "text": [
      "                                                                  \r"
     ]
    },
    {
     "name": "stdout",
     "output_type": "stream",
     "text": [
      "MoviePy - Done.\n",
      "Moviepy - Writing video S:\\Academic\\Final Year Project\\crime-detection\\Subclips\\Shoplifting020_x264.mp4\n",
      "\n"
     ]
    },
    {
     "name": "stderr",
     "output_type": "stream",
     "text": [
      "                                                              \r"
     ]
    },
    {
     "name": "stdout",
     "output_type": "stream",
     "text": [
      "Moviepy - Done !\n",
      "Moviepy - video ready S:\\Academic\\Final Year Project\\crime-detection\\Subclips\\Shoplifting020_x264.mp4\n",
      "Shoplifting020_x264.mp4 77 82\n",
      "Moviepy - Building video S:\\Academic\\Final Year Project\\crime-detection\\Subclips\\Shoplifting021_x264.mp4.\n",
      "MoviePy - Writing audio in Shoplifting021_x264TEMP_MPY_wvf_snd.mp3\n"
     ]
    },
    {
     "name": "stderr",
     "output_type": "stream",
     "text": [
      "                                                                  \r"
     ]
    },
    {
     "name": "stdout",
     "output_type": "stream",
     "text": [
      "MoviePy - Done.\n",
      "Moviepy - Writing video S:\\Academic\\Final Year Project\\crime-detection\\Subclips\\Shoplifting021_x264.mp4\n",
      "\n"
     ]
    },
    {
     "name": "stderr",
     "output_type": "stream",
     "text": [
      "                                                               \r"
     ]
    },
    {
     "name": "stdout",
     "output_type": "stream",
     "text": [
      "Moviepy - Done !\n",
      "Moviepy - video ready S:\\Academic\\Final Year Project\\crime-detection\\Subclips\\Shoplifting021_x264.mp4\n",
      "Shoplifting021_x264.mp4 70 79\n",
      "Moviepy - Building video S:\\Academic\\Final Year Project\\crime-detection\\Subclips\\Shoplifting022_x264.mp4.\n",
      "MoviePy - Writing audio in Shoplifting022_x264TEMP_MPY_wvf_snd.mp3\n"
     ]
    },
    {
     "name": "stderr",
     "output_type": "stream",
     "text": [
      "                                                                      \r"
     ]
    },
    {
     "name": "stdout",
     "output_type": "stream",
     "text": [
      "MoviePy - Done.\n",
      "Moviepy - Writing video S:\\Academic\\Final Year Project\\crime-detection\\Subclips\\Shoplifting022_x264.mp4\n",
      "\n"
     ]
    },
    {
     "name": "stderr",
     "output_type": "stream",
     "text": [
      "                                                                  \r"
     ]
    },
    {
     "name": "stdout",
     "output_type": "stream",
     "text": [
      "Moviepy - Done !\n",
      "Moviepy - video ready S:\\Academic\\Final Year Project\\crime-detection\\Subclips\\Shoplifting022_x264.mp4\n",
      "Shoplifting022_x264.mp4 9 67\n",
      "Moviepy - Building video S:\\Academic\\Final Year Project\\crime-detection\\Subclips\\Shoplifting024_x264.mp4.\n",
      "MoviePy - Writing audio in Shoplifting024_x264TEMP_MPY_wvf_snd.mp3\n"
     ]
    },
    {
     "name": "stderr",
     "output_type": "stream",
     "text": [
      "                                                                  \r"
     ]
    },
    {
     "name": "stdout",
     "output_type": "stream",
     "text": [
      "MoviePy - Done.\n",
      "Moviepy - Writing video S:\\Academic\\Final Year Project\\crime-detection\\Subclips\\Shoplifting024_x264.mp4\n",
      "\n"
     ]
    },
    {
     "name": "stderr",
     "output_type": "stream",
     "text": [
      "                                                                \r"
     ]
    },
    {
     "name": "stdout",
     "output_type": "stream",
     "text": [
      "Moviepy - Done !\n",
      "Moviepy - video ready S:\\Academic\\Final Year Project\\crime-detection\\Subclips\\Shoplifting024_x264.mp4\n",
      "Shoplifting024_x264.mp4 27 38\n",
      "Moviepy - Building video S:\\Academic\\Final Year Project\\crime-detection\\Subclips\\Shoplifting025_x264.mp4.\n",
      "MoviePy - Writing audio in Shoplifting025_x264TEMP_MPY_wvf_snd.mp3\n"
     ]
    },
    {
     "name": "stderr",
     "output_type": "stream",
     "text": [
      "                                                                    \r"
     ]
    },
    {
     "name": "stdout",
     "output_type": "stream",
     "text": [
      "MoviePy - Done.\n",
      "Moviepy - Writing video S:\\Academic\\Final Year Project\\crime-detection\\Subclips\\Shoplifting025_x264.mp4\n",
      "\n"
     ]
    },
    {
     "name": "stderr",
     "output_type": "stream",
     "text": [
      "                                                                 \r"
     ]
    },
    {
     "name": "stdout",
     "output_type": "stream",
     "text": [
      "Moviepy - Done !\n",
      "Moviepy - video ready S:\\Academic\\Final Year Project\\crime-detection\\Subclips\\Shoplifting025_x264.mp4\n",
      "Shoplifting025_x264.mp4 13 58\n",
      "Moviepy - Building video S:\\Academic\\Final Year Project\\crime-detection\\Subclips\\Shoplifting026_x264.mp4.\n",
      "MoviePy - Writing audio in Shoplifting026_x264TEMP_MPY_wvf_snd.mp3\n"
     ]
    },
    {
     "name": "stderr",
     "output_type": "stream",
     "text": [
      "                                                                    \r"
     ]
    },
    {
     "name": "stdout",
     "output_type": "stream",
     "text": [
      "MoviePy - Done.\n",
      "Moviepy - Writing video S:\\Academic\\Final Year Project\\crime-detection\\Subclips\\Shoplifting026_x264.mp4\n",
      "\n"
     ]
    },
    {
     "name": "stderr",
     "output_type": "stream",
     "text": [
      "                                                                  \r"
     ]
    },
    {
     "name": "stdout",
     "output_type": "stream",
     "text": [
      "Moviepy - Done !\n",
      "Moviepy - video ready S:\\Academic\\Final Year Project\\crime-detection\\Subclips\\Shoplifting026_x264.mp4\n",
      "Shoplifting026_x264.mp4 4 44\n",
      "Moviepy - Building video S:\\Academic\\Final Year Project\\crime-detection\\Subclips\\Shoplifting027_x264.mp4.\n",
      "MoviePy - Writing audio in Shoplifting027_x264TEMP_MPY_wvf_snd.mp3\n"
     ]
    },
    {
     "name": "stderr",
     "output_type": "stream",
     "text": [
      "                                                                  \r"
     ]
    },
    {
     "name": "stdout",
     "output_type": "stream",
     "text": [
      "MoviePy - Done.\n",
      "Moviepy - Writing video S:\\Academic\\Final Year Project\\crime-detection\\Subclips\\Shoplifting027_x264.mp4\n",
      "\n"
     ]
    },
    {
     "name": "stderr",
     "output_type": "stream",
     "text": [
      "                                                               \r"
     ]
    },
    {
     "name": "stdout",
     "output_type": "stream",
     "text": [
      "Moviepy - Done !\n",
      "Moviepy - video ready S:\\Academic\\Final Year Project\\crime-detection\\Subclips\\Shoplifting027_x264.mp4\n",
      "Shoplifting027_x264.mp4 35 40\n",
      "Moviepy - Building video S:\\Academic\\Final Year Project\\crime-detection\\Subclips\\Shoplifting028_x264.mp4.\n",
      "MoviePy - Writing audio in Shoplifting028_x264TEMP_MPY_wvf_snd.mp3\n"
     ]
    },
    {
     "name": "stderr",
     "output_type": "stream",
     "text": [
      "                                                                    \r"
     ]
    },
    {
     "name": "stdout",
     "output_type": "stream",
     "text": [
      "MoviePy - Done.\n",
      "Moviepy - Writing video S:\\Academic\\Final Year Project\\crime-detection\\Subclips\\Shoplifting028_x264.mp4\n",
      "\n"
     ]
    },
    {
     "name": "stderr",
     "output_type": "stream",
     "text": [
      "                                                                \r"
     ]
    },
    {
     "name": "stdout",
     "output_type": "stream",
     "text": [
      "Moviepy - Done !\n",
      "Moviepy - video ready S:\\Academic\\Final Year Project\\crime-detection\\Subclips\\Shoplifting028_x264.mp4\n",
      "Shoplifting028_x264.mp4 18 35\n",
      "Moviepy - Building video S:\\Academic\\Final Year Project\\crime-detection\\Subclips\\Shoplifting029_x264.mp4.\n",
      "MoviePy - Writing audio in Shoplifting029_x264TEMP_MPY_wvf_snd.mp3\n"
     ]
    },
    {
     "name": "stderr",
     "output_type": "stream",
     "text": [
      "                                                                   \r"
     ]
    },
    {
     "name": "stdout",
     "output_type": "stream",
     "text": [
      "MoviePy - Done.\n",
      "Moviepy - Writing video S:\\Academic\\Final Year Project\\crime-detection\\Subclips\\Shoplifting029_x264.mp4\n",
      "\n"
     ]
    },
    {
     "name": "stderr",
     "output_type": "stream",
     "text": [
      "                                                               \r"
     ]
    },
    {
     "name": "stdout",
     "output_type": "stream",
     "text": [
      "Moviepy - Done !\n",
      "Moviepy - video ready S:\\Academic\\Final Year Project\\crime-detection\\Subclips\\Shoplifting029_x264.mp4\n",
      "Shoplifting029_x264.mp4 35 48\n",
      "Moviepy - Building video S:\\Academic\\Final Year Project\\crime-detection\\Subclips\\Shoplifting030_x264.mp4.\n",
      "MoviePy - Writing audio in Shoplifting030_x264TEMP_MPY_wvf_snd.mp3\n"
     ]
    },
    {
     "name": "stderr",
     "output_type": "stream",
     "text": [
      "                                                                      \r"
     ]
    },
    {
     "name": "stdout",
     "output_type": "stream",
     "text": [
      "MoviePy - Done.\n",
      "Moviepy - Writing video S:\\Academic\\Final Year Project\\crime-detection\\Subclips\\Shoplifting030_x264.mp4\n",
      "\n"
     ]
    },
    {
     "name": "stderr",
     "output_type": "stream",
     "text": [
      "                                                                 \r"
     ]
    },
    {
     "name": "stdout",
     "output_type": "stream",
     "text": [
      "Moviepy - Done !\n",
      "Moviepy - video ready S:\\Academic\\Final Year Project\\crime-detection\\Subclips\\Shoplifting030_x264.mp4\n",
      "Shoplifting030_x264.mp4 195 300\n",
      "Moviepy - Building video S:\\Academic\\Final Year Project\\crime-detection\\Subclips\\Shoplifting031_x264.mp4.\n",
      "MoviePy - Writing audio in Shoplifting031_x264TEMP_MPY_wvf_snd.mp3\n"
     ]
    },
    {
     "name": "stderr",
     "output_type": "stream",
     "text": [
      "                                                                  \r"
     ]
    },
    {
     "name": "stdout",
     "output_type": "stream",
     "text": [
      "MoviePy - Done.\n",
      "Moviepy - Writing video S:\\Academic\\Final Year Project\\crime-detection\\Subclips\\Shoplifting031_x264.mp4\n",
      "\n"
     ]
    },
    {
     "name": "stderr",
     "output_type": "stream",
     "text": [
      "                                                                \r"
     ]
    },
    {
     "name": "stdout",
     "output_type": "stream",
     "text": [
      "Moviepy - Done !\n",
      "Moviepy - video ready S:\\Academic\\Final Year Project\\crime-detection\\Subclips\\Shoplifting031_x264.mp4\n",
      "Shoplifting031_x264.mp4 5 10\n",
      "Moviepy - Building video S:\\Academic\\Final Year Project\\crime-detection\\Subclips\\Shoplifting032_x264.mp4.\n",
      "MoviePy - Writing audio in Shoplifting032_x264TEMP_MPY_wvf_snd.mp3\n"
     ]
    },
    {
     "name": "stderr",
     "output_type": "stream",
     "text": [
      "                                                                    \r"
     ]
    },
    {
     "name": "stdout",
     "output_type": "stream",
     "text": [
      "MoviePy - Done.\n",
      "Moviepy - Writing video S:\\Academic\\Final Year Project\\crime-detection\\Subclips\\Shoplifting032_x264.mp4\n",
      "\n"
     ]
    },
    {
     "name": "stderr",
     "output_type": "stream",
     "text": [
      "                                                               \r"
     ]
    },
    {
     "name": "stdout",
     "output_type": "stream",
     "text": [
      "Moviepy - Done !\n",
      "Moviepy - video ready S:\\Academic\\Final Year Project\\crime-detection\\Subclips\\Shoplifting032_x264.mp4\n",
      "Shoplifting032_x264.mp4 23 30\n",
      "Moviepy - Building video S:\\Academic\\Final Year Project\\crime-detection\\Subclips\\Shoplifting033_x264.mp4.\n",
      "MoviePy - Writing audio in Shoplifting033_x264TEMP_MPY_wvf_snd.mp3\n"
     ]
    },
    {
     "name": "stderr",
     "output_type": "stream",
     "text": [
      "                                                                    \r"
     ]
    },
    {
     "name": "stdout",
     "output_type": "stream",
     "text": [
      "MoviePy - Done.\n",
      "Moviepy - Writing video S:\\Academic\\Final Year Project\\crime-detection\\Subclips\\Shoplifting033_x264.mp4\n",
      "\n"
     ]
    },
    {
     "name": "stderr",
     "output_type": "stream",
     "text": [
      "                                                               \r"
     ]
    },
    {
     "name": "stdout",
     "output_type": "stream",
     "text": [
      "Moviepy - Done !\n",
      "Moviepy - video ready S:\\Academic\\Final Year Project\\crime-detection\\Subclips\\Shoplifting033_x264.mp4\n",
      "Shoplifting033_x264.mp4 20 27\n",
      "Moviepy - Building video S:\\Academic\\Final Year Project\\crime-detection\\Subclips\\Shoplifting034_x264.mp4.\n",
      "MoviePy - Writing audio in Shoplifting034_x264TEMP_MPY_wvf_snd.mp3\n"
     ]
    },
    {
     "name": "stderr",
     "output_type": "stream",
     "text": [
      "                                                                      \r"
     ]
    },
    {
     "name": "stdout",
     "output_type": "stream",
     "text": [
      "MoviePy - Done.\n",
      "Moviepy - Writing video S:\\Academic\\Final Year Project\\crime-detection\\Subclips\\Shoplifting034_x264.mp4\n",
      "\n"
     ]
    },
    {
     "name": "stderr",
     "output_type": "stream",
     "text": [
      "                                                                 \r"
     ]
    },
    {
     "name": "stdout",
     "output_type": "stream",
     "text": [
      "Moviepy - Done !\n",
      "Moviepy - video ready S:\\Academic\\Final Year Project\\crime-detection\\Subclips\\Shoplifting034_x264.mp4\n",
      "Shoplifting034_x264.mp4 156 290\n",
      "Moviepy - Building video S:\\Academic\\Final Year Project\\crime-detection\\Subclips\\Shoplifting036_x264.mp4.\n",
      "MoviePy - Writing audio in Shoplifting036_x264TEMP_MPY_wvf_snd.mp3\n"
     ]
    },
    {
     "name": "stderr",
     "output_type": "stream",
     "text": [
      "                                                                  \r"
     ]
    },
    {
     "name": "stdout",
     "output_type": "stream",
     "text": [
      "MoviePy - Done.\n",
      "Moviepy - Writing video S:\\Academic\\Final Year Project\\crime-detection\\Subclips\\Shoplifting036_x264.mp4\n",
      "\n"
     ]
    },
    {
     "name": "stderr",
     "output_type": "stream",
     "text": [
      "                                                               \r"
     ]
    },
    {
     "name": "stdout",
     "output_type": "stream",
     "text": [
      "Moviepy - Done !\n",
      "Moviepy - video ready S:\\Academic\\Final Year Project\\crime-detection\\Subclips\\Shoplifting036_x264.mp4\n",
      "Shoplifting036_x264.mp4 101 107\n",
      "Moviepy - Building video S:\\Academic\\Final Year Project\\crime-detection\\Subclips\\Shoplifting037_x264.mp4.\n",
      "MoviePy - Writing audio in Shoplifting037_x264TEMP_MPY_wvf_snd.mp3\n"
     ]
    },
    {
     "name": "stderr",
     "output_type": "stream",
     "text": [
      "                                                               \r"
     ]
    },
    {
     "name": "stdout",
     "output_type": "stream",
     "text": [
      "MoviePy - Done.\n",
      "Moviepy - Writing video S:\\Academic\\Final Year Project\\crime-detection\\Subclips\\Shoplifting037_x264.mp4\n",
      "\n"
     ]
    },
    {
     "name": "stderr",
     "output_type": "stream",
     "text": [
      "                                                             \r"
     ]
    },
    {
     "name": "stdout",
     "output_type": "stream",
     "text": [
      "Moviepy - Done !\n",
      "Moviepy - video ready S:\\Academic\\Final Year Project\\crime-detection\\Subclips\\Shoplifting037_x264.mp4\n",
      "Shoplifting037_x264.mp4 36 39\n",
      "Moviepy - Building video S:\\Academic\\Final Year Project\\crime-detection\\Subclips\\Shoplifting038_x264.mp4.\n",
      "MoviePy - Writing audio in Shoplifting038_x264TEMP_MPY_wvf_snd.mp3\n"
     ]
    },
    {
     "name": "stderr",
     "output_type": "stream",
     "text": [
      "                                                                 \r"
     ]
    },
    {
     "name": "stdout",
     "output_type": "stream",
     "text": [
      "MoviePy - Done.\n",
      "Moviepy - Writing video S:\\Academic\\Final Year Project\\crime-detection\\Subclips\\Shoplifting038_x264.mp4\n",
      "\n"
     ]
    },
    {
     "name": "stderr",
     "output_type": "stream",
     "text": [
      "                                                              \r"
     ]
    },
    {
     "name": "stdout",
     "output_type": "stream",
     "text": [
      "Moviepy - Done !\n",
      "Moviepy - video ready S:\\Academic\\Final Year Project\\crime-detection\\Subclips\\Shoplifting038_x264.mp4\n",
      "Shoplifting038_x264.mp4 80 84\n",
      "Moviepy - Building video S:\\Academic\\Final Year Project\\crime-detection\\Subclips\\Shoplifting039_x264.mp4.\n",
      "MoviePy - Writing audio in Shoplifting039_x264TEMP_MPY_wvf_snd.mp3\n"
     ]
    },
    {
     "name": "stderr",
     "output_type": "stream",
     "text": [
      "                                                                  \r"
     ]
    },
    {
     "name": "stdout",
     "output_type": "stream",
     "text": [
      "MoviePy - Done.\n",
      "Moviepy - Writing video S:\\Academic\\Final Year Project\\crime-detection\\Subclips\\Shoplifting039_x264.mp4\n",
      "\n"
     ]
    },
    {
     "name": "stderr",
     "output_type": "stream",
     "text": [
      "                                                               \r"
     ]
    },
    {
     "name": "stdout",
     "output_type": "stream",
     "text": [
      "Moviepy - Done !\n",
      "Moviepy - video ready S:\\Academic\\Final Year Project\\crime-detection\\Subclips\\Shoplifting039_x264.mp4\n",
      "Shoplifting039_x264.mp4 70 76\n",
      "Moviepy - Building video S:\\Academic\\Final Year Project\\crime-detection\\Subclips\\Shoplifting040_x264.mp4.\n",
      "MoviePy - Writing audio in Shoplifting040_x264TEMP_MPY_wvf_snd.mp3\n"
     ]
    },
    {
     "name": "stderr",
     "output_type": "stream",
     "text": [
      "                                                                      \r"
     ]
    },
    {
     "name": "stdout",
     "output_type": "stream",
     "text": [
      "MoviePy - Done.\n",
      "Moviepy - Writing video S:\\Academic\\Final Year Project\\crime-detection\\Subclips\\Shoplifting040_x264.mp4\n",
      "\n"
     ]
    },
    {
     "name": "stderr",
     "output_type": "stream",
     "text": [
      "                                                                 \r"
     ]
    },
    {
     "name": "stdout",
     "output_type": "stream",
     "text": [
      "Moviepy - Done !\n",
      "Moviepy - video ready S:\\Academic\\Final Year Project\\crime-detection\\Subclips\\Shoplifting040_x264.mp4\n",
      "Shoplifting040_x264.mp4 1 66\n",
      "Moviepy - Building video S:\\Academic\\Final Year Project\\crime-detection\\Subclips\\Shoplifting041_x264.mp4.\n",
      "MoviePy - Writing audio in Shoplifting041_x264TEMP_MPY_wvf_snd.mp3\n"
     ]
    },
    {
     "name": "stderr",
     "output_type": "stream",
     "text": [
      "                                                                      \r"
     ]
    },
    {
     "name": "stdout",
     "output_type": "stream",
     "text": [
      "MoviePy - Done.\n",
      "Moviepy - Writing video S:\\Academic\\Final Year Project\\crime-detection\\Subclips\\Shoplifting041_x264.mp4\n",
      "\n"
     ]
    },
    {
     "name": "stderr",
     "output_type": "stream",
     "text": [
      "                                                                 \r"
     ]
    },
    {
     "name": "stdout",
     "output_type": "stream",
     "text": [
      "Moviepy - Done !\n",
      "Moviepy - video ready S:\\Academic\\Final Year Project\\crime-detection\\Subclips\\Shoplifting041_x264.mp4\n",
      "Shoplifting041_x264.mp4 227 307\n",
      "Moviepy - Building video S:\\Academic\\Final Year Project\\crime-detection\\Subclips\\Shoplifting042_x264.mp4.\n",
      "MoviePy - Writing audio in Shoplifting042_x264TEMP_MPY_wvf_snd.mp3\n"
     ]
    },
    {
     "name": "stderr",
     "output_type": "stream",
     "text": [
      "                                                                    \r"
     ]
    },
    {
     "name": "stdout",
     "output_type": "stream",
     "text": [
      "MoviePy - Done.\n",
      "Moviepy - Writing video S:\\Academic\\Final Year Project\\crime-detection\\Subclips\\Shoplifting042_x264.mp4\n",
      "\n"
     ]
    },
    {
     "name": "stderr",
     "output_type": "stream",
     "text": [
      "                                                               \r"
     ]
    },
    {
     "name": "stdout",
     "output_type": "stream",
     "text": [
      "Moviepy - Done !\n",
      "Moviepy - video ready S:\\Academic\\Final Year Project\\crime-detection\\Subclips\\Shoplifting042_x264.mp4\n",
      "Shoplifting042_x264.mp4 70 97\n",
      "Moviepy - Building video S:\\Academic\\Final Year Project\\crime-detection\\Subclips\\Shoplifting043_x264.mp4.\n",
      "MoviePy - Writing audio in Shoplifting043_x264TEMP_MPY_wvf_snd.mp3\n"
     ]
    },
    {
     "name": "stderr",
     "output_type": "stream",
     "text": [
      "                                                                  \r"
     ]
    },
    {
     "name": "stdout",
     "output_type": "stream",
     "text": [
      "MoviePy - Done.\n",
      "Moviepy - Writing video S:\\Academic\\Final Year Project\\crime-detection\\Subclips\\Shoplifting043_x264.mp4\n",
      "\n"
     ]
    },
    {
     "name": "stderr",
     "output_type": "stream",
     "text": [
      "                                                               \r"
     ]
    },
    {
     "name": "stdout",
     "output_type": "stream",
     "text": [
      "Moviepy - Done !\n",
      "Moviepy - video ready S:\\Academic\\Final Year Project\\crime-detection\\Subclips\\Shoplifting043_x264.mp4\n",
      "Shoplifting043_x264.mp4 241 250\n",
      "Moviepy - Building video S:\\Academic\\Final Year Project\\crime-detection\\Subclips\\Shoplifting044_x264.mp4.\n",
      "MoviePy - Writing audio in Shoplifting044_x264TEMP_MPY_wvf_snd.mp3\n"
     ]
    },
    {
     "name": "stderr",
     "output_type": "stream",
     "text": [
      "                                                                  \r"
     ]
    },
    {
     "name": "stdout",
     "output_type": "stream",
     "text": [
      "MoviePy - Done.\n",
      "Moviepy - Writing video S:\\Academic\\Final Year Project\\crime-detection\\Subclips\\Shoplifting044_x264.mp4\n",
      "\n"
     ]
    },
    {
     "name": "stderr",
     "output_type": "stream",
     "text": [
      "                                                                \r"
     ]
    },
    {
     "name": "stdout",
     "output_type": "stream",
     "text": [
      "Moviepy - Done !\n",
      "Moviepy - video ready S:\\Academic\\Final Year Project\\crime-detection\\Subclips\\Shoplifting044_x264.mp4\n",
      "Shoplifting044_x264.mp4 368 377\n",
      "Moviepy - Building video S:\\Academic\\Final Year Project\\crime-detection\\Subclips\\Shoplifting045_x264.mp4.\n",
      "MoviePy - Writing audio in Shoplifting045_x264TEMP_MPY_wvf_snd.mp3\n"
     ]
    },
    {
     "name": "stderr",
     "output_type": "stream",
     "text": [
      "                                                                     \r"
     ]
    },
    {
     "name": "stdout",
     "output_type": "stream",
     "text": [
      "MoviePy - Done.\n",
      "Moviepy - Writing video S:\\Academic\\Final Year Project\\crime-detection\\Subclips\\Shoplifting045_x264.mp4\n",
      "\n"
     ]
    },
    {
     "name": "stderr",
     "output_type": "stream",
     "text": [
      "                                                                  \r"
     ]
    },
    {
     "name": "stdout",
     "output_type": "stream",
     "text": [
      "Moviepy - Done !\n",
      "Moviepy - video ready S:\\Academic\\Final Year Project\\crime-detection\\Subclips\\Shoplifting045_x264.mp4\n",
      "Shoplifting045_x264.mp4 5 54\n",
      "Moviepy - Building video S:\\Academic\\Final Year Project\\crime-detection\\Subclips\\Shoplifting047_x264.mp4.\n",
      "MoviePy - Writing audio in Shoplifting047_x264TEMP_MPY_wvf_snd.mp3\n"
     ]
    },
    {
     "name": "stderr",
     "output_type": "stream",
     "text": [
      "                                                                    \r"
     ]
    },
    {
     "name": "stdout",
     "output_type": "stream",
     "text": [
      "MoviePy - Done.\n",
      "Moviepy - Writing video S:\\Academic\\Final Year Project\\crime-detection\\Subclips\\Shoplifting047_x264.mp4\n",
      "\n"
     ]
    },
    {
     "name": "stderr",
     "output_type": "stream",
     "text": [
      "                                                                \r"
     ]
    },
    {
     "name": "stdout",
     "output_type": "stream",
     "text": [
      "Moviepy - Done !\n",
      "Moviepy - video ready S:\\Academic\\Final Year Project\\crime-detection\\Subclips\\Shoplifting047_x264.mp4\n",
      "Shoplifting047_x264.mp4 47 79\n",
      "Moviepy - Building video S:\\Academic\\Final Year Project\\crime-detection\\Subclips\\Shoplifting048_x264.mp4.\n",
      "MoviePy - Writing audio in Shoplifting048_x264TEMP_MPY_wvf_snd.mp3\n"
     ]
    },
    {
     "name": "stderr",
     "output_type": "stream",
     "text": [
      "                                                                    \r"
     ]
    },
    {
     "name": "stdout",
     "output_type": "stream",
     "text": [
      "MoviePy - Done.\n",
      "Moviepy - Writing video S:\\Academic\\Final Year Project\\crime-detection\\Subclips\\Shoplifting048_x264.mp4\n",
      "\n"
     ]
    },
    {
     "name": "stderr",
     "output_type": "stream",
     "text": [
      "                                                                 \r"
     ]
    },
    {
     "name": "stdout",
     "output_type": "stream",
     "text": [
      "Moviepy - Done !\n",
      "Moviepy - video ready S:\\Academic\\Final Year Project\\crime-detection\\Subclips\\Shoplifting048_x264.mp4\n",
      "Shoplifting048_x264.mp4 1 39\n",
      "Moviepy - Building video S:\\Academic\\Final Year Project\\crime-detection\\Subclips\\Shoplifting049_x264.mp4.\n",
      "MoviePy - Writing audio in Shoplifting049_x264TEMP_MPY_wvf_snd.mp3\n"
     ]
    },
    {
     "name": "stderr",
     "output_type": "stream",
     "text": [
      "                                                                    \r"
     ]
    },
    {
     "name": "stdout",
     "output_type": "stream",
     "text": [
      "MoviePy - Done.\n",
      "Moviepy - Writing video S:\\Academic\\Final Year Project\\crime-detection\\Subclips\\Shoplifting049_x264.mp4\n",
      "\n"
     ]
    },
    {
     "name": "stderr",
     "output_type": "stream",
     "text": [
      "                                                               \r"
     ]
    },
    {
     "name": "stdout",
     "output_type": "stream",
     "text": [
      "Moviepy - Done !\n",
      "Moviepy - video ready S:\\Academic\\Final Year Project\\crime-detection\\Subclips\\Shoplifting049_x264.mp4\n",
      "Shoplifting049_x264.mp4 35 60\n",
      "Moviepy - Building video S:\\Academic\\Final Year Project\\crime-detection\\Subclips\\Shoplifting050_x264.mp4.\n",
      "MoviePy - Writing audio in Shoplifting050_x264TEMP_MPY_wvf_snd.mp3\n"
     ]
    },
    {
     "name": "stderr",
     "output_type": "stream",
     "text": [
      "                                                        \r"
     ]
    },
    {
     "name": "stdout",
     "output_type": "stream",
     "text": [
      "MoviePy - Done.\n",
      "Moviepy - Writing video S:\\Academic\\Final Year Project\\crime-detection\\Subclips\\Shoplifting050_x264.mp4\n",
      "\n"
     ]
    },
    {
     "name": "stderr",
     "output_type": "stream",
     "text": [
      "                                                              \r"
     ]
    },
    {
     "name": "stdout",
     "output_type": "stream",
     "text": [
      "Moviepy - Done !\n",
      "Moviepy - video ready S:\\Academic\\Final Year Project\\crime-detection\\Subclips\\Shoplifting050_x264.mp4\n",
      "Shoplifting050_x264.mp4 4 10\n",
      "Moviepy - Building video S:\\Academic\\Final Year Project\\crime-detection\\Subclips\\Shoplifting051_x264.mp4.\n",
      "MoviePy - Writing audio in Shoplifting051_x264TEMP_MPY_wvf_snd.mp3\n"
     ]
    },
    {
     "name": "stderr",
     "output_type": "stream",
     "text": [
      "                                                                    \r"
     ]
    },
    {
     "name": "stdout",
     "output_type": "stream",
     "text": [
      "MoviePy - Done.\n",
      "Moviepy - Writing video S:\\Academic\\Final Year Project\\crime-detection\\Subclips\\Shoplifting051_x264.mp4\n",
      "\n"
     ]
    },
    {
     "name": "stderr",
     "output_type": "stream",
     "text": [
      "                                                                \r"
     ]
    },
    {
     "name": "stdout",
     "output_type": "stream",
     "text": [
      "Moviepy - Done !\n",
      "Moviepy - video ready S:\\Academic\\Final Year Project\\crime-detection\\Subclips\\Shoplifting051_x264.mp4\n",
      "Shoplifting051_x264.mp4 154 176\n",
      "Moviepy - Building video S:\\Academic\\Final Year Project\\crime-detection\\Subclips\\Shoplifting052_x264.mp4.\n",
      "MoviePy - Writing audio in Shoplifting052_x264TEMP_MPY_wvf_snd.mp3\n"
     ]
    },
    {
     "name": "stderr",
     "output_type": "stream",
     "text": [
      "                                                                  \r"
     ]
    },
    {
     "name": "stdout",
     "output_type": "stream",
     "text": [
      "MoviePy - Done.\n",
      "Moviepy - Writing video S:\\Academic\\Final Year Project\\crime-detection\\Subclips\\Shoplifting052_x264.mp4\n",
      "\n"
     ]
    },
    {
     "name": "stderr",
     "output_type": "stream",
     "text": [
      "                                                               \r"
     ]
    },
    {
     "name": "stdout",
     "output_type": "stream",
     "text": [
      "Moviepy - Done !\n",
      "Moviepy - video ready S:\\Academic\\Final Year Project\\crime-detection\\Subclips\\Shoplifting052_x264.mp4\n",
      "Shoplifting052_x264.mp4 52 64\n",
      "Moviepy - Building video S:\\Academic\\Final Year Project\\crime-detection\\Subclips\\Shoplifting053_x264.mp4.\n",
      "MoviePy - Writing audio in Shoplifting053_x264TEMP_MPY_wvf_snd.mp3\n"
     ]
    },
    {
     "name": "stderr",
     "output_type": "stream",
     "text": [
      "                                                                  \r"
     ]
    },
    {
     "name": "stdout",
     "output_type": "stream",
     "text": [
      "MoviePy - Done.\n",
      "Moviepy - Writing video S:\\Academic\\Final Year Project\\crime-detection\\Subclips\\Shoplifting053_x264.mp4\n",
      "\n"
     ]
    },
    {
     "name": "stderr",
     "output_type": "stream",
     "text": [
      "                                                                \r"
     ]
    },
    {
     "name": "stdout",
     "output_type": "stream",
     "text": [
      "Moviepy - Done !\n",
      "Moviepy - video ready S:\\Academic\\Final Year Project\\crime-detection\\Subclips\\Shoplifting053_x264.mp4\n",
      "Shoplifting053_x264.mp4 42 59\n",
      "Moviepy - Building video S:\\Academic\\Final Year Project\\crime-detection\\Subclips\\Shoplifting054_x264.mp4.\n",
      "MoviePy - Writing audio in Shoplifting054_x264TEMP_MPY_wvf_snd.mp3\n"
     ]
    },
    {
     "name": "stderr",
     "output_type": "stream",
     "text": [
      "                                                                    \r"
     ]
    },
    {
     "name": "stdout",
     "output_type": "stream",
     "text": [
      "MoviePy - Done.\n",
      "Moviepy - Writing video S:\\Academic\\Final Year Project\\crime-detection\\Subclips\\Shoplifting054_x264.mp4\n",
      "\n"
     ]
    },
    {
     "name": "stderr",
     "output_type": "stream",
     "text": [
      "                                                                \r"
     ]
    },
    {
     "name": "stdout",
     "output_type": "stream",
     "text": [
      "Moviepy - Done !\n",
      "Moviepy - video ready S:\\Academic\\Final Year Project\\crime-detection\\Subclips\\Shoplifting054_x264.mp4\n",
      "Shoplifting054_x264.mp4 17 24\n",
      "Moviepy - Building video S:\\Academic\\Final Year Project\\crime-detection\\Subclips\\Shoplifting055_x264.mp4.\n",
      "MoviePy - Writing audio in Shoplifting055_x264TEMP_MPY_wvf_snd.mp3\n"
     ]
    },
    {
     "name": "stderr",
     "output_type": "stream",
     "text": [
      "                                                                    \r"
     ]
    },
    {
     "name": "stdout",
     "output_type": "stream",
     "text": [
      "MoviePy - Done.\n",
      "Moviepy - Writing video S:\\Academic\\Final Year Project\\crime-detection\\Subclips\\Shoplifting055_x264.mp4\n",
      "\n"
     ]
    },
    {
     "name": "stderr",
     "output_type": "stream",
     "text": [
      "                                                                \r"
     ]
    },
    {
     "name": "stdout",
     "output_type": "stream",
     "text": [
      "Moviepy - Done !\n",
      "Moviepy - video ready S:\\Academic\\Final Year Project\\crime-detection\\Subclips\\Shoplifting055_x264.mp4\n",
      "Shoplifting055_x264.mp4 74 102\n"
     ]
    }
   ],
   "source": [
    "for info in infos:\n",
    "    trimVideo(info)"
   ]
  },
  {
   "cell_type": "code",
   "execution_count": null,
   "metadata": {},
   "outputs": [],
   "source": []
  }
 ],
 "metadata": {
  "kernelspec": {
   "display_name": "Project",
   "language": "python",
   "name": "myenv"
  },
  "language_info": {
   "codemirror_mode": {
    "name": "ipython",
    "version": 3
   },
   "file_extension": ".py",
   "mimetype": "text/x-python",
   "name": "python",
   "nbconvert_exporter": "python",
   "pygments_lexer": "ipython3",
   "version": "3.9.16"
  },
  "toc": {
   "base_numbering": 1,
   "nav_menu": {},
   "number_sections": false,
   "sideBar": true,
   "skip_h1_title": false,
   "title_cell": "Table of Contents",
   "title_sidebar": "Contents",
   "toc_cell": false,
   "toc_position": {},
   "toc_section_display": true,
   "toc_window_display": false
  }
 },
 "nbformat": 4,
 "nbformat_minor": 4
}
