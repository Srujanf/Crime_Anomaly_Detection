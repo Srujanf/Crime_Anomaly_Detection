{
 "cells": [
  {
   "cell_type": "code",
   "execution_count": 2,
   "metadata": {
    "ExecuteTime": {
     "end_time": "2021-03-29T11:22:22.669733Z",
     "start_time": "2021-03-29T11:22:22.496088Z"
    }
   },
   "outputs": [],
   "source": [
    "import os\n",
    "import cv2"
   ]
  },
  {
   "cell_type": "code",
   "execution_count": null,
   "metadata": {},
   "outputs": [],
   "source": [
    "for crime in os.listdir(r\"S:\\Academic\\Final Year Project\\crime-detection\\Subclips\"):\n",
    "    print(crime.split(\".\")[0])"
   ]
  },
  {
   "cell_type": "code",
   "execution_count": 11,
   "metadata": {
    "ExecuteTime": {
     "end_time": "2021-03-29T11:22:23.093364Z",
     "start_time": "2021-03-29T11:22:23.074362Z"
    }
   },
   "outputs": [
    {
     "name": "stdout",
     "output_type": "stream",
     "text": [
      "250\n"
     ]
    }
   ],
   "source": [
    "crimes = [crime.split(\".\")[0] for crime in os.listdir(r\"S:\\Academic\\Final Year Project\\crime-detection\\Subclips\")]\n",
    "print(len(crimes))"
   ]
  },
  {
   "cell_type": "code",
   "execution_count": 12,
   "metadata": {
    "ExecuteTime": {
     "end_time": "2021-03-29T11:22:24.182092Z",
     "start_time": "2021-03-29T11:22:23.649759Z"
    }
   },
   "outputs": [],
   "source": [
    "from deepstack_sdk import ServerConfig, Detection\n",
    "config = ServerConfig(\"http://localhost:80\")\n",
    "detection = Detection(config)"
   ]
  },
  {
   "cell_type": "code",
   "execution_count": 13,
   "metadata": {
    "ExecuteTime": {
     "end_time": "2021-03-29T11:23:31.649479Z",
     "start_time": "2021-03-29T11:23:31.632449Z"
    }
   },
   "outputs": [],
   "source": [
    "def saveFrames(name):\n",
    "    person = False\n",
    "    cap = cv2.VideoCapture(f'S:\\Academic\\Final Year Project\\crime-detection\\Subclips\\{name}.mp4')\n",
    "    i, n = 1, 30\n",
    "    j = 1\n",
    "    if cap.isOpened()==False:\n",
    "        print(\"Either file not found or wrong codec used\")\n",
    "    while cap.isOpened():\n",
    "        ret, frame = cap.read()\n",
    "        if ret == False:\n",
    "            break\n",
    "        if i%n==0:\n",
    "            i+=1\n",
    "            response = detection.detectObject(frame,output=None)\n",
    "            for obj in response:\n",
    "                if obj.label==\"person\" and obj.confidence>0.70:\n",
    "                    cv2.imwrite(f'S:\\Academic\\Final Year Project\\crime-detection\\Frames\\Crime\\{name}_fr{str(j)}.jpg',frame)\n",
    "                    j+=1\n",
    "                else:\n",
    "                    pass\n",
    "        else:\n",
    "            i+=1\n",
    "    cap.release()\n",
    "    cv2.destroyAllWindows()"
   ]
  },
  {
   "cell_type": "code",
   "execution_count": 14,
   "metadata": {
    "ExecuteTime": {
     "end_time": "2021-03-29T12:21:11.266868Z",
     "start_time": "2021-03-29T11:23:35.937692Z"
    },
    "cell_style": "center"
   },
   "outputs": [
    {
     "name": "stdout",
     "output_type": "stream",
     "text": [
      "20 file done.\n",
      "40 file done.\n",
      "60 file done.\n",
      "80 file done.\n",
      "100 file done.\n",
      "120 file done.\n",
      "140 file done.\n",
      "160 file done.\n",
      "180 file done.\n",
      "200 file done.\n",
      "220 file done.\n",
      "240 file done.\n"
     ]
    }
   ],
   "source": [
    "length = len(crimes)\n",
    "i = 1\n",
    "\n",
    "for crime in crimes:\n",
    "    saveFrames(crime)\n",
    "    if i%20==0:\n",
    "        print(f\"{i} file done.\")\n",
    "    i+=1"
   ]
  },
  {
   "cell_type": "code",
   "execution_count": null,
   "metadata": {},
   "outputs": [],
   "source": []
  }
 ],
 "metadata": {
  "kernelspec": {
   "display_name": "Python 3",
   "language": "python",
   "name": "python3"
  },
  "language_info": {
   "codemirror_mode": {
    "name": "ipython",
    "version": 3
   },
   "file_extension": ".py",
   "mimetype": "text/x-python",
   "name": "python",
   "nbconvert_exporter": "python",
   "pygments_lexer": "ipython3",
   "version": "3.10.0"
  },
  "toc": {
   "base_numbering": 1,
   "nav_menu": {},
   "number_sections": false,
   "sideBar": true,
   "skip_h1_title": false,
   "title_cell": "Table of Contents",
   "title_sidebar": "Contents",
   "toc_cell": false,
   "toc_position": {},
   "toc_section_display": true,
   "toc_window_display": false
  }
 },
 "nbformat": 4,
 "nbformat_minor": 4
}
