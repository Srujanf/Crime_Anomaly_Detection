{
 "cells": [
  {
   "cell_type": "code",
   "execution_count": 1,
   "metadata": {
    "ExecuteTime": {
     "end_time": "2021-03-31T09:56:35.900173Z",
     "start_time": "2021-03-31T09:56:35.353465Z"
    }
   },
   "outputs": [],
   "source": [
    "import pandas as pd\n",
    "import numpy as np"
   ]
  },
  {
   "cell_type": "code",
   "execution_count": 2,
   "metadata": {
    "ExecuteTime": {
     "end_time": "2021-03-31T09:56:35.932155Z",
     "start_time": "2021-03-31T09:56:35.903159Z"
    }
   },
   "outputs": [
    {
     "data": {
      "text/html": [
       "<div>\n",
       "<style scoped>\n",
       "    .dataframe tbody tr th:only-of-type {\n",
       "        vertical-align: middle;\n",
       "    }\n",
       "\n",
       "    .dataframe tbody tr th {\n",
       "        vertical-align: top;\n",
       "    }\n",
       "\n",
       "    .dataframe thead th {\n",
       "        text-align: right;\n",
       "    }\n",
       "</style>\n",
       "<table border=\"1\" class=\"dataframe\">\n",
       "  <thead>\n",
       "    <tr style=\"text-align: right;\">\n",
       "      <th></th>\n",
       "      <th>videos</th>\n",
       "      <th>true labels</th>\n",
       "      <th>predicted labels</th>\n",
       "    </tr>\n",
       "  </thead>\n",
       "  <tbody>\n",
       "    <tr>\n",
       "      <th>0</th>\n",
       "      <td>Burglary082_x264_fr1.jpg</td>\n",
       "      <td>1</td>\n",
       "      <td>0</td>\n",
       "    </tr>\n",
       "    <tr>\n",
       "      <th>1</th>\n",
       "      <td>Burglary083_x264_fr1.jpg</td>\n",
       "      <td>1</td>\n",
       "      <td>1</td>\n",
       "    </tr>\n",
       "    <tr>\n",
       "      <th>2</th>\n",
       "      <td>Burglary083_x264_fr2.jpg</td>\n",
       "      <td>1</td>\n",
       "      <td>1</td>\n",
       "    </tr>\n",
       "    <tr>\n",
       "      <th>3</th>\n",
       "      <td>Burglary084_x264_fr1.jpg</td>\n",
       "      <td>1</td>\n",
       "      <td>1</td>\n",
       "    </tr>\n",
       "    <tr>\n",
       "      <th>4</th>\n",
       "      <td>Burglary084_x264_fr10.jpg</td>\n",
       "      <td>1</td>\n",
       "      <td>1</td>\n",
       "    </tr>\n",
       "  </tbody>\n",
       "</table>\n",
       "</div>"
      ],
      "text/plain": [
       "                      videos  true labels  predicted labels\n",
       "0   Burglary082_x264_fr1.jpg            1                 0\n",
       "1   Burglary083_x264_fr1.jpg            1                 1\n",
       "2   Burglary083_x264_fr2.jpg            1                 1\n",
       "3   Burglary084_x264_fr1.jpg            1                 1\n",
       "4  Burglary084_x264_fr10.jpg            1                 1"
      ]
     },
     "execution_count": 2,
     "metadata": {},
     "output_type": "execute_result"
    }
   ],
   "source": [
    "df = pd.read_csv(\"test_result.csv\")\n",
    "df.head()"
   ]
  },
  {
   "cell_type": "code",
   "execution_count": 3,
   "metadata": {
    "ExecuteTime": {
     "end_time": "2021-03-31T09:56:35.963125Z",
     "start_time": "2021-03-31T09:56:35.934127Z"
    }
   },
   "outputs": [],
   "source": [
    "proper_preds = df[df[\"true labels\"]==df[\"predicted labels\"]]\n",
    "incorrect_preds = df[df[\"true labels\"]!=df[\"predicted labels\"]]"
   ]
  },
  {
   "cell_type": "code",
   "execution_count": 4,
   "metadata": {
    "ExecuteTime": {
     "end_time": "2021-03-31T09:56:35.978124Z",
     "start_time": "2021-03-31T09:56:35.966141Z"
    }
   },
   "outputs": [],
   "source": [
    "total = df.shape[0]\n",
    "correct = proper_preds.shape[0]/total\n",
    "wrong = incorrect_preds.shape[0]/total"
   ]
  },
  {
   "cell_type": "code",
   "execution_count": 5,
   "metadata": {
    "ExecuteTime": {
     "end_time": "2021-03-31T09:56:35.994123Z",
     "start_time": "2021-03-31T09:56:35.982126Z"
    }
   },
   "outputs": [
    {
     "name": "stdout",
     "output_type": "stream",
     "text": [
      "Correct Predictions:\t93.26951839664972%\n",
      "\n",
      "Incorrect Predictions:\t6.730481603350285%\n"
     ]
    }
   ],
   "source": [
    "print(f\"Correct Predictions:\\t{correct*100}%\\n\\nIncorrect Predictions:\\t{wrong*100}%\")"
   ]
  },
  {
   "cell_type": "code",
   "execution_count": 6,
   "metadata": {
    "ExecuteTime": {
     "end_time": "2021-03-31T09:56:36.026155Z",
     "start_time": "2021-03-31T09:56:35.997126Z"
    }
   },
   "outputs": [],
   "source": [
    "correct_crime_pred = df[(df[\"true labels\"]==df[\"predicted labels\"]) & (df[\"true labels\"]==1)]\n",
    "\n",
    "correct_normal_pred = df[(df[\"true labels\"]==df[\"predicted labels\"]) & (df[\"true labels\"]==0)]"
   ]
  },
  {
   "cell_type": "code",
   "execution_count": 7,
   "metadata": {
    "ExecuteTime": {
     "end_time": "2021-03-31T09:56:36.042124Z",
     "start_time": "2021-03-31T09:56:36.030129Z"
    }
   },
   "outputs": [],
   "source": [
    "crime_not_normal = df[(df[\"predicted labels\"]==0) & (df[\"true labels\"]==1)]\n",
    "\n",
    "normal_not_crime = df[(df[\"predicted labels\"]==1) & (df[\"true labels\"]==0)]"
   ]
  },
  {
   "cell_type": "code",
   "execution_count": 8,
   "metadata": {
    "ExecuteTime": {
     "end_time": "2021-03-31T09:56:36.058162Z",
     "start_time": "2021-03-31T09:56:36.045124Z"
    }
   },
   "outputs": [
    {
     "name": "stdout",
     "output_type": "stream",
     "text": [
      "[[1611, 131]\n",
      "[94, 1507]]\n"
     ]
    }
   ],
   "source": [
    "cm = [\n",
    "         # Predicted Crime,             Predicted Normal\n",
    "    [correct_crime_pred.shape[0] , crime_not_normal.shape[0]], # Actual Crime   [TP , FN] [00 , 01]\n",
    "    [normal_not_crime.shape[0] , correct_normal_pred.shape[0]] # Actual Normal  [FP , TN] [10 , 11]\n",
    "]\n",
    "\n",
    "print(f'[{cm[0]}\\n{cm[1]}]')"
   ]
  },
  {
   "cell_type": "code",
   "execution_count": 9,
   "metadata": {
    "ExecuteTime": {
     "end_time": "2021-03-31T09:56:36.074157Z",
     "start_time": "2021-03-31T09:56:36.061124Z"
    }
   },
   "outputs": [],
   "source": [
    "Precision_crime = cm[0][0]/(cm[0][0]+cm[1][0])\n",
    "\n",
    "Precision_normal = cm[1][1]/(cm[1][1]+cm[0][1])"
   ]
  },
  {
   "cell_type": "code",
   "execution_count": 10,
   "metadata": {
    "ExecuteTime": {
     "end_time": "2021-03-31T09:56:36.090126Z",
     "start_time": "2021-03-31T09:56:36.081268Z"
    }
   },
   "outputs": [],
   "source": [
    "Recall_crime = cm[0][0]/(cm[0][0]+cm[0][1])\n",
    "Recall_normal = cm[1][1]/(cm[1][1]+cm[1][0])"
   ]
  },
  {
   "cell_type": "code",
   "execution_count": 11,
   "metadata": {
    "ExecuteTime": {
     "end_time": "2021-03-31T09:56:36.121124Z",
     "start_time": "2021-03-31T09:56:36.093125Z"
    }
   },
   "outputs": [],
   "source": [
    "F1_crime = (2*Precision_crime*Recall_crime)/(Precision_crime+Recall_crime)\n",
    "F1_normal = (2*Precision_normal*Recall_normal)/(Precision_normal+Recall_normal)"
   ]
  },
  {
   "cell_type": "code",
   "execution_count": 12,
   "metadata": {
    "ExecuteTime": {
     "end_time": "2021-03-31T09:56:36.136125Z",
     "start_time": "2021-03-31T09:56:36.123128Z"
    }
   },
   "outputs": [],
   "source": [
    "accuracy = correct/(correct+wrong)"
   ]
  },
  {
   "cell_type": "code",
   "execution_count": 13,
   "metadata": {
    "ExecuteTime": {
     "end_time": "2021-03-31T09:56:36.152153Z",
     "start_time": "2021-03-31T09:56:36.139127Z"
    }
   },
   "outputs": [
    {
     "name": "stdout",
     "output_type": "stream",
     "text": [
      "Class\tPrecision\t\tRecall\t\t\tF1 Score\n",
      "\n",
      "Crime:\t94.48680351906158%\t92.47990815154994%\t93.47258485639686%\n",
      "Normal:\t92.002442002442%\t94.12866958151156%\t93.0534115467737%\n",
      "\n",
      "\n",
      "\n",
      "Accuracy: 93.26951839664972%\n"
     ]
    }
   ],
   "source": [
    "print(\"Class\\tPrecision\\t\\tRecall\\t\\t\\tF1 Score\")\n",
    "print()\n",
    "print(f\"Crime:\\t{Precision_crime*100}%\\t{Recall_crime*100}%\\t{F1_crime*100}%\")\n",
    "print(f\"Normal:\\t{Precision_normal*100}%\\t{Recall_normal*100}%\\t{F1_normal*100}%\")\n",
    "print(\"\\n\\n\")\n",
    "print(f\"Accuracy: {accuracy*100}%\")"
   ]
  },
  {
   "cell_type": "code",
   "execution_count": null,
   "metadata": {},
   "outputs": [],
   "source": []
  }
 ],
 "metadata": {
  "kernelspec": {
   "display_name": "Python 3",
   "language": "python",
   "name": "python3"
  },
  "language_info": {
   "codemirror_mode": {
    "name": "ipython",
    "version": 3
   },
   "file_extension": ".py",
   "mimetype": "text/x-python",
   "name": "python",
   "nbconvert_exporter": "python",
   "pygments_lexer": "ipython3",
   "version": "3.10.0"
  },
  "toc": {
   "base_numbering": 1,
   "nav_menu": {},
   "number_sections": false,
   "sideBar": true,
   "skip_h1_title": false,
   "title_cell": "Table of Contents",
   "title_sidebar": "Contents",
   "toc_cell": false,
   "toc_position": {},
   "toc_section_display": true,
   "toc_window_display": false
  }
 },
 "nbformat": 4,
 "nbformat_minor": 4
}
